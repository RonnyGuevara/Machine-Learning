{
  "nbformat": 4,
  "nbformat_minor": 0,
  "metadata": {
    "colab": {
      "name": "Untitled0.ipynb",
      "provenance": [],
      "collapsed_sections": [],
      "authorship_tag": "ABX9TyNZU7reqEB8HsLf8WsNcuRp",
      "include_colab_link": true
    },
    "kernelspec": {
      "name": "python3",
      "display_name": "Python 3"
    },
    "language_info": {
      "name": "python"
    }
  },
  "cells": [
    {
      "cell_type": "markdown",
      "metadata": {
        "id": "view-in-github",
        "colab_type": "text"
      },
      "source": [
        "<a href=\"https://colab.research.google.com/github/RonnyGuevara/Machine-Learning/blob/main/PT1.ipynb\" target=\"_parent\"><img src=\"https://colab.research.google.com/assets/colab-badge.svg\" alt=\"Open In Colab\"/></a>"
      ]
    },
    {
      "cell_type": "markdown",
      "metadata": {
        "id": "ngu2Unss0Y2b"
      },
      "source": [
        "####El cuarteto de Ascombe\n",
        "El cuarteto de Anscombe llamado asi por F. J. Ascombe corresponde a cuatro conjuntos de datos que recurrentemente se utiliza para explicar la ventajas de la visualización como herramienta exploratoria (Coromina, 2009)\n",
        "Los datos descritos en cada conjunto son distintos, pero con propiedades estadisticas iguales como: media aritmetica, varianza, correlación, coeficiente de correlación y recta de regresión."
      ]
    },
    {
      "cell_type": "code",
      "metadata": {
        "id": "dlft4Xs70Vm7"
      },
      "source": [
        "#Llamado de librerías\n",
        "import pandas as pd\n",
        "import numpy as np\n",
        "from google.colab import files\n",
        "import matplotlib.pyplot as plt\n",
        "\n",
        "#Lectura de Cuadrantes de Ascombe\n",
        "cuadrante1=pd.read_excel('CUADRANTE1.xlsx')\n",
        "cuadrante2=pd.read_excel('CUADRANTE2.xlsx')\n",
        "cuadrante3=pd.read_excel('CUADRANTE3.xlsx')\n",
        "cuadrante4=pd.read_excel('CUADRANTE4.xlsx')"
      ],
      "execution_count": 18,
      "outputs": []
    },
    {
      "cell_type": "code",
      "metadata": {
        "colab": {
          "base_uri": "https://localhost:8080/",
          "height": 1000
        },
        "id": "A0P3K2td0dfg",
        "outputId": "b05dcc1b-c841-4fa1-8ebd-4d5d1adf0386"
      },
      "source": [
        "#Solicitud de ingreso de datos al usuario\n",
        "dato1=input(\"Ingrese un numero para X: \")\n",
        "dato2=input(\"Ingrese un numero para Y: \")\n",
        "print (f\"El numero para X es: {str(dato1)}\")\n",
        "print (f\"El numero para Y es: {str(dato2)}\")\n",
        "valor1=float(dato1)\n",
        "valor2=float(dato2)\n",
        "datos=np.array([[valor1, valor2]])\n",
        "datos=pd.DataFrame(datos)\n",
        "\n",
        "#Concatenación de matrices\n",
        "matrizc1=np.concatenate((cuadrante1, datos), 0)\n",
        "matrizc2=np.concatenate((cuadrante2, datos), 0)\n",
        "matrizc3=np.concatenate((cuadrante3, datos), 0)\n",
        "matrizc4=np.concatenate((cuadrante4, datos), 0)\n",
        "matrizc1=pd.DataFrame(matrizc1)\n",
        "matrizc2=pd.DataFrame(matrizc2)\n",
        "matrizc3=pd.DataFrame(matrizc3)\n",
        "matrizc4=pd.DataFrame(matrizc4)\n",
        "x1=matrizc1[0]\n",
        "y1=matrizc1[1]\n",
        "x2=matrizc2[0]\n",
        "y2=matrizc2[1]\n",
        "x3=matrizc3[0]\n",
        "y3=matrizc3[1]\n",
        "x4=matrizc4[0]\n",
        "y4=matrizc4[1]\n",
        "\n",
        "#Grafica de cuadrantes\n",
        "#Primer Cuadrante\n",
        "plt.scatter(x1,y1)\n",
        "plt.scatter(datos[0], datos[1], color='r')\n",
        "plt.show()\n",
        "\n",
        "#Segundo Cuadrante\n",
        "plt.scatter(x2,y2)\n",
        "plt.scatter(datos[0], datos[1], color='r')\n",
        "plt.show()\n",
        "\n",
        "#Tercer Cuadrante\n",
        "plt.scatter(x3,y3)\n",
        "plt.scatter(datos[0], datos[1], color='r')\n",
        "plt.show()\n",
        "\n",
        "#Cuarto Cuadrante\n",
        "plt.scatter(x4,y4)\n",
        "plt.scatter(datos[0], datos[1], color='r')\n",
        "plt.show()\n"
      ],
      "execution_count": 19,
      "outputs": [
        {
          "output_type": "stream",
          "name": "stdout",
          "text": [
            "Ingrese un numero para X: 16\n",
            "Ingrese un numero para Y: 8\n",
            "El numero para X es: 16\n",
            "El numero para Y es: 8\n"
          ]
        },
        {
          "output_type": "display_data",
          "data": {
            "image/png": "[encoded data removed]",
            "text/plain": [
              "<Figure size 432x288 with 1 Axes>"
            ]
          },
          "metadata": {
            "needs_background": "light"
          }
        },
        {
          "output_type": "display_data",
          "data": {
            "image/png": "[encoded data removed]",
            "text/plain": [
              "<Figure size 432x288 with 1 Axes>"
            ]
          },
          "metadata": {
            "needs_background": "light"
          }
        },
        {
          "output_type": "display_data",
          "data": {
            "image/png": "[encoded data removed]",
            "text/plain": [
              "<Figure size 432x288 with 1 Axes>"
            ]
          },
          "metadata": {
            "needs_background": "light"
          }
        },
        {
          "output_type": "display_data",
          "data": {
            "image/png": "[encoded data removed]",
            "text/plain": [
              "<Figure size 432x288 with 1 Axes>"
            ]
          },
          "metadata": {
            "needs_background": "light"
          }
        }
      ]
    },
    {
      "cell_type": "markdown",
      "metadata": {
        "id": "CKFunVn95gHP"
      },
      "source": [
        "Para detrminar a que data set corresponde los cuatro nuevos datos ([16,8]; [8,6]; [16,10] y [16,6]) podemos utilizar el código para interpretar las gráficas, de esta manera se determina que:\n",
        "\n",
        "[16,8] pertenece al primer cuadrante\n",
        "\n",
        "[8,6] pertenece al cuarto cuadrante\n",
        "\n",
        "[16,10] pertenece al tercer cuadrante\n",
        "\n",
        "[16,6] pertenece al segundi cuadrante"
      ]
    }
  ]
}