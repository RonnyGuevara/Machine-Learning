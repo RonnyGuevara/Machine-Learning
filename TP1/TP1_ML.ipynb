{
  "nbformat": 4,
  "nbformat_minor": 0,
  "metadata": {
    "colab": {
      "name": "TP1_ML.ipynb",
      "provenance": [],
      "collapsed_sections": [],
      "authorship_tag": "ABX9TyODJaacKssgqTs11Opan2MQ",
      "include_colab_link": true
    },
    "kernelspec": {
      "name": "python3",
      "display_name": "Python 3"
    },
    "language_info": {
      "name": "python"
    }
  },
  "cells": [
    {
      "cell_type": "markdown",
      "metadata": {
        "id": "view-in-github",
        "colab_type": "text"
      },
      "source": [
        "<a href=\"https://colab.research.google.com/github/RonnyGuevara/Machine-Learning/blob/main/TP1/TP1_ML.ipynb\" target=\"_parent\"><img src=\"https://colab.research.google.com/assets/colab-badge.svg\" alt=\"Open In Colab\"/></a>"
      ]
    },
    {
      "cell_type": "markdown",
      "source": [
        "#Práctica 1:  El cuarteto de Anscombe\n",
        "\n",
        "##Presentado por: Ronny Guevara\n",
        "\n",
        "## Objetivo General\n",
        "Determinar la ubicación para nuevos datos dentro de los dataset descritos.\n",
        "## Objetivos Específicos\n",
        "*   Determinar mediante lógica la ubicación de datos en distintos dataset propuestos.\n",
        "*   Visualización de resultados\n",
        "\n",
        "\n",
        "\n",
        "\n",
        "\n"
      ],
      "metadata": {
        "id": "Yb1K49GH2LKg"
      }
    },
    {
      "cell_type": "markdown",
      "source": [
        "###Problema\n",
        "Supongamos que tenemos cuatro nuevos datos ([16,8]; [8,6]; [16,10] y [16,6]) y \n",
        "sabemos que cada uno corresponde a un único dataset. Sin embargo, los \n",
        "parámetros estadísticos de los cuatro datasets son idénticos. Cómo\n",
        "determinar entonces a qué dataset corresponde cada punto? "
      ],
      "metadata": {
        "id": "J8ZP8T2a96iN"
      }
    },
    {
      "cell_type": "markdown",
      "source": [
        "###Solución\n",
        "Se plantea una posible solución, desarrollar un aplicativo que permita al usuario el ingreso del nuevo dato y graficarlo dentro de cada dataset respectiva. Esta solución permite determinar la ubicación de los nuevos datos mediante la visualización de la tendencia de cada dataset propuesto.\n",
        "Pero primero debemos preguntarnos, que es el cuarteto de Anscombe?"
      ],
      "metadata": {
        "id": "KzvoDs8H-kkN"
      }
    },
    {
      "cell_type": "markdown",
      "metadata": {
        "id": "ngu2Unss0Y2b"
      },
      "source": [
        "####El cuarteto de Anscombe\n",
        "El cuarteto de Anscombe llamado asi por F. J. Ascombe corresponde a cuatro conjuntos de datos que recurrentemente se utiliza para explicar la ventajas de la visualización como herramienta exploratoria (Coromina, 2009)\n",
        "Los datos descritos en cada conjunto son distintos, pero con propiedades estadisticas iguales como: media aritmetica, varianza, correlación, coeficiente de correlación y recta de regresión."
      ]
    },
    {
      "cell_type": "markdown",
      "source": [
        "###Desarrollo"
      ],
      "metadata": {
        "id": "tCWtbGtVBWDO"
      }
    },
    {
      "cell_type": "code",
      "source": [
        "from google.colab import drive\n",
        "drive.mount('/content/drive')"
      ],
      "metadata": {
        "colab": {
          "base_uri": "https://localhost:8080/"
        },
        "id": "yBIl_Mv36wzP",
        "outputId": "c7c67ab7-d26a-4d15-95c4-f91db7427574"
      },
      "execution_count": 3,
      "outputs": [
        {
          "output_type": "stream",
          "name": "stdout",
          "text": [
            "Drive already mounted at /content/drive; to attempt to forcibly remount, call drive.mount(\"/content/drive\", force_remount=True).\n"
          ]
        }
      ]
    },
    {
      "cell_type": "code",
      "metadata": {
        "id": "dlft4Xs70Vm7"
      },
      "source": [
        "#Llamado de librerías\n",
        "import pandas as pd\n",
        "import numpy as np\n",
        "from google.colab import files\n",
        "import matplotlib.pyplot as plt\n",
        "\n",
        "#Lectura de Cuadrantes de Ascombe\n",
        "cuadrante1 = pd.read_excel('/content/drive/MyDrive/Colab Notebooks/CUADRANTE1.xlsx')\n",
        "cuadrante2 = pd.read_excel('/content/drive/MyDrive/Colab Notebooks/CUADRANTE2.xlsx')\n",
        "cuadrante3 = pd.read_excel('/content/drive/MyDrive/Colab Notebooks/CUADRANTE3.xlsx')\n",
        "cuadrante4 = pd.read_excel('/content/drive/MyDrive/Colab Notebooks/CUADRANTE4.xlsx')"
      ],
      "execution_count": 8,
      "outputs": []
    },
    {
      "cell_type": "code",
      "metadata": {
        "colab": {
          "base_uri": "https://localhost:8080/",
          "height": 1000
        },
        "id": "A0P3K2td0dfg",
        "outputId": "4a2ed1a6-7886-424f-c6fe-d20bf0b4a065"
      },
      "source": [
        "#Solicitud de ingreso de datos al usuario\n",
        "dato1=input(\"Ingrese un numero para X: \")\n",
        "dato2=input(\"Ingrese un numero para Y: \")\n",
        "print (f\"El numero para X es: {str(dato1)}\")\n",
        "print (f\"El numero para Y es: {str(dato2)}\")\n",
        "valor1=float(dato1)\n",
        "valor2=float(dato2)\n",
        "datos=np.array([[valor1, valor2]])\n",
        "datos=pd.DataFrame(datos)\n",
        "\n",
        "#Concatenación de matrices\n",
        "matrizc1=np.concatenate((cuadrante1, datos), 0)\n",
        "matrizc2=np.concatenate((cuadrante2, datos), 0)\n",
        "matrizc3=np.concatenate((cuadrante3, datos), 0)\n",
        "matrizc4=np.concatenate((cuadrante4, datos), 0)\n",
        "matrizc1=pd.DataFrame(matrizc1)\n",
        "matrizc2=pd.DataFrame(matrizc2)\n",
        "matrizc3=pd.DataFrame(matrizc3)\n",
        "matrizc4=pd.DataFrame(matrizc4)\n",
        "x1=matrizc1[0]\n",
        "y1=matrizc1[1]\n",
        "x2=matrizc2[0]\n",
        "y2=matrizc2[1]\n",
        "x3=matrizc3[0]\n",
        "y3=matrizc3[1]\n",
        "x4=matrizc4[0]\n",
        "y4=matrizc4[1]\n",
        "\n",
        "#Gráfica de cuadrantes\n",
        "#Primer Cuadrante\n",
        "plt.scatter(x1,y1)\n",
        "plt.scatter(datos[0], datos[1], color='r')\n",
        "plt.title('Dataset I')\n",
        "plt.show()\n",
        "\n",
        "#Segundo Cuadrante\n",
        "plt.scatter(x2,y2)\n",
        "plt.scatter(datos[0], datos[1], color='r')\n",
        "plt.title('Dataset II')\n",
        "plt.show()\n",
        "\n",
        "#Tercer Cuadrante\n",
        "plt.scatter(x3,y3)\n",
        "plt.scatter(datos[0], datos[1], color='r')\n",
        "plt.title('Dataset III')\n",
        "plt.show()\n",
        "\n",
        "#Cuarto Cuadrante\n",
        "plt.scatter(x4,y4)\n",
        "plt.scatter(datos[0], datos[1], color='r')\n",
        "plt.title('Dataset IV')\n",
        "plt.show()\n"
      ],
      "execution_count": 11,
      "outputs": [
        {
          "output_type": "stream",
          "name": "stdout",
          "text": [
            "Ingrese un numero para X: 10\n",
            "Ingrese un numero para Y: 10\n",
            "El numero para X es: 10\n",
            "El numero para Y es: 10\n"
          ]
        },
        {
          "output_type": "display_data",
          "data": {
            "text/plain": [
              "<Figure size 432x288 with 1 Axes>"
            ],
            "image/png": "[encoded data removed]"
          },
          "metadata": {
            "needs_background": "light"
          }
        },
        {
          "output_type": "display_data",
          "data": {
            "text/plain": [
              "<Figure size 432x288 with 1 Axes>"
            ],
            "image/png": "[encoded data removed]"
          },
          "metadata": {
            "needs_background": "light"
          }
        },
        {
          "output_type": "display_data",
          "data": {
            "text/plain": [
              "<Figure size 432x288 with 1 Axes>"
            ],
            "image/png": "[encoded data removed]"
          },
          "metadata": {
            "needs_background": "light"
          }
        },
        {
          "output_type": "display_data",
          "data": {
            "text/plain": [
              "<Figure size 432x288 with 1 Axes>"
            ],
            "image/png": "[encoded data removed]"
          },
          "metadata": {
            "needs_background": "light"
          }
        }
      ]
    },
    {
      "cell_type": "markdown",
      "metadata": {
        "id": "CKFunVn95gHP"
      },
      "source": [
        "Para determinar a que data set corresponde los cuatro nuevos datos ([16,8]; [8,6]; [16,10] y [16,6]) podemos utilizar el código para interpretar las gráficas, de esta manera determinar una tendencia, por tanto:\n",
        "\n",
        "[16,8] pertenece al primer cuadrante\n",
        "\n",
        "[8,6] pertenece al cuarto cuadrante\n",
        "\n",
        "[16,10] pertenece al tercer cuadrante\n",
        "\n",
        "[16,6] pertenece al segundi cuadrante"
      ]
    }
  ]
}