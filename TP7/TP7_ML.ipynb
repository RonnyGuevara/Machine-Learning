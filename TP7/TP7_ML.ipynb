{
  "nbformat": 4,
  "nbformat_minor": 0,
  "metadata": {
    "colab": {
      "name": "TP7_ML.ipynb",
      "provenance": [],
      "collapsed_sections": [],
      "authorship_tag": "ABX9TyOHd3PMvM7fucMZPFnwXkZy",
      "include_colab_link": true
    },
    "kernelspec": {
      "name": "python3",
      "display_name": "Python 3"
    },
    "language_info": {
      "name": "python"
    }
  },
  "cells": [
    {
      "cell_type": "markdown",
      "metadata": {
        "id": "view-in-github",
        "colab_type": "text"
      },
      "source": [
        "<a href=\"https://colab.research.google.com/github/RonnyGuevara/Machine-Learning/blob/main/TP7/TP7_ML.ipynb\" target=\"_parent\"><img src=\"https://colab.research.google.com/assets/colab-badge.svg\" alt=\"Open In Colab\"/></a>"
      ]
    },
    {
      "cell_type": "markdown",
      "source": [
        "#Práctica 7: Reducción de Dimensionalidad\n",
        "\n",
        "##Presentado por: Ronny Guevara\n",
        "\n",
        "## Objetivo General\n",
        "Desarrollar algoritmos de aprendizaje automático supervisado que permita encontrar la influencia de cada variable en el costo de una vivienda.\n",
        "## Objetivos Específicos\n",
        "*   Desarrollar un modelo de regresión lineal que prediga el precio de venta de un inmueble a partir de las variables del dataset.\n",
        "*   Verificar los modelos de regresión lineal y no lineal a diferentes parámetros\n",
        "*   Visualizar los resultados para distintos métodos de regresión no lineal"
      ],
      "metadata": {
        "id": "GURNcYrWg2DQ"
      }
    },
    {
      "cell_type": "markdown",
      "source": [
        "###¿Qué son los algoritmos de regresión?\n",
        "El análisis de regresión es un subcampo del aprendizaje automático supervisado cuyo objetivo es establecer un método para la relación entre un cierto número de características y una variable objetivo continua."
      ],
      "metadata": {
        "id": "QQwSVVcyg1-M"
      }
    },
    {
      "cell_type": "markdown",
      "source": [
        "###Problema\n",
        "El presente trabajo práctico da solución al siguiente ejercicio:\n",
        "\n",
        "El dataset de Sommelier de cerveza contiene 871901 reportes de cervezas \n",
        "scrappeados y 13 atributos del sitio BeerAdvocates. El objetivo es agrupar los tipos de\n",
        "cervezas de acuerdo a dichos reportes, y elegir una de ellas como la \n",
        "mejor representante de cada grupo.\n",
        "A continuación se describen los atributos:\n",
        "\n",
        "*   brewery_name - nombre de la cervecería\n",
        "*   beer_style - tipo de cerveza\n",
        "*   nombre_cerveza - nombre de la cerveza\n",
        "*   beer_abv - nivel de alcohol\n",
        "*   review_appearance - Revisión de apariencia\n",
        "*   review_aroma - revisión de fragancias\n",
        "*   review_palate - revisión de sabor (paladar)\n",
        "*   review_taste - revisión de sabor (gusto)\n",
        "*   review_overall - descripción general\n",
        "\n",
        "\n"
      ],
      "metadata": {
        "id": "xCjUaVcjg17B"
      }
    },
    {
      "cell_type": "code",
      "execution_count": 1,
      "metadata": {
        "id": "ZRq7U0ZELSUU"
      },
      "outputs": [],
      "source": [
        "#Lectura de librerías\n",
        "import numpy as np\n",
        "import pandas as pd\n",
        "import matplotlib.pyplot as plt\n",
        "import seaborn as sns\n",
        "import warnings\n",
        "warnings.filterwarnings('ignore')"
      ]
    },
    {
      "cell_type": "markdown",
      "source": [
        "###1. Tratamiento de los datos"
      ],
      "metadata": {
        "id": "iDGA8MbLhGxa"
      }
    },
    {
      "cell_type": "code",
      "source": [
        "#Lectura de datos\n",
        "df = pd.read_csv(\"https://raw.githubusercontent.com/emmanueliarussi/DataScienceCapstone/master/3_MidtermProjects/ProjectBEE/data/beer_reviews_1.csv\")\n",
        "df"
      ],
      "metadata": {
        "colab": {
          "base_uri": "https://localhost:8080/",
          "height": 956
        },
        "id": "h7PG3BbXMr-R",
        "outputId": "196bc480-caa6-4878-eaaf-885c8f2896b1"
      },
      "execution_count": 2,
      "outputs": [
        {
          "output_type": "execute_result",
          "data": {
            "text/plain": [
              "        brewery_id             brewery_name  review_time  review_overall  \\\n",
              "0            10325          Vecchio Birraio   1234817823             1.5   \n",
              "1            10325          Vecchio Birraio   1235915097             3.0   \n",
              "2            10325          Vecchio Birraio   1235916604             3.0   \n",
              "3            10325          Vecchio Birraio   1234725145             3.0   \n",
              "4             1075  Caldera Brewing Company   1293735206             4.0   \n",
              "...            ...                      ...          ...             ...   \n",
              "871896         147        Stone Brewing Co.   1285613705             4.0   \n",
              "871897         147        Stone Brewing Co.   1285125252             4.5   \n",
              "871898         147        Stone Brewing Co.   1284682404             4.5   \n",
              "871899         147        Stone Brewing Co.   1030630588             4.0   \n",
              "871900         147        Stone Brewing Co.   1284168519             3.5   \n",
              "\n",
              "        review_aroma  review_appearance review_profilename  \\\n",
              "0                2.0                2.5            stcules   \n",
              "1                2.5                3.0            stcules   \n",
              "2                2.5                3.0            stcules   \n",
              "3                3.0                3.5            stcules   \n",
              "4                4.5                4.0     johnmichaelsen   \n",
              "...              ...                ...                ...   \n",
              "871896           4.0                4.5       CHILLINDYLAN   \n",
              "871897           4.0                4.5            drabmuh   \n",
              "871898           4.5                4.5          tavernjef   \n",
              "871899           4.0                3.5            uglyguy   \n",
              "871900           4.5                4.5       bagpiper2005   \n",
              "\n",
              "                            beer_style  review_palate  review_taste  \\\n",
              "0                           Hefeweizen            1.5           1.5   \n",
              "1                   English Strong Ale            3.0           3.0   \n",
              "2               Foreign / Export Stout            3.0           3.0   \n",
              "3                      German Pilsener            2.5           3.0   \n",
              "4       American Double / Imperial IPA            4.0           4.5   \n",
              "...                                ...            ...           ...   \n",
              "871896             American Barleywine            4.5           4.5   \n",
              "871897             American Barleywine            4.0           4.0   \n",
              "871898             American Barleywine            4.0           4.5   \n",
              "871899             American Barleywine            4.5           4.5   \n",
              "871900             American Barleywine            5.0           4.5   \n",
              "\n",
              "                                            beer_name  beer_abv  beer_beerid  \n",
              "0                                        Sausa Weizen      5.00        47986  \n",
              "1                                            Red Moon      6.20        48213  \n",
              "2                              Black Horse Black Beer      6.50        48215  \n",
              "3                                          Sausa Pils      5.00        47969  \n",
              "4                                       Cauldron DIPA      7.70        64883  \n",
              "...                                               ...       ...          ...  \n",
              "871896  Stone Old Guardian Barley Wine Style Ale 2010     11.10        56068  \n",
              "871897  Stone Old Guardian Barley Wine Style Ale 2010     11.10        56068  \n",
              "871898  Stone Old Guardian Barley Wine Style Ale 2010     11.10        56068  \n",
              "871899  Stone Old Guardian Barley Wine Style Ale 2002      9.91         3678  \n",
              "871900  Stone Old Guardian Barley Wine Style Ale 2010     11.10        56068  \n",
              "\n",
              "[871901 rows x 13 columns]"
            ],
            "text/html": [
              "\n",
              "  <div id=\"df-afffc571-0875-4000-ac95-187489b31f31\">\n",
              "    <div class=\"colab-df-container\">\n",
              "      <div>\n",
              "<style scoped>\n",
              "    .dataframe tbody tr th:only-of-type {\n",
              "        vertical-align: middle;\n",
              "    }\n",
              "\n",
              "    .dataframe tbody tr th {\n",
              "        vertical-align: top;\n",
              "    }\n",
              "\n",
              "    .dataframe thead th {\n",
              "        text-align: right;\n",
              "    }\n",
              "</style>\n",
              "<table border=\"1\" class=\"dataframe\">\n",
              "  <thead>\n",
              "    <tr style=\"text-align: right;\">\n",
              "      <th></th>\n",
              "      <th>brewery_id</th>\n",
              "      <th>brewery_name</th>\n",
              "      <th>review_time</th>\n",
              "      <th>review_overall</th>\n",
              "      <th>review_aroma</th>\n",
              "      <th>review_appearance</th>\n",
              "      <th>review_profilename</th>\n",
              "      <th>beer_style</th>\n",
              "      <th>review_palate</th>\n",
              "      <th>review_taste</th>\n",
              "      <th>beer_name</th>\n",
              "      <th>beer_abv</th>\n",
              "      <th>beer_beerid</th>\n",
              "    </tr>\n",
              "  </thead>\n",
              "  <tbody>\n",
              "    <tr>\n",
              "      <th>0</th>\n",
              "      <td>10325</td>\n",
              "      <td>Vecchio Birraio</td>\n",
              "      <td>1234817823</td>\n",
              "      <td>1.5</td>\n",
              "      <td>2.0</td>\n",
              "      <td>2.5</td>\n",
              "      <td>stcules</td>\n",
              "      <td>Hefeweizen</td>\n",
              "      <td>1.5</td>\n",
              "      <td>1.5</td>\n",
              "      <td>Sausa Weizen</td>\n",
              "      <td>5.00</td>\n",
              "      <td>47986</td>\n",
              "    </tr>\n",
              "    <tr>\n",
              "      <th>1</th>\n",
              "      <td>10325</td>\n",
              "      <td>Vecchio Birraio</td>\n",
              "      <td>1235915097</td>\n",
              "      <td>3.0</td>\n",
              "      <td>2.5</td>\n",
              "      <td>3.0</td>\n",
              "      <td>stcules</td>\n",
              "      <td>English Strong Ale</td>\n",
              "      <td>3.0</td>\n",
              "      <td>3.0</td>\n",
              "      <td>Red Moon</td>\n",
              "      <td>6.20</td>\n",
              "      <td>48213</td>\n",
              "    </tr>\n",
              "    <tr>\n",
              "      <th>2</th>\n",
              "      <td>10325</td>\n",
              "      <td>Vecchio Birraio</td>\n",
              "      <td>1235916604</td>\n",
              "      <td>3.0</td>\n",
              "      <td>2.5</td>\n",
              "      <td>3.0</td>\n",
              "      <td>stcules</td>\n",
              "      <td>Foreign / Export Stout</td>\n",
              "      <td>3.0</td>\n",
              "      <td>3.0</td>\n",
              "      <td>Black Horse Black Beer</td>\n",
              "      <td>6.50</td>\n",
              "      <td>48215</td>\n",
              "    </tr>\n",
              "    <tr>\n",
              "      <th>3</th>\n",
              "      <td>10325</td>\n",
              "      <td>Vecchio Birraio</td>\n",
              "      <td>1234725145</td>\n",
              "      <td>3.0</td>\n",
              "      <td>3.0</td>\n",
              "      <td>3.5</td>\n",
              "      <td>stcules</td>\n",
              "      <td>German Pilsener</td>\n",
              "      <td>2.5</td>\n",
              "      <td>3.0</td>\n",
              "      <td>Sausa Pils</td>\n",
              "      <td>5.00</td>\n",
              "      <td>47969</td>\n",
              "    </tr>\n",
              "    <tr>\n",
              "      <th>4</th>\n",
              "      <td>1075</td>\n",
              "      <td>Caldera Brewing Company</td>\n",
              "      <td>1293735206</td>\n",
              "      <td>4.0</td>\n",
              "      <td>4.5</td>\n",
              "      <td>4.0</td>\n",
              "      <td>johnmichaelsen</td>\n",
              "      <td>American Double / Imperial IPA</td>\n",
              "      <td>4.0</td>\n",
              "      <td>4.5</td>\n",
              "      <td>Cauldron DIPA</td>\n",
              "      <td>7.70</td>\n",
              "      <td>64883</td>\n",
              "    </tr>\n",
              "    <tr>\n",
              "      <th>...</th>\n",
              "      <td>...</td>\n",
              "      <td>...</td>\n",
              "      <td>...</td>\n",
              "      <td>...</td>\n",
              "      <td>...</td>\n",
              "      <td>...</td>\n",
              "      <td>...</td>\n",
              "      <td>...</td>\n",
              "      <td>...</td>\n",
              "      <td>...</td>\n",
              "      <td>...</td>\n",
              "      <td>...</td>\n",
              "      <td>...</td>\n",
              "    </tr>\n",
              "    <tr>\n",
              "      <th>871896</th>\n",
              "      <td>147</td>\n",
              "      <td>Stone Brewing Co.</td>\n",
              "      <td>1285613705</td>\n",
              "      <td>4.0</td>\n",
              "      <td>4.0</td>\n",
              "      <td>4.5</td>\n",
              "      <td>CHILLINDYLAN</td>\n",
              "      <td>American Barleywine</td>\n",
              "      <td>4.5</td>\n",
              "      <td>4.5</td>\n",
              "      <td>Stone Old Guardian Barley Wine Style Ale 2010</td>\n",
              "      <td>11.10</td>\n",
              "      <td>56068</td>\n",
              "    </tr>\n",
              "    <tr>\n",
              "      <th>871897</th>\n",
              "      <td>147</td>\n",
              "      <td>Stone Brewing Co.</td>\n",
              "      <td>1285125252</td>\n",
              "      <td>4.5</td>\n",
              "      <td>4.0</td>\n",
              "      <td>4.5</td>\n",
              "      <td>drabmuh</td>\n",
              "      <td>American Barleywine</td>\n",
              "      <td>4.0</td>\n",
              "      <td>4.0</td>\n",
              "      <td>Stone Old Guardian Barley Wine Style Ale 2010</td>\n",
              "      <td>11.10</td>\n",
              "      <td>56068</td>\n",
              "    </tr>\n",
              "    <tr>\n",
              "      <th>871898</th>\n",
              "      <td>147</td>\n",
              "      <td>Stone Brewing Co.</td>\n",
              "      <td>1284682404</td>\n",
              "      <td>4.5</td>\n",
              "      <td>4.5</td>\n",
              "      <td>4.5</td>\n",
              "      <td>tavernjef</td>\n",
              "      <td>American Barleywine</td>\n",
              "      <td>4.0</td>\n",
              "      <td>4.5</td>\n",
              "      <td>Stone Old Guardian Barley Wine Style Ale 2010</td>\n",
              "      <td>11.10</td>\n",
              "      <td>56068</td>\n",
              "    </tr>\n",
              "    <tr>\n",
              "      <th>871899</th>\n",
              "      <td>147</td>\n",
              "      <td>Stone Brewing Co.</td>\n",
              "      <td>1030630588</td>\n",
              "      <td>4.0</td>\n",
              "      <td>4.0</td>\n",
              "      <td>3.5</td>\n",
              "      <td>uglyguy</td>\n",
              "      <td>American Barleywine</td>\n",
              "      <td>4.5</td>\n",
              "      <td>4.5</td>\n",
              "      <td>Stone Old Guardian Barley Wine Style Ale 2002</td>\n",
              "      <td>9.91</td>\n",
              "      <td>3678</td>\n",
              "    </tr>\n",
              "    <tr>\n",
              "      <th>871900</th>\n",
              "      <td>147</td>\n",
              "      <td>Stone Brewing Co.</td>\n",
              "      <td>1284168519</td>\n",
              "      <td>3.5</td>\n",
              "      <td>4.5</td>\n",
              "      <td>4.5</td>\n",
              "      <td>bagpiper2005</td>\n",
              "      <td>American Barleywine</td>\n",
              "      <td>5.0</td>\n",
              "      <td>4.5</td>\n",
              "      <td>Stone Old Guardian Barley Wine Style Ale 2010</td>\n",
              "      <td>11.10</td>\n",
              "      <td>56068</td>\n",
              "    </tr>\n",
              "  </tbody>\n",
              "</table>\n",
              "<p>871901 rows × 13 columns</p>\n",
              "</div>\n",
              "      <button class=\"colab-df-convert\" onclick=\"convertToInteractive('df-afffc571-0875-4000-ac95-187489b31f31')\"\n",
              "              title=\"Convert this dataframe to an interactive table.\"\n",
              "              style=\"display:none;\">\n",
              "        \n",
              "  <svg xmlns=\"http://www.w3.org/2000/svg\" height=\"24px\"viewBox=\"0 0 24 24\"\n",
              "       width=\"24px\">\n",
              "    <path d=\"M0 0h24v24H0V0z\" fill=\"none\"/>\n",
              "    <path d=\"M18.56 5.44l.94 2.06.94-2.06 2.06-.94-2.06-.94-.94-2.06-.94 2.06-2.06.94zm-11 1L8.5 8.5l.94-2.06 2.06-.94-2.06-.94L8.5 2.5l-.94 2.06-2.06.94zm10 10l.94 2.06.94-2.06 2.06-.94-2.06-.94-.94-2.06-.94 2.06-2.06.94z\"/><path d=\"M17.41 7.96l-1.37-1.37c-.4-.4-.92-.59-1.43-.59-.52 0-1.04.2-1.43.59L10.3 9.45l-7.72 7.72c-.78.78-.78 2.05 0 2.83L4 21.41c.39.39.9.59 1.41.59.51 0 1.02-.2 1.41-.59l7.78-7.78 2.81-2.81c.8-.78.8-2.07 0-2.86zM5.41 20L4 18.59l7.72-7.72 1.47 1.35L5.41 20z\"/>\n",
              "  </svg>\n",
              "      </button>\n",
              "      \n",
              "  <style>\n",
              "    .colab-df-container {\n",
              "      display:flex;\n",
              "      flex-wrap:wrap;\n",
              "      gap: 12px;\n",
              "    }\n",
              "\n",
              "    .colab-df-convert {\n",
              "      background-color: #E8F0FE;\n",
              "      border: none;\n",
              "      border-radius: 50%;\n",
              "      cursor: pointer;\n",
              "      display: none;\n",
              "      fill: #1967D2;\n",
              "      height: 32px;\n",
              "      padding: 0 0 0 0;\n",
              "      width: 32px;\n",
              "    }\n",
              "\n",
              "    .colab-df-convert:hover {\n",
              "      background-color: #E2EBFA;\n",
              "      box-shadow: 0px 1px 2px rgba(60, 64, 67, 0.3), 0px 1px 3px 1px rgba(60, 64, 67, 0.15);\n",
              "      fill: #174EA6;\n",
              "    }\n",
              "\n",
              "    [theme=dark] .colab-df-convert {\n",
              "      background-color: #3B4455;\n",
              "      fill: #D2E3FC;\n",
              "    }\n",
              "\n",
              "    [theme=dark] .colab-df-convert:hover {\n",
              "      background-color: #434B5C;\n",
              "      box-shadow: 0px 1px 3px 1px rgba(0, 0, 0, 0.15);\n",
              "      filter: drop-shadow(0px 1px 2px rgba(0, 0, 0, 0.3));\n",
              "      fill: #FFFFFF;\n",
              "    }\n",
              "  </style>\n",
              "\n",
              "      <script>\n",
              "        const buttonEl =\n",
              "          document.querySelector('#df-afffc571-0875-4000-ac95-187489b31f31 button.colab-df-convert');\n",
              "        buttonEl.style.display =\n",
              "          google.colab.kernel.accessAllowed ? 'block' : 'none';\n",
              "\n",
              "        async function convertToInteractive(key) {\n",
              "          const element = document.querySelector('#df-afffc571-0875-4000-ac95-187489b31f31');\n",
              "          const dataTable =\n",
              "            await google.colab.kernel.invokeFunction('convertToInteractive',\n",
              "                                                     [key], {});\n",
              "          if (!dataTable) return;\n",
              "\n",
              "          const docLinkHtml = 'Like what you see? Visit the ' +\n",
              "            '<a target=\"_blank\" href=https://colab.research.google.com/notebooks/data_table.ipynb>data table notebook</a>'\n",
              "            + ' to learn more about interactive tables.';\n",
              "          element.innerHTML = '';\n",
              "          dataTable['output_type'] = 'display_data';\n",
              "          await google.colab.output.renderOutput(dataTable, element);\n",
              "          const docLink = document.createElement('div');\n",
              "          docLink.innerHTML = docLinkHtml;\n",
              "          element.appendChild(docLink);\n",
              "        }\n",
              "      </script>\n",
              "    </div>\n",
              "  </div>\n",
              "  "
            ]
          },
          "metadata": {},
          "execution_count": 2
        }
      ]
    },
    {
      "cell_type": "code",
      "source": [
        "#Visualización de los atributos\n",
        "df.columns"
      ],
      "metadata": {
        "colab": {
          "base_uri": "https://localhost:8080/"
        },
        "id": "mNxrt6YNj9C8",
        "outputId": "bbae0614-f16d-40b9-a22d-a1a014d91318"
      },
      "execution_count": 3,
      "outputs": [
        {
          "output_type": "execute_result",
          "data": {
            "text/plain": [
              "Index(['brewery_id', 'brewery_name', 'review_time', 'review_overall',\n",
              "       'review_aroma', 'review_appearance', 'review_profilename', 'beer_style',\n",
              "       'review_palate', 'review_taste', 'beer_name', 'beer_abv',\n",
              "       'beer_beerid'],\n",
              "      dtype='object')"
            ]
          },
          "metadata": {},
          "execution_count": 3
        }
      ]
    },
    {
      "cell_type": "code",
      "source": [
        "#Cuenta los valores nulos para cada columna\n",
        "df.isna().sum()"
      ],
      "metadata": {
        "colab": {
          "base_uri": "https://localhost:8080/"
        },
        "id": "jSauBOd2j_eV",
        "outputId": "76b08ec4-88aa-484b-8d69-aef8db426022"
      },
      "execution_count": 4,
      "outputs": [
        {
          "output_type": "execute_result",
          "data": {
            "text/plain": [
              "brewery_id                0\n",
              "brewery_name              9\n",
              "review_time               0\n",
              "review_overall            0\n",
              "review_aroma              0\n",
              "review_appearance         0\n",
              "review_profilename      181\n",
              "beer_style                0\n",
              "review_palate             0\n",
              "review_taste              0\n",
              "beer_name                 0\n",
              "beer_abv              36242\n",
              "beer_beerid               0\n",
              "dtype: int64"
            ]
          },
          "metadata": {},
          "execution_count": 4
        }
      ]
    },
    {
      "cell_type": "code",
      "source": [
        "#Permite obtener los estadísticos descriptivos\n",
        "df.describe()"
      ],
      "metadata": {
        "colab": {
          "base_uri": "https://localhost:8080/",
          "height": 300
        },
        "id": "D3LUTjxKkFkK",
        "outputId": "b6dcb7e5-13bc-4a41-c440-883831b17aba"
      },
      "execution_count": 5,
      "outputs": [
        {
          "output_type": "execute_result",
          "data": {
            "text/plain": [
              "          brewery_id   review_time  review_overall   review_aroma  \\\n",
              "count  871901.000000  8.719010e+05   871901.000000  871901.000000   \n",
              "mean     3271.796264  1.227348e+09        3.828825       3.755972   \n",
              "std      5644.054301  7.531277e+07        0.704718       0.677216   \n",
              "min         1.000000  8.406720e+08        0.000000       1.000000   \n",
              "25%       140.000000  1.179688e+09        3.500000       3.500000   \n",
              "50%       590.000000  1.243041e+09        4.000000       4.000000   \n",
              "75%      2743.000000  1.289962e+09        4.500000       4.000000   \n",
              "max     28003.000000  1.326285e+09        5.000000       5.000000   \n",
              "\n",
              "       review_appearance  review_palate   review_taste       beer_abv  \\\n",
              "count      871901.000000  871901.000000  871901.000000  835659.000000   \n",
              "mean            3.856491       3.757737       3.808603       7.046130   \n",
              "std             0.597753       0.662392       0.711305       2.330143   \n",
              "min             0.000000       1.000000       1.000000       0.010000   \n",
              "25%             3.500000       3.500000       3.500000       5.300000   \n",
              "50%             4.000000       4.000000       4.000000       6.500000   \n",
              "75%             4.000000       4.000000       4.500000       8.500000   \n",
              "max             5.000000       5.000000       5.000000      57.700000   \n",
              "\n",
              "         beer_beerid  \n",
              "count  871901.000000  \n",
              "mean    23337.928449  \n",
              "std     22030.109041  \n",
              "min         3.000000  \n",
              "25%      2151.000000  \n",
              "50%     17770.000000  \n",
              "75%     41722.000000  \n",
              "max     77314.000000  "
            ],
            "text/html": [
              "\n",
              "  <div id=\"df-67d353b4-328e-4200-b262-3be25472fa9d\">\n",
              "    <div class=\"colab-df-container\">\n",
              "      <div>\n",
              "<style scoped>\n",
              "    .dataframe tbody tr th:only-of-type {\n",
              "        vertical-align: middle;\n",
              "    }\n",
              "\n",
              "    .dataframe tbody tr th {\n",
              "        vertical-align: top;\n",
              "    }\n",
              "\n",
              "    .dataframe thead th {\n",
              "        text-align: right;\n",
              "    }\n",
              "</style>\n",
              "<table border=\"1\" class=\"dataframe\">\n",
              "  <thead>\n",
              "    <tr style=\"text-align: right;\">\n",
              "      <th></th>\n",
              "      <th>brewery_id</th>\n",
              "      <th>review_time</th>\n",
              "      <th>review_overall</th>\n",
              "      <th>review_aroma</th>\n",
              "      <th>review_appearance</th>\n",
              "      <th>review_palate</th>\n",
              "      <th>review_taste</th>\n",
              "      <th>beer_abv</th>\n",
              "      <th>beer_beerid</th>\n",
              "    </tr>\n",
              "  </thead>\n",
              "  <tbody>\n",
              "    <tr>\n",
              "      <th>count</th>\n",
              "      <td>871901.000000</td>\n",
              "      <td>8.719010e+05</td>\n",
              "      <td>871901.000000</td>\n",
              "      <td>871901.000000</td>\n",
              "      <td>871901.000000</td>\n",
              "      <td>871901.000000</td>\n",
              "      <td>871901.000000</td>\n",
              "      <td>835659.000000</td>\n",
              "      <td>871901.000000</td>\n",
              "    </tr>\n",
              "    <tr>\n",
              "      <th>mean</th>\n",
              "      <td>3271.796264</td>\n",
              "      <td>1.227348e+09</td>\n",
              "      <td>3.828825</td>\n",
              "      <td>3.755972</td>\n",
              "      <td>3.856491</td>\n",
              "      <td>3.757737</td>\n",
              "      <td>3.808603</td>\n",
              "      <td>7.046130</td>\n",
              "      <td>23337.928449</td>\n",
              "    </tr>\n",
              "    <tr>\n",
              "      <th>std</th>\n",
              "      <td>5644.054301</td>\n",
              "      <td>7.531277e+07</td>\n",
              "      <td>0.704718</td>\n",
              "      <td>0.677216</td>\n",
              "      <td>0.597753</td>\n",
              "      <td>0.662392</td>\n",
              "      <td>0.711305</td>\n",
              "      <td>2.330143</td>\n",
              "      <td>22030.109041</td>\n",
              "    </tr>\n",
              "    <tr>\n",
              "      <th>min</th>\n",
              "      <td>1.000000</td>\n",
              "      <td>8.406720e+08</td>\n",
              "      <td>0.000000</td>\n",
              "      <td>1.000000</td>\n",
              "      <td>0.000000</td>\n",
              "      <td>1.000000</td>\n",
              "      <td>1.000000</td>\n",
              "      <td>0.010000</td>\n",
              "      <td>3.000000</td>\n",
              "    </tr>\n",
              "    <tr>\n",
              "      <th>25%</th>\n",
              "      <td>140.000000</td>\n",
              "      <td>1.179688e+09</td>\n",
              "      <td>3.500000</td>\n",
              "      <td>3.500000</td>\n",
              "      <td>3.500000</td>\n",
              "      <td>3.500000</td>\n",
              "      <td>3.500000</td>\n",
              "      <td>5.300000</td>\n",
              "      <td>2151.000000</td>\n",
              "    </tr>\n",
              "    <tr>\n",
              "      <th>50%</th>\n",
              "      <td>590.000000</td>\n",
              "      <td>1.243041e+09</td>\n",
              "      <td>4.000000</td>\n",
              "      <td>4.000000</td>\n",
              "      <td>4.000000</td>\n",
              "      <td>4.000000</td>\n",
              "      <td>4.000000</td>\n",
              "      <td>6.500000</td>\n",
              "      <td>17770.000000</td>\n",
              "    </tr>\n",
              "    <tr>\n",
              "      <th>75%</th>\n",
              "      <td>2743.000000</td>\n",
              "      <td>1.289962e+09</td>\n",
              "      <td>4.500000</td>\n",
              "      <td>4.000000</td>\n",
              "      <td>4.000000</td>\n",
              "      <td>4.000000</td>\n",
              "      <td>4.500000</td>\n",
              "      <td>8.500000</td>\n",
              "      <td>41722.000000</td>\n",
              "    </tr>\n",
              "    <tr>\n",
              "      <th>max</th>\n",
              "      <td>28003.000000</td>\n",
              "      <td>1.326285e+09</td>\n",
              "      <td>5.000000</td>\n",
              "      <td>5.000000</td>\n",
              "      <td>5.000000</td>\n",
              "      <td>5.000000</td>\n",
              "      <td>5.000000</td>\n",
              "      <td>57.700000</td>\n",
              "      <td>77314.000000</td>\n",
              "    </tr>\n",
              "  </tbody>\n",
              "</table>\n",
              "</div>\n",
              "      <button class=\"colab-df-convert\" onclick=\"convertToInteractive('df-67d353b4-328e-4200-b262-3be25472fa9d')\"\n",
              "              title=\"Convert this dataframe to an interactive table.\"\n",
              "              style=\"display:none;\">\n",
              "        \n",
              "  <svg xmlns=\"http://www.w3.org/2000/svg\" height=\"24px\"viewBox=\"0 0 24 24\"\n",
              "       width=\"24px\">\n",
              "    <path d=\"M0 0h24v24H0V0z\" fill=\"none\"/>\n",
              "    <path d=\"M18.56 5.44l.94 2.06.94-2.06 2.06-.94-2.06-.94-.94-2.06-.94 2.06-2.06.94zm-11 1L8.5 8.5l.94-2.06 2.06-.94-2.06-.94L8.5 2.5l-.94 2.06-2.06.94zm10 10l.94 2.06.94-2.06 2.06-.94-2.06-.94-.94-2.06-.94 2.06-2.06.94z\"/><path d=\"M17.41 7.96l-1.37-1.37c-.4-.4-.92-.59-1.43-.59-.52 0-1.04.2-1.43.59L10.3 9.45l-7.72 7.72c-.78.78-.78 2.05 0 2.83L4 21.41c.39.39.9.59 1.41.59.51 0 1.02-.2 1.41-.59l7.78-7.78 2.81-2.81c.8-.78.8-2.07 0-2.86zM5.41 20L4 18.59l7.72-7.72 1.47 1.35L5.41 20z\"/>\n",
              "  </svg>\n",
              "      </button>\n",
              "      \n",
              "  <style>\n",
              "    .colab-df-container {\n",
              "      display:flex;\n",
              "      flex-wrap:wrap;\n",
              "      gap: 12px;\n",
              "    }\n",
              "\n",
              "    .colab-df-convert {\n",
              "      background-color: #E8F0FE;\n",
              "      border: none;\n",
              "      border-radius: 50%;\n",
              "      cursor: pointer;\n",
              "      display: none;\n",
              "      fill: #1967D2;\n",
              "      height: 32px;\n",
              "      padding: 0 0 0 0;\n",
              "      width: 32px;\n",
              "    }\n",
              "\n",
              "    .colab-df-convert:hover {\n",
              "      background-color: #E2EBFA;\n",
              "      box-shadow: 0px 1px 2px rgba(60, 64, 67, 0.3), 0px 1px 3px 1px rgba(60, 64, 67, 0.15);\n",
              "      fill: #174EA6;\n",
              "    }\n",
              "\n",
              "    [theme=dark] .colab-df-convert {\n",
              "      background-color: #3B4455;\n",
              "      fill: #D2E3FC;\n",
              "    }\n",
              "\n",
              "    [theme=dark] .colab-df-convert:hover {\n",
              "      background-color: #434B5C;\n",
              "      box-shadow: 0px 1px 3px 1px rgba(0, 0, 0, 0.15);\n",
              "      filter: drop-shadow(0px 1px 2px rgba(0, 0, 0, 0.3));\n",
              "      fill: #FFFFFF;\n",
              "    }\n",
              "  </style>\n",
              "\n",
              "      <script>\n",
              "        const buttonEl =\n",
              "          document.querySelector('#df-67d353b4-328e-4200-b262-3be25472fa9d button.colab-df-convert');\n",
              "        buttonEl.style.display =\n",
              "          google.colab.kernel.accessAllowed ? 'block' : 'none';\n",
              "\n",
              "        async function convertToInteractive(key) {\n",
              "          const element = document.querySelector('#df-67d353b4-328e-4200-b262-3be25472fa9d');\n",
              "          const dataTable =\n",
              "            await google.colab.kernel.invokeFunction('convertToInteractive',\n",
              "                                                     [key], {});\n",
              "          if (!dataTable) return;\n",
              "\n",
              "          const docLinkHtml = 'Like what you see? Visit the ' +\n",
              "            '<a target=\"_blank\" href=https://colab.research.google.com/notebooks/data_table.ipynb>data table notebook</a>'\n",
              "            + ' to learn more about interactive tables.';\n",
              "          element.innerHTML = '';\n",
              "          dataTable['output_type'] = 'display_data';\n",
              "          await google.colab.output.renderOutput(dataTable, element);\n",
              "          const docLink = document.createElement('div');\n",
              "          docLink.innerHTML = docLinkHtml;\n",
              "          element.appendChild(docLink);\n",
              "        }\n",
              "      </script>\n",
              "    </div>\n",
              "  </div>\n",
              "  "
            ]
          },
          "metadata": {},
          "execution_count": 5
        }
      ]
    },
    {
      "cell_type": "code",
      "source": [
        "#info() devuelve el total de valores no nulos y tipo de dato para cada atributo\n",
        "df.info()"
      ],
      "metadata": {
        "colab": {
          "base_uri": "https://localhost:8080/"
        },
        "id": "3uTjmWYykJLZ",
        "outputId": "385595f2-9a3d-4e69-a1a3-8c05d7f4438e"
      },
      "execution_count": 6,
      "outputs": [
        {
          "output_type": "stream",
          "name": "stdout",
          "text": [
            "<class 'pandas.core.frame.DataFrame'>\n",
            "RangeIndex: 871901 entries, 0 to 871900\n",
            "Data columns (total 13 columns):\n",
            " #   Column              Non-Null Count   Dtype  \n",
            "---  ------              --------------   -----  \n",
            " 0   brewery_id          871901 non-null  int64  \n",
            " 1   brewery_name        871892 non-null  object \n",
            " 2   review_time         871901 non-null  int64  \n",
            " 3   review_overall      871901 non-null  float64\n",
            " 4   review_aroma        871901 non-null  float64\n",
            " 5   review_appearance   871901 non-null  float64\n",
            " 6   review_profilename  871720 non-null  object \n",
            " 7   beer_style          871901 non-null  object \n",
            " 8   review_palate       871901 non-null  float64\n",
            " 9   review_taste        871901 non-null  float64\n",
            " 10  beer_name           871901 non-null  object \n",
            " 11  beer_abv            835659 non-null  float64\n",
            " 12  beer_beerid         871901 non-null  int64  \n",
            "dtypes: float64(6), int64(3), object(4)\n",
            "memory usage: 86.5+ MB\n"
          ]
        }
      ]
    },
    {
      "cell_type": "markdown",
      "source": [
        "###Eliminación de valores nulos\n",
        "La función pandas. DataFrame. dropna() elimina los valores nulos del DataFrame dejando caer las filas o columnas que contienen los valores nulos."
      ],
      "metadata": {
        "id": "YsEITVTtpwb0"
      }
    },
    {
      "cell_type": "code",
      "source": [
        "# Drop null row values\n",
        "df = df.dropna()\n",
        "df.info()"
      ],
      "metadata": {
        "colab": {
          "base_uri": "https://localhost:8080/"
        },
        "id": "gk8274KZpgRj",
        "outputId": "e43dc771-7003-4bdd-cac0-d79ffcbdfe34"
      },
      "execution_count": 7,
      "outputs": [
        {
          "output_type": "stream",
          "name": "stdout",
          "text": [
            "<class 'pandas.core.frame.DataFrame'>\n",
            "Int64Index: 835471 entries, 0 to 871900\n",
            "Data columns (total 13 columns):\n",
            " #   Column              Non-Null Count   Dtype  \n",
            "---  ------              --------------   -----  \n",
            " 0   brewery_id          835471 non-null  int64  \n",
            " 1   brewery_name        835471 non-null  object \n",
            " 2   review_time         835471 non-null  int64  \n",
            " 3   review_overall      835471 non-null  float64\n",
            " 4   review_aroma        835471 non-null  float64\n",
            " 5   review_appearance   835471 non-null  float64\n",
            " 6   review_profilename  835471 non-null  object \n",
            " 7   beer_style          835471 non-null  object \n",
            " 8   review_palate       835471 non-null  float64\n",
            " 9   review_taste        835471 non-null  float64\n",
            " 10  beer_name           835471 non-null  object \n",
            " 11  beer_abv            835471 non-null  float64\n",
            " 12  beer_beerid         835471 non-null  int64  \n",
            "dtypes: float64(6), int64(3), object(4)\n",
            "memory usage: 89.2+ MB\n"
          ]
        }
      ]
    },
    {
      "cell_type": "code",
      "source": [
        "print(df.isnull().sum())"
      ],
      "metadata": {
        "colab": {
          "base_uri": "https://localhost:8080/"
        },
        "id": "5CZHy9a-rJoH",
        "outputId": "c419951e-e18b-45ca-bc7f-f9d917c0aa56"
      },
      "execution_count": 8,
      "outputs": [
        {
          "output_type": "stream",
          "name": "stdout",
          "text": [
            "brewery_id            0\n",
            "brewery_name          0\n",
            "review_time           0\n",
            "review_overall        0\n",
            "review_aroma          0\n",
            "review_appearance     0\n",
            "review_profilename    0\n",
            "beer_style            0\n",
            "review_palate         0\n",
            "review_taste          0\n",
            "beer_name             0\n",
            "beer_abv              0\n",
            "beer_beerid           0\n",
            "dtype: int64\n"
          ]
        }
      ]
    },
    {
      "cell_type": "markdown",
      "source": [
        "En el conjunto de datos, la columna de tiempo de revisión tiene un tipo de datos de int64, por tanto, se convierte a un formato de fecha y hora"
      ],
      "metadata": {
        "id": "fci3G_Oe9jU0"
      }
    },
    {
      "cell_type": "code",
      "source": [
        "df.review_time = pd.to_datetime(df.review_time,unit = 's')"
      ],
      "metadata": {
        "id": "iiy9Zmrl9y_-"
      },
      "execution_count": 9,
      "outputs": []
    },
    {
      "cell_type": "markdown",
      "source": [
        "###Debemos preguntarnos, ¿es posible que un usuario califico la misma cerveza más de una vez?\n"
      ],
      "metadata": {
        "id": "_jmryZuUrjQB"
      }
    },
    {
      "cell_type": "code",
      "source": [
        "# Ordenamos el atributo 'review_overall'\n",
        "df = df.sort_values('review_overall', ascending=False)\n",
        "\n",
        "# keep='first' mantiene la calificación más alta del usuario y elimina el resto\n",
        "df = df.drop_duplicates(subset= ['review_profilename','beer_name'], keep='first')\n",
        "df.info()\n",
        "\n",
        "# Imprime el porcentaje de datos duplicados\n",
        "print(\"Porcentaje de valores duplicados:\", round((1518478 - 1496263)/ 1518478 * 100, 2),\"%\")"
      ],
      "metadata": {
        "colab": {
          "base_uri": "https://localhost:8080/"
        },
        "id": "aRTqmI7vsJJJ",
        "outputId": "a051782c-a8f5-4781-8d4f-dc8f881462ab"
      },
      "execution_count": 10,
      "outputs": [
        {
          "output_type": "stream",
          "name": "stdout",
          "text": [
            "<class 'pandas.core.frame.DataFrame'>\n",
            "Int64Index: 824468 entries, 136263 to 39648\n",
            "Data columns (total 13 columns):\n",
            " #   Column              Non-Null Count   Dtype         \n",
            "---  ------              --------------   -----         \n",
            " 0   brewery_id          824468 non-null  int64         \n",
            " 1   brewery_name        824468 non-null  object        \n",
            " 2   review_time         824468 non-null  datetime64[ns]\n",
            " 3   review_overall      824468 non-null  float64       \n",
            " 4   review_aroma        824468 non-null  float64       \n",
            " 5   review_appearance   824468 non-null  float64       \n",
            " 6   review_profilename  824468 non-null  object        \n",
            " 7   beer_style          824468 non-null  object        \n",
            " 8   review_palate       824468 non-null  float64       \n",
            " 9   review_taste        824468 non-null  float64       \n",
            " 10  beer_name           824468 non-null  object        \n",
            " 11  beer_abv            824468 non-null  float64       \n",
            " 12  beer_beerid         824468 non-null  int64         \n",
            "dtypes: datetime64[ns](1), float64(6), int64(2), object(4)\n",
            "memory usage: 88.1+ MB\n",
            "Porcentaje de valores duplicados: 1.46 %\n"
          ]
        }
      ]
    },
    {
      "cell_type": "markdown",
      "source": [
        "Observamos un 1.46% de valores duplicados, dando a conocer que hubo usuarios que calificaron la misma cerveza varias ocasiones."
      ],
      "metadata": {
        "id": "3sk6qLoXtqCM"
      }
    },
    {
      "cell_type": "markdown",
      "source": [
        "Es importante conocer si existe algún tipo de asociación entre atributos, corr() describe la correlación entre atributos de la dataframe"
      ],
      "metadata": {
        "id": "jHqkNI65kRL9"
      }
    },
    {
      "cell_type": "code",
      "source": [
        "df.corr()"
      ],
      "metadata": {
        "colab": {
          "base_uri": "https://localhost:8080/",
          "height": 300
        },
        "id": "HvArsjX8kODr",
        "outputId": "959c8e29-658a-4464-bb1a-716b1276c7bf"
      },
      "execution_count": 11,
      "outputs": [
        {
          "output_type": "execute_result",
          "data": {
            "text/plain": [
              "                   brewery_id  review_overall  review_aroma  \\\n",
              "brewery_id           1.000000       -0.003749      0.034198   \n",
              "review_overall      -0.003749        1.000000      0.595280   \n",
              "review_aroma         0.034198        0.595280      1.000000   \n",
              "review_appearance    0.009777        0.475798      0.532570   \n",
              "review_palate        0.007349        0.686437      0.590504   \n",
              "review_taste         0.005494        0.779704      0.697554   \n",
              "beer_abv             0.077822        0.111802      0.312657   \n",
              "beer_beerid          0.460838        0.007011      0.089894   \n",
              "\n",
              "                   review_appearance  review_palate  review_taste  beer_abv  \\\n",
              "brewery_id                  0.009777       0.007349      0.005494  0.077822   \n",
              "review_overall              0.475798       0.686437      0.779704  0.111802   \n",
              "review_aroma                0.532570       0.590504      0.697554  0.312657   \n",
              "review_appearance           1.000000       0.539759      0.517960  0.237579   \n",
              "review_palate               0.539759       1.000000      0.715339  0.258309   \n",
              "review_taste                0.517960       0.715339      1.000000  0.265377   \n",
              "beer_abv                    0.237579       0.258309      0.265377  1.000000   \n",
              "beer_beerid                 0.066183       0.057766      0.042048  0.246182   \n",
              "\n",
              "                   beer_beerid  \n",
              "brewery_id            0.460838  \n",
              "review_overall        0.007011  \n",
              "review_aroma          0.089894  \n",
              "review_appearance     0.066183  \n",
              "review_palate         0.057766  \n",
              "review_taste          0.042048  \n",
              "beer_abv              0.246182  \n",
              "beer_beerid           1.000000  "
            ],
            "text/html": [
              "\n",
              "  <div id=\"df-ec7d2f2b-499c-46df-a0e3-b4b384ddfb92\">\n",
              "    <div class=\"colab-df-container\">\n",
              "      <div>\n",
              "<style scoped>\n",
              "    .dataframe tbody tr th:only-of-type {\n",
              "        vertical-align: middle;\n",
              "    }\n",
              "\n",
              "    .dataframe tbody tr th {\n",
              "        vertical-align: top;\n",
              "    }\n",
              "\n",
              "    .dataframe thead th {\n",
              "        text-align: right;\n",
              "    }\n",
              "</style>\n",
              "<table border=\"1\" class=\"dataframe\">\n",
              "  <thead>\n",
              "    <tr style=\"text-align: right;\">\n",
              "      <th></th>\n",
              "      <th>brewery_id</th>\n",
              "      <th>review_overall</th>\n",
              "      <th>review_aroma</th>\n",
              "      <th>review_appearance</th>\n",
              "      <th>review_palate</th>\n",
              "      <th>review_taste</th>\n",
              "      <th>beer_abv</th>\n",
              "      <th>beer_beerid</th>\n",
              "    </tr>\n",
              "  </thead>\n",
              "  <tbody>\n",
              "    <tr>\n",
              "      <th>brewery_id</th>\n",
              "      <td>1.000000</td>\n",
              "      <td>-0.003749</td>\n",
              "      <td>0.034198</td>\n",
              "      <td>0.009777</td>\n",
              "      <td>0.007349</td>\n",
              "      <td>0.005494</td>\n",
              "      <td>0.077822</td>\n",
              "      <td>0.460838</td>\n",
              "    </tr>\n",
              "    <tr>\n",
              "      <th>review_overall</th>\n",
              "      <td>-0.003749</td>\n",
              "      <td>1.000000</td>\n",
              "      <td>0.595280</td>\n",
              "      <td>0.475798</td>\n",
              "      <td>0.686437</td>\n",
              "      <td>0.779704</td>\n",
              "      <td>0.111802</td>\n",
              "      <td>0.007011</td>\n",
              "    </tr>\n",
              "    <tr>\n",
              "      <th>review_aroma</th>\n",
              "      <td>0.034198</td>\n",
              "      <td>0.595280</td>\n",
              "      <td>1.000000</td>\n",
              "      <td>0.532570</td>\n",
              "      <td>0.590504</td>\n",
              "      <td>0.697554</td>\n",
              "      <td>0.312657</td>\n",
              "      <td>0.089894</td>\n",
              "    </tr>\n",
              "    <tr>\n",
              "      <th>review_appearance</th>\n",
              "      <td>0.009777</td>\n",
              "      <td>0.475798</td>\n",
              "      <td>0.532570</td>\n",
              "      <td>1.000000</td>\n",
              "      <td>0.539759</td>\n",
              "      <td>0.517960</td>\n",
              "      <td>0.237579</td>\n",
              "      <td>0.066183</td>\n",
              "    </tr>\n",
              "    <tr>\n",
              "      <th>review_palate</th>\n",
              "      <td>0.007349</td>\n",
              "      <td>0.686437</td>\n",
              "      <td>0.590504</td>\n",
              "      <td>0.539759</td>\n",
              "      <td>1.000000</td>\n",
              "      <td>0.715339</td>\n",
              "      <td>0.258309</td>\n",
              "      <td>0.057766</td>\n",
              "    </tr>\n",
              "    <tr>\n",
              "      <th>review_taste</th>\n",
              "      <td>0.005494</td>\n",
              "      <td>0.779704</td>\n",
              "      <td>0.697554</td>\n",
              "      <td>0.517960</td>\n",
              "      <td>0.715339</td>\n",
              "      <td>1.000000</td>\n",
              "      <td>0.265377</td>\n",
              "      <td>0.042048</td>\n",
              "    </tr>\n",
              "    <tr>\n",
              "      <th>beer_abv</th>\n",
              "      <td>0.077822</td>\n",
              "      <td>0.111802</td>\n",
              "      <td>0.312657</td>\n",
              "      <td>0.237579</td>\n",
              "      <td>0.258309</td>\n",
              "      <td>0.265377</td>\n",
              "      <td>1.000000</td>\n",
              "      <td>0.246182</td>\n",
              "    </tr>\n",
              "    <tr>\n",
              "      <th>beer_beerid</th>\n",
              "      <td>0.460838</td>\n",
              "      <td>0.007011</td>\n",
              "      <td>0.089894</td>\n",
              "      <td>0.066183</td>\n",
              "      <td>0.057766</td>\n",
              "      <td>0.042048</td>\n",
              "      <td>0.246182</td>\n",
              "      <td>1.000000</td>\n",
              "    </tr>\n",
              "  </tbody>\n",
              "</table>\n",
              "</div>\n",
              "      <button class=\"colab-df-convert\" onclick=\"convertToInteractive('df-ec7d2f2b-499c-46df-a0e3-b4b384ddfb92')\"\n",
              "              title=\"Convert this dataframe to an interactive table.\"\n",
              "              style=\"display:none;\">\n",
              "        \n",
              "  <svg xmlns=\"http://www.w3.org/2000/svg\" height=\"24px\"viewBox=\"0 0 24 24\"\n",
              "       width=\"24px\">\n",
              "    <path d=\"M0 0h24v24H0V0z\" fill=\"none\"/>\n",
              "    <path d=\"M18.56 5.44l.94 2.06.94-2.06 2.06-.94-2.06-.94-.94-2.06-.94 2.06-2.06.94zm-11 1L8.5 8.5l.94-2.06 2.06-.94-2.06-.94L8.5 2.5l-.94 2.06-2.06.94zm10 10l.94 2.06.94-2.06 2.06-.94-2.06-.94-.94-2.06-.94 2.06-2.06.94z\"/><path d=\"M17.41 7.96l-1.37-1.37c-.4-.4-.92-.59-1.43-.59-.52 0-1.04.2-1.43.59L10.3 9.45l-7.72 7.72c-.78.78-.78 2.05 0 2.83L4 21.41c.39.39.9.59 1.41.59.51 0 1.02-.2 1.41-.59l7.78-7.78 2.81-2.81c.8-.78.8-2.07 0-2.86zM5.41 20L4 18.59l7.72-7.72 1.47 1.35L5.41 20z\"/>\n",
              "  </svg>\n",
              "      </button>\n",
              "      \n",
              "  <style>\n",
              "    .colab-df-container {\n",
              "      display:flex;\n",
              "      flex-wrap:wrap;\n",
              "      gap: 12px;\n",
              "    }\n",
              "\n",
              "    .colab-df-convert {\n",
              "      background-color: #E8F0FE;\n",
              "      border: none;\n",
              "      border-radius: 50%;\n",
              "      cursor: pointer;\n",
              "      display: none;\n",
              "      fill: #1967D2;\n",
              "      height: 32px;\n",
              "      padding: 0 0 0 0;\n",
              "      width: 32px;\n",
              "    }\n",
              "\n",
              "    .colab-df-convert:hover {\n",
              "      background-color: #E2EBFA;\n",
              "      box-shadow: 0px 1px 2px rgba(60, 64, 67, 0.3), 0px 1px 3px 1px rgba(60, 64, 67, 0.15);\n",
              "      fill: #174EA6;\n",
              "    }\n",
              "\n",
              "    [theme=dark] .colab-df-convert {\n",
              "      background-color: #3B4455;\n",
              "      fill: #D2E3FC;\n",
              "    }\n",
              "\n",
              "    [theme=dark] .colab-df-convert:hover {\n",
              "      background-color: #434B5C;\n",
              "      box-shadow: 0px 1px 3px 1px rgba(0, 0, 0, 0.15);\n",
              "      filter: drop-shadow(0px 1px 2px rgba(0, 0, 0, 0.3));\n",
              "      fill: #FFFFFF;\n",
              "    }\n",
              "  </style>\n",
              "\n",
              "      <script>\n",
              "        const buttonEl =\n",
              "          document.querySelector('#df-ec7d2f2b-499c-46df-a0e3-b4b384ddfb92 button.colab-df-convert');\n",
              "        buttonEl.style.display =\n",
              "          google.colab.kernel.accessAllowed ? 'block' : 'none';\n",
              "\n",
              "        async function convertToInteractive(key) {\n",
              "          const element = document.querySelector('#df-ec7d2f2b-499c-46df-a0e3-b4b384ddfb92');\n",
              "          const dataTable =\n",
              "            await google.colab.kernel.invokeFunction('convertToInteractive',\n",
              "                                                     [key], {});\n",
              "          if (!dataTable) return;\n",
              "\n",
              "          const docLinkHtml = 'Like what you see? Visit the ' +\n",
              "            '<a target=\"_blank\" href=https://colab.research.google.com/notebooks/data_table.ipynb>data table notebook</a>'\n",
              "            + ' to learn more about interactive tables.';\n",
              "          element.innerHTML = '';\n",
              "          dataTable['output_type'] = 'display_data';\n",
              "          await google.colab.output.renderOutput(dataTable, element);\n",
              "          const docLink = document.createElement('div');\n",
              "          docLink.innerHTML = docLinkHtml;\n",
              "          element.appendChild(docLink);\n",
              "        }\n",
              "      </script>\n",
              "    </div>\n",
              "  </div>\n",
              "  "
            ]
          },
          "metadata": {},
          "execution_count": 11
        }
      ]
    },
    {
      "cell_type": "code",
      "source": [
        "corr = df.corr()\n",
        "plt.figure(figsize=(15,10))\n",
        "sns.heatmap(corr, cbar = True,  square = True, annot=True, fmt= '.2f',annot_kws={'size': 15},\n",
        "           xticklabels= corr, yticklabels= corr,\n",
        "           cmap= 'coolwarm')"
      ],
      "metadata": {
        "colab": {
          "base_uri": "https://localhost:8080/",
          "height": 700
        },
        "id": "_Q94KcVykWYu",
        "outputId": "257ee199-b32c-4a71-ef1f-83af5242c114"
      },
      "execution_count": 12,
      "outputs": [
        {
          "output_type": "execute_result",
          "data": {
            "text/plain": [
              "<matplotlib.axes._subplots.AxesSubplot at 0x7fc276305c50>"
            ]
          },
          "metadata": {},
          "execution_count": 12
        },
        {
          "output_type": "display_data",
          "data": {
            "text/plain": [
              "<Figure size 1080x720 with 2 Axes>"
            ],
            "image/png": "[encoded data removed]"
          },
          "metadata": {
            "needs_background": "light"
          }
        }
      ]
    },
    {
      "cell_type": "markdown",
      "source": [
        "Para una mejor interpretación se visualiza la correlación entre atributos, dando como resultado que no existen columnas con multicolinealidad"
      ],
      "metadata": {
        "id": "Qz2nKW3gkWKR"
      }
    },
    {
      "cell_type": "markdown",
      "source": [
        "###Visualiazión de histogramas y densidad para cada variable"
      ],
      "metadata": {
        "id": "zZUwTD-TkvdJ"
      }
    },
    {
      "cell_type": "code",
      "source": [
        "df.hist(figsize=(15,12))\n",
        "plt.show()"
      ],
      "metadata": {
        "colab": {
          "base_uri": "https://localhost:8080/",
          "height": 716
        },
        "id": "1VqwFXhPkrZH",
        "outputId": "e2240a7f-3b27-406e-d686-078f07409438"
      },
      "execution_count": 13,
      "outputs": [
        {
          "output_type": "display_data",
          "data": {
            "text/plain": [
              "<Figure size 1080x864 with 9 Axes>"
            ],
            "image/png": "[encoded data removed]"
          },
          "metadata": {
            "needs_background": "light"
          }
        }
      ]
    },
    {
      "cell_type": "markdown",
      "source": [
        "###Reducción de la dimensionalidad"
      ],
      "metadata": {
        "id": "HgM2v7N1c36Z"
      }
    },
    {
      "cell_type": "code",
      "source": [
        "from sklearn.preprocessing import LabelEncoder, StandardScaler\n",
        "from sklearn.decomposition import PCA\n",
        "from sklearn.model_selection import train_test_split"
      ],
      "metadata": {
        "id": "2sppMOBkc8HO"
      },
      "execution_count": 14,
      "outputs": []
    },
    {
      "cell_type": "markdown",
      "source": [
        "###Proceso de decodificación de datos"
      ],
      "metadata": {
        "id": "zo-FfYsg5OYL"
      }
    },
    {
      "cell_type": "code",
      "source": [
        "labelEncoder = LabelEncoder()\n",
        "df[\"beer_name\"] = labelEncoder.fit_transform(df[\"beer_name\"])\n",
        "df[\"beer_style\"] = labelEncoder.fit_transform(df[\"beer_style\"])\n",
        "df[\"review_profilename\"] = labelEncoder.fit_transform(df[\"review_profilename\"])\n",
        "df[\"brewery_name\"] = labelEncoder.fit_transform(df[\"brewery_name\"])"
      ],
      "metadata": {
        "id": "C7KQY6lj4L4k"
      },
      "execution_count": 15,
      "outputs": []
    },
    {
      "cell_type": "markdown",
      "source": [
        "###Verificación de valores atípicos utilizando box plot"
      ],
      "metadata": {
        "id": "UT-tplcE6XPP"
      }
    },
    {
      "cell_type": "code",
      "source": [
        "plt.figure(figsize = (20, 8))\n",
        "sns.boxplot(data = df, width = 0.8)\n",
        "plt.show()"
      ],
      "metadata": {
        "colab": {
          "base_uri": "https://localhost:8080/",
          "height": 484
        },
        "id": "oOAJxfwo6WN-",
        "outputId": "620c667a-9c3e-4223-c44d-1b03c7eacddf"
      },
      "execution_count": 16,
      "outputs": [
        {
          "output_type": "display_data",
          "data": {
            "text/plain": [
              "<Figure size 1440x576 with 1 Axes>"
            ],
            "image/png": "[encoded data removed]"
          },
          "metadata": {
            "needs_background": "light"
          }
        }
      ]
    },
    {
      "cell_type": "code",
      "source": [
        "df.hist(figsize=(20,15))\n",
        "plt.show()"
      ],
      "metadata": {
        "colab": {
          "base_uri": "https://localhost:8080/",
          "height": 879
        },
        "id": "_QrfT91x9UBI",
        "outputId": "8de97a6f-9732-410d-d542-89eae98eb728"
      },
      "execution_count": 17,
      "outputs": [
        {
          "output_type": "display_data",
          "data": {
            "text/plain": [
              "<Figure size 1440x1080 with 16 Axes>"
            ],
            "image/png": "[encoded data removed]"
          },
          "metadata": {
            "needs_background": "light"
          }
        }
      ]
    },
    {
      "cell_type": "markdown",
      "source": [
        "###Eliminación de columnas innecesarias"
      ],
      "metadata": {
        "id": "lt70iEtHPGAU"
      }
    },
    {
      "cell_type": "code",
      "source": [
        "df = df.drop(columns = 'brewery_id', axis = 1)\n",
        "df = df.drop(columns = 'review_time', axis = 1)\n",
        "df = df.drop(columns = 'review_profilename', axis = 1)\n",
        "df = df.drop(columns = 'beer_beerid', axis = 1)\n",
        "df"
      ],
      "metadata": {
        "id": "Xyu0nZjM-cmj",
        "colab": {
          "base_uri": "https://localhost:8080/",
          "height": 424
        },
        "outputId": "0f32de4a-654e-4f1a-99e1-088a75be4dd1"
      },
      "execution_count": 18,
      "outputs": [
        {
          "output_type": "execute_result",
          "data": {
            "text/plain": [
              "        brewery_name  review_overall  review_aroma  review_appearance  \\\n",
              "136263          2059             5.0           4.5                4.5   \n",
              "49055           2394             5.0           4.0                4.5   \n",
              "781379          2412             5.0           4.5                4.5   \n",
              "712593           924             5.0           4.5                4.0   \n",
              "431158          1518             5.0           4.5                4.0   \n",
              "...              ...             ...           ...                ...   \n",
              "653726          2141             0.0           2.0                0.0   \n",
              "37234            950             0.0           2.0                0.0   \n",
              "653740          2141             0.0           2.0                0.0   \n",
              "653695          2141             0.0           2.0                0.0   \n",
              "39648            950             0.0           4.0                0.0   \n",
              "\n",
              "        beer_style  review_palate  review_taste  beer_name  beer_abv  \n",
              "136263          11            5.0           5.0      15589      10.0  \n",
              "49055           81            4.5           4.5      20548       5.0  \n",
              "781379           7            4.0           4.5       5302       5.1  \n",
              "712593          12            4.5           4.0       5949       6.0  \n",
              "431158          37            5.0           5.0       1041       7.1  \n",
              "...            ...            ...           ...        ...       ...  \n",
              "653726          61            3.0           1.5      17567       4.0  \n",
              "37234           36            3.0           2.0      17002       4.0  \n",
              "653740          40            2.5           2.0      17559       4.0  \n",
              "653695          65            2.5           2.0      17557       4.0  \n",
              "39648           67            2.0           2.0      12714       4.0  \n",
              "\n",
              "[824468 rows x 9 columns]"
            ],
            "text/html": [
              "\n",
              "  <div id=\"df-bb56edac-6567-4f1e-82a4-5911ab067b3f\">\n",
              "    <div class=\"colab-df-container\">\n",
              "      <div>\n",
              "<style scoped>\n",
              "    .dataframe tbody tr th:only-of-type {\n",
              "        vertical-align: middle;\n",
              "    }\n",
              "\n",
              "    .dataframe tbody tr th {\n",
              "        vertical-align: top;\n",
              "    }\n",
              "\n",
              "    .dataframe thead th {\n",
              "        text-align: right;\n",
              "    }\n",
              "</style>\n",
              "<table border=\"1\" class=\"dataframe\">\n",
              "  <thead>\n",
              "    <tr style=\"text-align: right;\">\n",
              "      <th></th>\n",
              "      <th>brewery_name</th>\n",
              "      <th>review_overall</th>\n",
              "      <th>review_aroma</th>\n",
              "      <th>review_appearance</th>\n",
              "      <th>beer_style</th>\n",
              "      <th>review_palate</th>\n",
              "      <th>review_taste</th>\n",
              "      <th>beer_name</th>\n",
              "      <th>beer_abv</th>\n",
              "    </tr>\n",
              "  </thead>\n",
              "  <tbody>\n",
              "    <tr>\n",
              "      <th>136263</th>\n",
              "      <td>2059</td>\n",
              "      <td>5.0</td>\n",
              "      <td>4.5</td>\n",
              "      <td>4.5</td>\n",
              "      <td>11</td>\n",
              "      <td>5.0</td>\n",
              "      <td>5.0</td>\n",
              "      <td>15589</td>\n",
              "      <td>10.0</td>\n",
              "    </tr>\n",
              "    <tr>\n",
              "      <th>49055</th>\n",
              "      <td>2394</td>\n",
              "      <td>5.0</td>\n",
              "      <td>4.0</td>\n",
              "      <td>4.5</td>\n",
              "      <td>81</td>\n",
              "      <td>4.5</td>\n",
              "      <td>4.5</td>\n",
              "      <td>20548</td>\n",
              "      <td>5.0</td>\n",
              "    </tr>\n",
              "    <tr>\n",
              "      <th>781379</th>\n",
              "      <td>2412</td>\n",
              "      <td>5.0</td>\n",
              "      <td>4.5</td>\n",
              "      <td>4.5</td>\n",
              "      <td>7</td>\n",
              "      <td>4.0</td>\n",
              "      <td>4.5</td>\n",
              "      <td>5302</td>\n",
              "      <td>5.1</td>\n",
              "    </tr>\n",
              "    <tr>\n",
              "      <th>712593</th>\n",
              "      <td>924</td>\n",
              "      <td>5.0</td>\n",
              "      <td>4.5</td>\n",
              "      <td>4.0</td>\n",
              "      <td>12</td>\n",
              "      <td>4.5</td>\n",
              "      <td>4.0</td>\n",
              "      <td>5949</td>\n",
              "      <td>6.0</td>\n",
              "    </tr>\n",
              "    <tr>\n",
              "      <th>431158</th>\n",
              "      <td>1518</td>\n",
              "      <td>5.0</td>\n",
              "      <td>4.5</td>\n",
              "      <td>4.0</td>\n",
              "      <td>37</td>\n",
              "      <td>5.0</td>\n",
              "      <td>5.0</td>\n",
              "      <td>1041</td>\n",
              "      <td>7.1</td>\n",
              "    </tr>\n",
              "    <tr>\n",
              "      <th>...</th>\n",
              "      <td>...</td>\n",
              "      <td>...</td>\n",
              "      <td>...</td>\n",
              "      <td>...</td>\n",
              "      <td>...</td>\n",
              "      <td>...</td>\n",
              "      <td>...</td>\n",
              "      <td>...</td>\n",
              "      <td>...</td>\n",
              "    </tr>\n",
              "    <tr>\n",
              "      <th>653726</th>\n",
              "      <td>2141</td>\n",
              "      <td>0.0</td>\n",
              "      <td>2.0</td>\n",
              "      <td>0.0</td>\n",
              "      <td>61</td>\n",
              "      <td>3.0</td>\n",
              "      <td>1.5</td>\n",
              "      <td>17567</td>\n",
              "      <td>4.0</td>\n",
              "    </tr>\n",
              "    <tr>\n",
              "      <th>37234</th>\n",
              "      <td>950</td>\n",
              "      <td>0.0</td>\n",
              "      <td>2.0</td>\n",
              "      <td>0.0</td>\n",
              "      <td>36</td>\n",
              "      <td>3.0</td>\n",
              "      <td>2.0</td>\n",
              "      <td>17002</td>\n",
              "      <td>4.0</td>\n",
              "    </tr>\n",
              "    <tr>\n",
              "      <th>653740</th>\n",
              "      <td>2141</td>\n",
              "      <td>0.0</td>\n",
              "      <td>2.0</td>\n",
              "      <td>0.0</td>\n",
              "      <td>40</td>\n",
              "      <td>2.5</td>\n",
              "      <td>2.0</td>\n",
              "      <td>17559</td>\n",
              "      <td>4.0</td>\n",
              "    </tr>\n",
              "    <tr>\n",
              "      <th>653695</th>\n",
              "      <td>2141</td>\n",
              "      <td>0.0</td>\n",
              "      <td>2.0</td>\n",
              "      <td>0.0</td>\n",
              "      <td>65</td>\n",
              "      <td>2.5</td>\n",
              "      <td>2.0</td>\n",
              "      <td>17557</td>\n",
              "      <td>4.0</td>\n",
              "    </tr>\n",
              "    <tr>\n",
              "      <th>39648</th>\n",
              "      <td>950</td>\n",
              "      <td>0.0</td>\n",
              "      <td>4.0</td>\n",
              "      <td>0.0</td>\n",
              "      <td>67</td>\n",
              "      <td>2.0</td>\n",
              "      <td>2.0</td>\n",
              "      <td>12714</td>\n",
              "      <td>4.0</td>\n",
              "    </tr>\n",
              "  </tbody>\n",
              "</table>\n",
              "<p>824468 rows × 9 columns</p>\n",
              "</div>\n",
              "      <button class=\"colab-df-convert\" onclick=\"convertToInteractive('df-bb56edac-6567-4f1e-82a4-5911ab067b3f')\"\n",
              "              title=\"Convert this dataframe to an interactive table.\"\n",
              "              style=\"display:none;\">\n",
              "        \n",
              "  <svg xmlns=\"http://www.w3.org/2000/svg\" height=\"24px\"viewBox=\"0 0 24 24\"\n",
              "       width=\"24px\">\n",
              "    <path d=\"M0 0h24v24H0V0z\" fill=\"none\"/>\n",
              "    <path d=\"M18.56 5.44l.94 2.06.94-2.06 2.06-.94-2.06-.94-.94-2.06-.94 2.06-2.06.94zm-11 1L8.5 8.5l.94-2.06 2.06-.94-2.06-.94L8.5 2.5l-.94 2.06-2.06.94zm10 10l.94 2.06.94-2.06 2.06-.94-2.06-.94-.94-2.06-.94 2.06-2.06.94z\"/><path d=\"M17.41 7.96l-1.37-1.37c-.4-.4-.92-.59-1.43-.59-.52 0-1.04.2-1.43.59L10.3 9.45l-7.72 7.72c-.78.78-.78 2.05 0 2.83L4 21.41c.39.39.9.59 1.41.59.51 0 1.02-.2 1.41-.59l7.78-7.78 2.81-2.81c.8-.78.8-2.07 0-2.86zM5.41 20L4 18.59l7.72-7.72 1.47 1.35L5.41 20z\"/>\n",
              "  </svg>\n",
              "      </button>\n",
              "      \n",
              "  <style>\n",
              "    .colab-df-container {\n",
              "      display:flex;\n",
              "      flex-wrap:wrap;\n",
              "      gap: 12px;\n",
              "    }\n",
              "\n",
              "    .colab-df-convert {\n",
              "      background-color: #E8F0FE;\n",
              "      border: none;\n",
              "      border-radius: 50%;\n",
              "      cursor: pointer;\n",
              "      display: none;\n",
              "      fill: #1967D2;\n",
              "      height: 32px;\n",
              "      padding: 0 0 0 0;\n",
              "      width: 32px;\n",
              "    }\n",
              "\n",
              "    .colab-df-convert:hover {\n",
              "      background-color: #E2EBFA;\n",
              "      box-shadow: 0px 1px 2px rgba(60, 64, 67, 0.3), 0px 1px 3px 1px rgba(60, 64, 67, 0.15);\n",
              "      fill: #174EA6;\n",
              "    }\n",
              "\n",
              "    [theme=dark] .colab-df-convert {\n",
              "      background-color: #3B4455;\n",
              "      fill: #D2E3FC;\n",
              "    }\n",
              "\n",
              "    [theme=dark] .colab-df-convert:hover {\n",
              "      background-color: #434B5C;\n",
              "      box-shadow: 0px 1px 3px 1px rgba(0, 0, 0, 0.15);\n",
              "      filter: drop-shadow(0px 1px 2px rgba(0, 0, 0, 0.3));\n",
              "      fill: #FFFFFF;\n",
              "    }\n",
              "  </style>\n",
              "\n",
              "      <script>\n",
              "        const buttonEl =\n",
              "          document.querySelector('#df-bb56edac-6567-4f1e-82a4-5911ab067b3f button.colab-df-convert');\n",
              "        buttonEl.style.display =\n",
              "          google.colab.kernel.accessAllowed ? 'block' : 'none';\n",
              "\n",
              "        async function convertToInteractive(key) {\n",
              "          const element = document.querySelector('#df-bb56edac-6567-4f1e-82a4-5911ab067b3f');\n",
              "          const dataTable =\n",
              "            await google.colab.kernel.invokeFunction('convertToInteractive',\n",
              "                                                     [key], {});\n",
              "          if (!dataTable) return;\n",
              "\n",
              "          const docLinkHtml = 'Like what you see? Visit the ' +\n",
              "            '<a target=\"_blank\" href=https://colab.research.google.com/notebooks/data_table.ipynb>data table notebook</a>'\n",
              "            + ' to learn more about interactive tables.';\n",
              "          element.innerHTML = '';\n",
              "          dataTable['output_type'] = 'display_data';\n",
              "          await google.colab.output.renderOutput(dataTable, element);\n",
              "          const docLink = document.createElement('div');\n",
              "          docLink.innerHTML = docLinkHtml;\n",
              "          element.appendChild(docLink);\n",
              "        }\n",
              "      </script>\n",
              "    </div>\n",
              "  </div>\n",
              "  "
            ]
          },
          "metadata": {},
          "execution_count": 18
        }
      ]
    },
    {
      "cell_type": "markdown",
      "source": [
        "###Escalamiento de datos\n",
        "Es importante eliminar valores atípicos en los datos y trabajar a una misma escala."
      ],
      "metadata": {
        "id": "nk9SmrKm6mSL"
      }
    },
    {
      "cell_type": "code",
      "source": [
        "from sklearn.metrics import mean_squared_error,r2_score\n",
        "from sklearn.preprocessing import StandardScaler\n",
        "\n",
        "X = df.drop(columns = 'review_overall', axis = 1)\n",
        "y = df['review_overall']\n",
        "\n",
        "scaler = StandardScaler()\n",
        "X_scaled = scaler.fit_transform(X)"
      ],
      "metadata": {
        "id": "RvwfHCTo6l-b"
      },
      "execution_count": 19,
      "outputs": []
    },
    {
      "cell_type": "code",
      "source": [
        "df.var(axis=0)"
      ],
      "metadata": {
        "id": "myCOdA8S7Ryk",
        "colab": {
          "base_uri": "https://localhost:8080/"
        },
        "outputId": "a41de040-d8ed-4394-b5ef-23901f8e2e20"
      },
      "execution_count": 20,
      "outputs": [
        {
          "output_type": "execute_result",
          "data": {
            "text/plain": [
              "brewery_name         6.924426e+05\n",
              "review_overall       4.915968e-01\n",
              "review_aroma         4.545097e-01\n",
              "review_appearance    3.545127e-01\n",
              "beer_style           1.108906e+03\n",
              "review_palate        4.337278e-01\n",
              "review_taste         5.001589e-01\n",
              "beer_name            4.625348e+07\n",
              "beer_abv             5.441326e+00\n",
              "dtype: float64"
            ]
          },
          "metadata": {},
          "execution_count": 20
        }
      ]
    },
    {
      "cell_type": "markdown",
      "source": [
        "###PCA"
      ],
      "metadata": {
        "id": "kswjRbXQSS-U"
      }
    },
    {
      "cell_type": "code",
      "source": [
        "from sklearn.decomposition import PCA\n",
        "from sklearn.pipeline import make_pipeline\n",
        "\n",
        "pca_pipe = make_pipeline(StandardScaler(), PCA())\n",
        "pca_pipe.fit(df)\n",
        "\n",
        "# Se extrae el modelo entrenado del pipeline\n",
        "modelo_pca = pca_pipe.named_steps['pca']"
      ],
      "metadata": {
        "id": "XFllPbqKSRyu"
      },
      "execution_count": 21,
      "outputs": []
    },
    {
      "cell_type": "code",
      "source": [
        "pd.DataFrame(\n",
        "    data    = modelo_pca.components_,\n",
        "    columns = df.columns,\n",
        "    index   = ['PC1', 'PC2', 'PC3', 'PC4','PC5', 'PC6', 'PC7', 'PC8', 'PC9']\n",
        ")"
      ],
      "metadata": {
        "colab": {
          "base_uri": "https://localhost:8080/",
          "height": 332
        },
        "id": "BJ8sE-nciNWr",
        "outputId": "cfc741ad-5768-41e2-9aa6-ed5bcba58b86"
      },
      "execution_count": 22,
      "outputs": [
        {
          "output_type": "execute_result",
          "data": {
            "text/plain": [
              "     brewery_name  review_overall  review_aroma  review_appearance  \\\n",
              "PC1     -0.019434       -0.442995     -0.436798          -0.380092   \n",
              "PC2     -0.679360       -0.064740      0.014799           0.020117   \n",
              "PC3      0.321289       -0.148466      0.013841           0.001077   \n",
              "PC4      0.007110       -0.283252      0.069019           0.060399   \n",
              "PC5      0.658093        0.002327      0.016304          -0.047679   \n",
              "PC6     -0.038374        0.277050      0.018806          -0.895449   \n",
              "PC7      0.015028        0.160530     -0.815044           0.109403   \n",
              "PC8      0.005021        0.520420     -0.311494           0.186048   \n",
              "PC9     -0.002106       -0.569141     -0.205155           0.028110   \n",
              "\n",
              "     beer_style  review_palate  review_taste  beer_name  beer_abv  \n",
              "PC1    0.019836      -0.449526     -0.474214   0.004590 -0.201861  \n",
              "PC2    0.045752      -0.010412     -0.020560  -0.701412  0.197614  \n",
              "PC3   -0.785831      -0.053828     -0.063407  -0.219112  0.449533  \n",
              "PC4    0.444288      -0.071081     -0.094949   0.277602  0.789167  \n",
              "PC5    0.426340       0.002197      0.013893  -0.617937 -0.023655  \n",
              "PC6    0.004711       0.099925      0.266429   0.031938  0.193843  \n",
              "PC7    0.018753       0.521316     -0.046167  -0.005445  0.153150  \n",
              "PC8    0.018404      -0.710787      0.258524  -0.005346  0.158353  \n",
              "PC9   -0.010612      -0.053755      0.788365   0.001810 -0.093120  "
            ],
            "text/html": [
              "\n",
              "  <div id=\"df-0503630f-c6c0-42d0-964d-31b7594cccab\">\n",
              "    <div class=\"colab-df-container\">\n",
              "      <div>\n",
              "<style scoped>\n",
              "    .dataframe tbody tr th:only-of-type {\n",
              "        vertical-align: middle;\n",
              "    }\n",
              "\n",
              "    .dataframe tbody tr th {\n",
              "        vertical-align: top;\n",
              "    }\n",
              "\n",
              "    .dataframe thead th {\n",
              "        text-align: right;\n",
              "    }\n",
              "</style>\n",
              "<table border=\"1\" class=\"dataframe\">\n",
              "  <thead>\n",
              "    <tr style=\"text-align: right;\">\n",
              "      <th></th>\n",
              "      <th>brewery_name</th>\n",
              "      <th>review_overall</th>\n",
              "      <th>review_aroma</th>\n",
              "      <th>review_appearance</th>\n",
              "      <th>beer_style</th>\n",
              "      <th>review_palate</th>\n",
              "      <th>review_taste</th>\n",
              "      <th>beer_name</th>\n",
              "      <th>beer_abv</th>\n",
              "    </tr>\n",
              "  </thead>\n",
              "  <tbody>\n",
              "    <tr>\n",
              "      <th>PC1</th>\n",
              "      <td>-0.019434</td>\n",
              "      <td>-0.442995</td>\n",
              "      <td>-0.436798</td>\n",
              "      <td>-0.380092</td>\n",
              "      <td>0.019836</td>\n",
              "      <td>-0.449526</td>\n",
              "      <td>-0.474214</td>\n",
              "      <td>0.004590</td>\n",
              "      <td>-0.201861</td>\n",
              "    </tr>\n",
              "    <tr>\n",
              "      <th>PC2</th>\n",
              "      <td>-0.679360</td>\n",
              "      <td>-0.064740</td>\n",
              "      <td>0.014799</td>\n",
              "      <td>0.020117</td>\n",
              "      <td>0.045752</td>\n",
              "      <td>-0.010412</td>\n",
              "      <td>-0.020560</td>\n",
              "      <td>-0.701412</td>\n",
              "      <td>0.197614</td>\n",
              "    </tr>\n",
              "    <tr>\n",
              "      <th>PC3</th>\n",
              "      <td>0.321289</td>\n",
              "      <td>-0.148466</td>\n",
              "      <td>0.013841</td>\n",
              "      <td>0.001077</td>\n",
              "      <td>-0.785831</td>\n",
              "      <td>-0.053828</td>\n",
              "      <td>-0.063407</td>\n",
              "      <td>-0.219112</td>\n",
              "      <td>0.449533</td>\n",
              "    </tr>\n",
              "    <tr>\n",
              "      <th>PC4</th>\n",
              "      <td>0.007110</td>\n",
              "      <td>-0.283252</td>\n",
              "      <td>0.069019</td>\n",
              "      <td>0.060399</td>\n",
              "      <td>0.444288</td>\n",
              "      <td>-0.071081</td>\n",
              "      <td>-0.094949</td>\n",
              "      <td>0.277602</td>\n",
              "      <td>0.789167</td>\n",
              "    </tr>\n",
              "    <tr>\n",
              "      <th>PC5</th>\n",
              "      <td>0.658093</td>\n",
              "      <td>0.002327</td>\n",
              "      <td>0.016304</td>\n",
              "      <td>-0.047679</td>\n",
              "      <td>0.426340</td>\n",
              "      <td>0.002197</td>\n",
              "      <td>0.013893</td>\n",
              "      <td>-0.617937</td>\n",
              "      <td>-0.023655</td>\n",
              "    </tr>\n",
              "    <tr>\n",
              "      <th>PC6</th>\n",
              "      <td>-0.038374</td>\n",
              "      <td>0.277050</td>\n",
              "      <td>0.018806</td>\n",
              "      <td>-0.895449</td>\n",
              "      <td>0.004711</td>\n",
              "      <td>0.099925</td>\n",
              "      <td>0.266429</td>\n",
              "      <td>0.031938</td>\n",
              "      <td>0.193843</td>\n",
              "    </tr>\n",
              "    <tr>\n",
              "      <th>PC7</th>\n",
              "      <td>0.015028</td>\n",
              "      <td>0.160530</td>\n",
              "      <td>-0.815044</td>\n",
              "      <td>0.109403</td>\n",
              "      <td>0.018753</td>\n",
              "      <td>0.521316</td>\n",
              "      <td>-0.046167</td>\n",
              "      <td>-0.005445</td>\n",
              "      <td>0.153150</td>\n",
              "    </tr>\n",
              "    <tr>\n",
              "      <th>PC8</th>\n",
              "      <td>0.005021</td>\n",
              "      <td>0.520420</td>\n",
              "      <td>-0.311494</td>\n",
              "      <td>0.186048</td>\n",
              "      <td>0.018404</td>\n",
              "      <td>-0.710787</td>\n",
              "      <td>0.258524</td>\n",
              "      <td>-0.005346</td>\n",
              "      <td>0.158353</td>\n",
              "    </tr>\n",
              "    <tr>\n",
              "      <th>PC9</th>\n",
              "      <td>-0.002106</td>\n",
              "      <td>-0.569141</td>\n",
              "      <td>-0.205155</td>\n",
              "      <td>0.028110</td>\n",
              "      <td>-0.010612</td>\n",
              "      <td>-0.053755</td>\n",
              "      <td>0.788365</td>\n",
              "      <td>0.001810</td>\n",
              "      <td>-0.093120</td>\n",
              "    </tr>\n",
              "  </tbody>\n",
              "</table>\n",
              "</div>\n",
              "      <button class=\"colab-df-convert\" onclick=\"convertToInteractive('df-0503630f-c6c0-42d0-964d-31b7594cccab')\"\n",
              "              title=\"Convert this dataframe to an interactive table.\"\n",
              "              style=\"display:none;\">\n",
              "        \n",
              "  <svg xmlns=\"http://www.w3.org/2000/svg\" height=\"24px\"viewBox=\"0 0 24 24\"\n",
              "       width=\"24px\">\n",
              "    <path d=\"M0 0h24v24H0V0z\" fill=\"none\"/>\n",
              "    <path d=\"M18.56 5.44l.94 2.06.94-2.06 2.06-.94-2.06-.94-.94-2.06-.94 2.06-2.06.94zm-11 1L8.5 8.5l.94-2.06 2.06-.94-2.06-.94L8.5 2.5l-.94 2.06-2.06.94zm10 10l.94 2.06.94-2.06 2.06-.94-2.06-.94-.94-2.06-.94 2.06-2.06.94z\"/><path d=\"M17.41 7.96l-1.37-1.37c-.4-.4-.92-.59-1.43-.59-.52 0-1.04.2-1.43.59L10.3 9.45l-7.72 7.72c-.78.78-.78 2.05 0 2.83L4 21.41c.39.39.9.59 1.41.59.51 0 1.02-.2 1.41-.59l7.78-7.78 2.81-2.81c.8-.78.8-2.07 0-2.86zM5.41 20L4 18.59l7.72-7.72 1.47 1.35L5.41 20z\"/>\n",
              "  </svg>\n",
              "      </button>\n",
              "      \n",
              "  <style>\n",
              "    .colab-df-container {\n",
              "      display:flex;\n",
              "      flex-wrap:wrap;\n",
              "      gap: 12px;\n",
              "    }\n",
              "\n",
              "    .colab-df-convert {\n",
              "      background-color: #E8F0FE;\n",
              "      border: none;\n",
              "      border-radius: 50%;\n",
              "      cursor: pointer;\n",
              "      display: none;\n",
              "      fill: #1967D2;\n",
              "      height: 32px;\n",
              "      padding: 0 0 0 0;\n",
              "      width: 32px;\n",
              "    }\n",
              "\n",
              "    .colab-df-convert:hover {\n",
              "      background-color: #E2EBFA;\n",
              "      box-shadow: 0px 1px 2px rgba(60, 64, 67, 0.3), 0px 1px 3px 1px rgba(60, 64, 67, 0.15);\n",
              "      fill: #174EA6;\n",
              "    }\n",
              "\n",
              "    [theme=dark] .colab-df-convert {\n",
              "      background-color: #3B4455;\n",
              "      fill: #D2E3FC;\n",
              "    }\n",
              "\n",
              "    [theme=dark] .colab-df-convert:hover {\n",
              "      background-color: #434B5C;\n",
              "      box-shadow: 0px 1px 3px 1px rgba(0, 0, 0, 0.15);\n",
              "      filter: drop-shadow(0px 1px 2px rgba(0, 0, 0, 0.3));\n",
              "      fill: #FFFFFF;\n",
              "    }\n",
              "  </style>\n",
              "\n",
              "      <script>\n",
              "        const buttonEl =\n",
              "          document.querySelector('#df-0503630f-c6c0-42d0-964d-31b7594cccab button.colab-df-convert');\n",
              "        buttonEl.style.display =\n",
              "          google.colab.kernel.accessAllowed ? 'block' : 'none';\n",
              "\n",
              "        async function convertToInteractive(key) {\n",
              "          const element = document.querySelector('#df-0503630f-c6c0-42d0-964d-31b7594cccab');\n",
              "          const dataTable =\n",
              "            await google.colab.kernel.invokeFunction('convertToInteractive',\n",
              "                                                     [key], {});\n",
              "          if (!dataTable) return;\n",
              "\n",
              "          const docLinkHtml = 'Like what you see? Visit the ' +\n",
              "            '<a target=\"_blank\" href=https://colab.research.google.com/notebooks/data_table.ipynb>data table notebook</a>'\n",
              "            + ' to learn more about interactive tables.';\n",
              "          element.innerHTML = '';\n",
              "          dataTable['output_type'] = 'display_data';\n",
              "          await google.colab.output.renderOutput(dataTable, element);\n",
              "          const docLink = document.createElement('div');\n",
              "          docLink.innerHTML = docLinkHtml;\n",
              "          element.appendChild(docLink);\n",
              "        }\n",
              "      </script>\n",
              "    </div>\n",
              "  </div>\n",
              "  "
            ]
          },
          "metadata": {},
          "execution_count": 22
        }
      ]
    },
    {
      "cell_type": "code",
      "source": [
        "componentes = modelo_pca.components_\n",
        "plt.figure(figsize=(8, 6))\n",
        "sns.heatmap(componentes.T, cbar = True,  square = True, annot=True, fmt= '.2f',annot_kws={'size': 11},\n",
        "           xticklabels= np.arange(modelo_pca.n_components_) + 1, yticklabels= df.columns,\n",
        "           cmap= 'viridis')"
      ],
      "metadata": {
        "colab": {
          "base_uri": "https://localhost:8080/",
          "height": 391
        },
        "id": "nFp6AlBnjP5o",
        "outputId": "ef14191b-0592-4744-f2f3-2c59df7c7194"
      },
      "execution_count": 23,
      "outputs": [
        {
          "output_type": "execute_result",
          "data": {
            "text/plain": [
              "<matplotlib.axes._subplots.AxesSubplot at 0x7fc27587ffd0>"
            ]
          },
          "metadata": {},
          "execution_count": 23
        },
        {
          "output_type": "display_data",
          "data": {
            "text/plain": [
              "<Figure size 576x432 with 2 Axes>"
            ],
            "image/png": "[encoded data removed]"
          },
          "metadata": {
            "needs_background": "light"
          }
        }
      ]
    },
    {
      "cell_type": "code",
      "source": [
        "print('Porcentaje de varianza explicada por cada componente')\n",
        "print(modelo_pca.explained_variance_ratio_)\n",
        "\n",
        "fig, ax = plt.subplots(nrows=1, ncols=1, figsize=(6, 4))\n",
        "ax.bar(x = np.arange(modelo_pca.n_components_) + 1, height = modelo_pca.explained_variance_ratio_, color = 'peru', edgecolor  = 'crimson', label='Varianza individual explicada')\n",
        "\n",
        "for x, y in zip(np.arange(len(df.columns)) + 1, modelo_pca.explained_variance_ratio_):\n",
        "    label = round(y, 3)\n",
        "    ax.annotate(label, (x,y), textcoords=\"offset points\", xytext=(0,5), ha='center')\n",
        "\n",
        "ax.set_xticks(np.arange(modelo_pca.n_components_) + 1)\n",
        "ax.set_ylim(0, 1.1)\n",
        "ax.set_title('Porcentaje de varianza explicada por cada componente')\n",
        "ax.set_xlabel('Componente principal')\n",
        "ax.set_ylabel('% varianza explicada');"
      ],
      "metadata": {
        "colab": {
          "base_uri": "https://localhost:8080/",
          "height": 347
        },
        "id": "AKIAKxKXkMl6",
        "outputId": "331e7bf8-437d-42eb-8ae9-1bd652a05617"
      },
      "execution_count": 24,
      "outputs": [
        {
          "output_type": "stream",
          "name": "stdout",
          "text": [
            "Porcentaje de varianza explicada por cada componente\n",
            "[0.39763878 0.12986054 0.12202252 0.09735053 0.08848074 0.06403336\n",
            " 0.04601839 0.03303693 0.02155822]\n"
          ]
        },
        {
          "output_type": "display_data",
          "data": {
            "text/plain": [
              "<Figure size 432x288 with 1 Axes>"
            ],
            "image/png": "[encoded data removed]"
          },
          "metadata": {
            "needs_background": "light"
          }
        }
      ]
    },
    {
      "cell_type": "markdown",
      "source": [
        "---------------------"
      ],
      "metadata": {
        "id": "IBnZhSP0o9_u"
      }
    },
    {
      "cell_type": "markdown",
      "source": [
        "La varianza es muy distinta entre las variables, en el caso de Assault, la varianza es varios órdenes de magnitud superior al resto.\n",
        "Si no se estandarizan las variables para que tengan media cero y desviación estándar de uno antes de realizar el estudio PCA, la variable Assault, que tiene una media y dispersión muy superior al resto, dominará la mayoría de las componentes principales."
      ],
      "metadata": {
        "id": "ShU-YK8B5vnN"
      }
    }
  ]
}