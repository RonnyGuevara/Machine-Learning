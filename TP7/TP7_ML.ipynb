{
  "nbformat": 4,
  "nbformat_minor": 0,
  "metadata": {
    "colab": {
      "name": "TP7_ML.ipynb",
      "provenance": [],
      "collapsed_sections": [],
      "authorship_tag": "ABX9TyPFDJRa43usKkCR/DLwCybZ",
      "include_colab_link": true
    },
    "kernelspec": {
      "name": "python3",
      "display_name": "Python 3"
    },
    "language_info": {
      "name": "python"
    }
  },
  "cells": [
    {
      "cell_type": "markdown",
      "metadata": {
        "id": "view-in-github",
        "colab_type": "text"
      },
      "source": [
        "<a href=\"https://colab.research.google.com/github/RonnyGuevara/Machine-Learning/blob/main/TP7/TP7_ML.ipynb\" target=\"_parent\"><img src=\"https://colab.research.google.com/assets/colab-badge.svg\" alt=\"Open In Colab\"/></a>"
      ]
    },
    {
      "cell_type": "markdown",
      "source": [
        "#Práctica 7: Reducción de Dimensionalidad\n",
        "\n",
        "##Presentado por: Ronny Guevara"
      ],
      "metadata": {
        "id": "GURNcYrWg2DQ"
      }
    },
    {
      "cell_type": "markdown",
      "source": [
        "## Objetivo General\n",
        "Desarrollar algoritmos de aprendizaje automático  que permita la reducción dimensional de un dataset\n",
        "## Objetivos Específicos\n",
        "*   Desarrollar un modelo de reducción de dimensionalidad que permita retener la mayor característica de los atributos\n",
        "*   Visualizar los resultados "
      ],
      "metadata": {
        "id": "IaJQAkYDXA4l"
      }
    },
    {
      "cell_type": "markdown",
      "source": [
        "###Problema\n",
        "El presente trabajo práctico da solución al siguiente ejercicio:\n",
        "\n",
        "El dataset de Sommelier de cerveza contiene 871901 reportes de cervezas \n",
        "scrappeados y 13 atributos del sitio BeerAdvocates. El objetivo es agrupar los tipos de\n",
        "cervezas de acuerdo a dichos reportes, y elegir una de ellas como la \n",
        "mejor representante de cada grupo.\n",
        "A continuación se describen los atributos:\n",
        "\n",
        "*   brewery_name - nombre de la cervecería\n",
        "*   beer_style - tipo de cerveza\n",
        "*   nombre_cerveza - nombre de la cerveza\n",
        "*   beer_abv - nivel de alcohol\n",
        "*   review_appearance - Revisión de apariencia\n",
        "*   review_aroma - revisión de fragancias\n",
        "*   review_palate - revisión de sabor (paladar)\n",
        "*   review_taste - revisión de sabor (gusto)\n",
        "*   review_overall - descripción general\n",
        "\n",
        "\n"
      ],
      "metadata": {
        "id": "xCjUaVcjg17B"
      }
    },
    {
      "cell_type": "code",
      "execution_count": 1,
      "metadata": {
        "id": "ZRq7U0ZELSUU"
      },
      "outputs": [],
      "source": [
        "#Lectura de librerías\n",
        "import numpy as np\n",
        "import pandas as pd\n",
        "import matplotlib.pyplot as plt\n",
        "import seaborn as sns\n",
        "import warnings\n",
        "warnings.filterwarnings('ignore')"
      ]
    },
    {
      "cell_type": "markdown",
      "source": [
        "###1. Tratamiento de los datos"
      ],
      "metadata": {
        "id": "iDGA8MbLhGxa"
      }
    },
    {
      "cell_type": "code",
      "source": [
        "#Lectura de datos\n",
        "df = pd.read_csv(\"https://raw.githubusercontent.com/emmanueliarussi/DataScienceCapstone/master/3_MidtermProjects/ProjectBEE/data/beer_reviews_1.csv\")\n",
        "df"
      ],
      "metadata": {
        "colab": {
          "base_uri": "https://localhost:8080/",
          "height": 956
        },
        "id": "h7PG3BbXMr-R",
        "outputId": "5d804e22-1a75-4922-e455-7e118d853130"
      },
      "execution_count": 2,
      "outputs": [
        {
          "output_type": "execute_result",
          "data": {
            "text/plain": [
              "        brewery_id             brewery_name  review_time  review_overall  \\\n",
              "0            10325          Vecchio Birraio   1234817823             1.5   \n",
              "1            10325          Vecchio Birraio   1235915097             3.0   \n",
              "2            10325          Vecchio Birraio   1235916604             3.0   \n",
              "3            10325          Vecchio Birraio   1234725145             3.0   \n",
              "4             1075  Caldera Brewing Company   1293735206             4.0   \n",
              "...            ...                      ...          ...             ...   \n",
              "871896         147        Stone Brewing Co.   1285613705             4.0   \n",
              "871897         147        Stone Brewing Co.   1285125252             4.5   \n",
              "871898         147        Stone Brewing Co.   1284682404             4.5   \n",
              "871899         147        Stone Brewing Co.   1030630588             4.0   \n",
              "871900         147        Stone Brewing Co.   1284168519             3.5   \n",
              "\n",
              "        review_aroma  review_appearance review_profilename  \\\n",
              "0                2.0                2.5            stcules   \n",
              "1                2.5                3.0            stcules   \n",
              "2                2.5                3.0            stcules   \n",
              "3                3.0                3.5            stcules   \n",
              "4                4.5                4.0     johnmichaelsen   \n",
              "...              ...                ...                ...   \n",
              "871896           4.0                4.5       CHILLINDYLAN   \n",
              "871897           4.0                4.5            drabmuh   \n",
              "871898           4.5                4.5          tavernjef   \n",
              "871899           4.0                3.5            uglyguy   \n",
              "871900           4.5                4.5       bagpiper2005   \n",
              "\n",
              "                            beer_style  review_palate  review_taste  \\\n",
              "0                           Hefeweizen            1.5           1.5   \n",
              "1                   English Strong Ale            3.0           3.0   \n",
              "2               Foreign / Export Stout            3.0           3.0   \n",
              "3                      German Pilsener            2.5           3.0   \n",
              "4       American Double / Imperial IPA            4.0           4.5   \n",
              "...                                ...            ...           ...   \n",
              "871896             American Barleywine            4.5           4.5   \n",
              "871897             American Barleywine            4.0           4.0   \n",
              "871898             American Barleywine            4.0           4.5   \n",
              "871899             American Barleywine            4.5           4.5   \n",
              "871900             American Barleywine            5.0           4.5   \n",
              "\n",
              "                                            beer_name  beer_abv  beer_beerid  \n",
              "0                                        Sausa Weizen      5.00        47986  \n",
              "1                                            Red Moon      6.20        48213  \n",
              "2                              Black Horse Black Beer      6.50        48215  \n",
              "3                                          Sausa Pils      5.00        47969  \n",
              "4                                       Cauldron DIPA      7.70        64883  \n",
              "...                                               ...       ...          ...  \n",
              "871896  Stone Old Guardian Barley Wine Style Ale 2010     11.10        56068  \n",
              "871897  Stone Old Guardian Barley Wine Style Ale 2010     11.10        56068  \n",
              "871898  Stone Old Guardian Barley Wine Style Ale 2010     11.10        56068  \n",
              "871899  Stone Old Guardian Barley Wine Style Ale 2002      9.91         3678  \n",
              "871900  Stone Old Guardian Barley Wine Style Ale 2010     11.10        56068  \n",
              "\n",
              "[871901 rows x 13 columns]"
            ],
            "text/html": [
              "\n",
              "  <div id=\"df-a2275eb1-0e0a-4cbd-897e-dcd23cf76f82\">\n",
              "    <div class=\"colab-df-container\">\n",
              "      <div>\n",
              "<style scoped>\n",
              "    .dataframe tbody tr th:only-of-type {\n",
              "        vertical-align: middle;\n",
              "    }\n",
              "\n",
              "    .dataframe tbody tr th {\n",
              "        vertical-align: top;\n",
              "    }\n",
              "\n",
              "    .dataframe thead th {\n",
              "        text-align: right;\n",
              "    }\n",
              "</style>\n",
              "<table border=\"1\" class=\"dataframe\">\n",
              "  <thead>\n",
              "    <tr style=\"text-align: right;\">\n",
              "      <th></th>\n",
              "      <th>brewery_id</th>\n",
              "      <th>brewery_name</th>\n",
              "      <th>review_time</th>\n",
              "      <th>review_overall</th>\n",
              "      <th>review_aroma</th>\n",
              "      <th>review_appearance</th>\n",
              "      <th>review_profilename</th>\n",
              "      <th>beer_style</th>\n",
              "      <th>review_palate</th>\n",
              "      <th>review_taste</th>\n",
              "      <th>beer_name</th>\n",
              "      <th>beer_abv</th>\n",
              "      <th>beer_beerid</th>\n",
              "    </tr>\n",
              "  </thead>\n",
              "  <tbody>\n",
              "    <tr>\n",
              "      <th>0</th>\n",
              "      <td>10325</td>\n",
              "      <td>Vecchio Birraio</td>\n",
              "      <td>1234817823</td>\n",
              "      <td>1.5</td>\n",
              "      <td>2.0</td>\n",
              "      <td>2.5</td>\n",
              "      <td>stcules</td>\n",
              "      <td>Hefeweizen</td>\n",
              "      <td>1.5</td>\n",
              "      <td>1.5</td>\n",
              "      <td>Sausa Weizen</td>\n",
              "      <td>5.00</td>\n",
              "      <td>47986</td>\n",
              "    </tr>\n",
              "    <tr>\n",
              "      <th>1</th>\n",
              "      <td>10325</td>\n",
              "      <td>Vecchio Birraio</td>\n",
              "      <td>1235915097</td>\n",
              "      <td>3.0</td>\n",
              "      <td>2.5</td>\n",
              "      <td>3.0</td>\n",
              "      <td>stcules</td>\n",
              "      <td>English Strong Ale</td>\n",
              "      <td>3.0</td>\n",
              "      <td>3.0</td>\n",
              "      <td>Red Moon</td>\n",
              "      <td>6.20</td>\n",
              "      <td>48213</td>\n",
              "    </tr>\n",
              "    <tr>\n",
              "      <th>2</th>\n",
              "      <td>10325</td>\n",
              "      <td>Vecchio Birraio</td>\n",
              "      <td>1235916604</td>\n",
              "      <td>3.0</td>\n",
              "      <td>2.5</td>\n",
              "      <td>3.0</td>\n",
              "      <td>stcules</td>\n",
              "      <td>Foreign / Export Stout</td>\n",
              "      <td>3.0</td>\n",
              "      <td>3.0</td>\n",
              "      <td>Black Horse Black Beer</td>\n",
              "      <td>6.50</td>\n",
              "      <td>48215</td>\n",
              "    </tr>\n",
              "    <tr>\n",
              "      <th>3</th>\n",
              "      <td>10325</td>\n",
              "      <td>Vecchio Birraio</td>\n",
              "      <td>1234725145</td>\n",
              "      <td>3.0</td>\n",
              "      <td>3.0</td>\n",
              "      <td>3.5</td>\n",
              "      <td>stcules</td>\n",
              "      <td>German Pilsener</td>\n",
              "      <td>2.5</td>\n",
              "      <td>3.0</td>\n",
              "      <td>Sausa Pils</td>\n",
              "      <td>5.00</td>\n",
              "      <td>47969</td>\n",
              "    </tr>\n",
              "    <tr>\n",
              "      <th>4</th>\n",
              "      <td>1075</td>\n",
              "      <td>Caldera Brewing Company</td>\n",
              "      <td>1293735206</td>\n",
              "      <td>4.0</td>\n",
              "      <td>4.5</td>\n",
              "      <td>4.0</td>\n",
              "      <td>johnmichaelsen</td>\n",
              "      <td>American Double / Imperial IPA</td>\n",
              "      <td>4.0</td>\n",
              "      <td>4.5</td>\n",
              "      <td>Cauldron DIPA</td>\n",
              "      <td>7.70</td>\n",
              "      <td>64883</td>\n",
              "    </tr>\n",
              "    <tr>\n",
              "      <th>...</th>\n",
              "      <td>...</td>\n",
              "      <td>...</td>\n",
              "      <td>...</td>\n",
              "      <td>...</td>\n",
              "      <td>...</td>\n",
              "      <td>...</td>\n",
              "      <td>...</td>\n",
              "      <td>...</td>\n",
              "      <td>...</td>\n",
              "      <td>...</td>\n",
              "      <td>...</td>\n",
              "      <td>...</td>\n",
              "      <td>...</td>\n",
              "    </tr>\n",
              "    <tr>\n",
              "      <th>871896</th>\n",
              "      <td>147</td>\n",
              "      <td>Stone Brewing Co.</td>\n",
              "      <td>1285613705</td>\n",
              "      <td>4.0</td>\n",
              "      <td>4.0</td>\n",
              "      <td>4.5</td>\n",
              "      <td>CHILLINDYLAN</td>\n",
              "      <td>American Barleywine</td>\n",
              "      <td>4.5</td>\n",
              "      <td>4.5</td>\n",
              "      <td>Stone Old Guardian Barley Wine Style Ale 2010</td>\n",
              "      <td>11.10</td>\n",
              "      <td>56068</td>\n",
              "    </tr>\n",
              "    <tr>\n",
              "      <th>871897</th>\n",
              "      <td>147</td>\n",
              "      <td>Stone Brewing Co.</td>\n",
              "      <td>1285125252</td>\n",
              "      <td>4.5</td>\n",
              "      <td>4.0</td>\n",
              "      <td>4.5</td>\n",
              "      <td>drabmuh</td>\n",
              "      <td>American Barleywine</td>\n",
              "      <td>4.0</td>\n",
              "      <td>4.0</td>\n",
              "      <td>Stone Old Guardian Barley Wine Style Ale 2010</td>\n",
              "      <td>11.10</td>\n",
              "      <td>56068</td>\n",
              "    </tr>\n",
              "    <tr>\n",
              "      <th>871898</th>\n",
              "      <td>147</td>\n",
              "      <td>Stone Brewing Co.</td>\n",
              "      <td>1284682404</td>\n",
              "      <td>4.5</td>\n",
              "      <td>4.5</td>\n",
              "      <td>4.5</td>\n",
              "      <td>tavernjef</td>\n",
              "      <td>American Barleywine</td>\n",
              "      <td>4.0</td>\n",
              "      <td>4.5</td>\n",
              "      <td>Stone Old Guardian Barley Wine Style Ale 2010</td>\n",
              "      <td>11.10</td>\n",
              "      <td>56068</td>\n",
              "    </tr>\n",
              "    <tr>\n",
              "      <th>871899</th>\n",
              "      <td>147</td>\n",
              "      <td>Stone Brewing Co.</td>\n",
              "      <td>1030630588</td>\n",
              "      <td>4.0</td>\n",
              "      <td>4.0</td>\n",
              "      <td>3.5</td>\n",
              "      <td>uglyguy</td>\n",
              "      <td>American Barleywine</td>\n",
              "      <td>4.5</td>\n",
              "      <td>4.5</td>\n",
              "      <td>Stone Old Guardian Barley Wine Style Ale 2002</td>\n",
              "      <td>9.91</td>\n",
              "      <td>3678</td>\n",
              "    </tr>\n",
              "    <tr>\n",
              "      <th>871900</th>\n",
              "      <td>147</td>\n",
              "      <td>Stone Brewing Co.</td>\n",
              "      <td>1284168519</td>\n",
              "      <td>3.5</td>\n",
              "      <td>4.5</td>\n",
              "      <td>4.5</td>\n",
              "      <td>bagpiper2005</td>\n",
              "      <td>American Barleywine</td>\n",
              "      <td>5.0</td>\n",
              "      <td>4.5</td>\n",
              "      <td>Stone Old Guardian Barley Wine Style Ale 2010</td>\n",
              "      <td>11.10</td>\n",
              "      <td>56068</td>\n",
              "    </tr>\n",
              "  </tbody>\n",
              "</table>\n",
              "<p>871901 rows × 13 columns</p>\n",
              "</div>\n",
              "      <button class=\"colab-df-convert\" onclick=\"convertToInteractive('df-a2275eb1-0e0a-4cbd-897e-dcd23cf76f82')\"\n",
              "              title=\"Convert this dataframe to an interactive table.\"\n",
              "              style=\"display:none;\">\n",
              "        \n",
              "  <svg xmlns=\"http://www.w3.org/2000/svg\" height=\"24px\"viewBox=\"0 0 24 24\"\n",
              "       width=\"24px\">\n",
              "    <path d=\"M0 0h24v24H0V0z\" fill=\"none\"/>\n",
              "    <path d=\"M18.56 5.44l.94 2.06.94-2.06 2.06-.94-2.06-.94-.94-2.06-.94 2.06-2.06.94zm-11 1L8.5 8.5l.94-2.06 2.06-.94-2.06-.94L8.5 2.5l-.94 2.06-2.06.94zm10 10l.94 2.06.94-2.06 2.06-.94-2.06-.94-.94-2.06-.94 2.06-2.06.94z\"/><path d=\"M17.41 7.96l-1.37-1.37c-.4-.4-.92-.59-1.43-.59-.52 0-1.04.2-1.43.59L10.3 9.45l-7.72 7.72c-.78.78-.78 2.05 0 2.83L4 21.41c.39.39.9.59 1.41.59.51 0 1.02-.2 1.41-.59l7.78-7.78 2.81-2.81c.8-.78.8-2.07 0-2.86zM5.41 20L4 18.59l7.72-7.72 1.47 1.35L5.41 20z\"/>\n",
              "  </svg>\n",
              "      </button>\n",
              "      \n",
              "  <style>\n",
              "    .colab-df-container {\n",
              "      display:flex;\n",
              "      flex-wrap:wrap;\n",
              "      gap: 12px;\n",
              "    }\n",
              "\n",
              "    .colab-df-convert {\n",
              "      background-color: #E8F0FE;\n",
              "      border: none;\n",
              "      border-radius: 50%;\n",
              "      cursor: pointer;\n",
              "      display: none;\n",
              "      fill: #1967D2;\n",
              "      height: 32px;\n",
              "      padding: 0 0 0 0;\n",
              "      width: 32px;\n",
              "    }\n",
              "\n",
              "    .colab-df-convert:hover {\n",
              "      background-color: #E2EBFA;\n",
              "      box-shadow: 0px 1px 2px rgba(60, 64, 67, 0.3), 0px 1px 3px 1px rgba(60, 64, 67, 0.15);\n",
              "      fill: #174EA6;\n",
              "    }\n",
              "\n",
              "    [theme=dark] .colab-df-convert {\n",
              "      background-color: #3B4455;\n",
              "      fill: #D2E3FC;\n",
              "    }\n",
              "\n",
              "    [theme=dark] .colab-df-convert:hover {\n",
              "      background-color: #434B5C;\n",
              "      box-shadow: 0px 1px 3px 1px rgba(0, 0, 0, 0.15);\n",
              "      filter: drop-shadow(0px 1px 2px rgba(0, 0, 0, 0.3));\n",
              "      fill: #FFFFFF;\n",
              "    }\n",
              "  </style>\n",
              "\n",
              "      <script>\n",
              "        const buttonEl =\n",
              "          document.querySelector('#df-a2275eb1-0e0a-4cbd-897e-dcd23cf76f82 button.colab-df-convert');\n",
              "        buttonEl.style.display =\n",
              "          google.colab.kernel.accessAllowed ? 'block' : 'none';\n",
              "\n",
              "        async function convertToInteractive(key) {\n",
              "          const element = document.querySelector('#df-a2275eb1-0e0a-4cbd-897e-dcd23cf76f82');\n",
              "          const dataTable =\n",
              "            await google.colab.kernel.invokeFunction('convertToInteractive',\n",
              "                                                     [key], {});\n",
              "          if (!dataTable) return;\n",
              "\n",
              "          const docLinkHtml = 'Like what you see? Visit the ' +\n",
              "            '<a target=\"_blank\" href=https://colab.research.google.com/notebooks/data_table.ipynb>data table notebook</a>'\n",
              "            + ' to learn more about interactive tables.';\n",
              "          element.innerHTML = '';\n",
              "          dataTable['output_type'] = 'display_data';\n",
              "          await google.colab.output.renderOutput(dataTable, element);\n",
              "          const docLink = document.createElement('div');\n",
              "          docLink.innerHTML = docLinkHtml;\n",
              "          element.appendChild(docLink);\n",
              "        }\n",
              "      </script>\n",
              "    </div>\n",
              "  </div>\n",
              "  "
            ]
          },
          "metadata": {},
          "execution_count": 2
        }
      ]
    },
    {
      "cell_type": "code",
      "source": [
        "#Visualización de los atributos\n",
        "df.columns"
      ],
      "metadata": {
        "colab": {
          "base_uri": "https://localhost:8080/"
        },
        "id": "mNxrt6YNj9C8",
        "outputId": "6edcff24-e01a-4ed1-dd28-f0682c82a4d4"
      },
      "execution_count": 3,
      "outputs": [
        {
          "output_type": "execute_result",
          "data": {
            "text/plain": [
              "Index(['brewery_id', 'brewery_name', 'review_time', 'review_overall',\n",
              "       'review_aroma', 'review_appearance', 'review_profilename', 'beer_style',\n",
              "       'review_palate', 'review_taste', 'beer_name', 'beer_abv',\n",
              "       'beer_beerid'],\n",
              "      dtype='object')"
            ]
          },
          "metadata": {},
          "execution_count": 3
        }
      ]
    },
    {
      "cell_type": "code",
      "source": [
        "#Cuenta los valores nulos para cada columna\n",
        "df.isna().sum()"
      ],
      "metadata": {
        "colab": {
          "base_uri": "https://localhost:8080/"
        },
        "id": "jSauBOd2j_eV",
        "outputId": "bb7f439d-fa79-45d8-cfe1-e41ee885b1c8"
      },
      "execution_count": 4,
      "outputs": [
        {
          "output_type": "execute_result",
          "data": {
            "text/plain": [
              "brewery_id                0\n",
              "brewery_name              9\n",
              "review_time               0\n",
              "review_overall            0\n",
              "review_aroma              0\n",
              "review_appearance         0\n",
              "review_profilename      181\n",
              "beer_style                0\n",
              "review_palate             0\n",
              "review_taste              0\n",
              "beer_name                 0\n",
              "beer_abv              36242\n",
              "beer_beerid               0\n",
              "dtype: int64"
            ]
          },
          "metadata": {},
          "execution_count": 4
        }
      ]
    },
    {
      "cell_type": "code",
      "source": [
        "#Permite obtener los estadísticos descriptivos\n",
        "df.describe()"
      ],
      "metadata": {
        "colab": {
          "base_uri": "https://localhost:8080/",
          "height": 300
        },
        "id": "D3LUTjxKkFkK",
        "outputId": "a56a9104-4182-4ab4-e31d-c031f471b5cd"
      },
      "execution_count": 5,
      "outputs": [
        {
          "output_type": "execute_result",
          "data": {
            "text/plain": [
              "          brewery_id   review_time  review_overall   review_aroma  \\\n",
              "count  871901.000000  8.719010e+05   871901.000000  871901.000000   \n",
              "mean     3271.796264  1.227348e+09        3.828825       3.755972   \n",
              "std      5644.054301  7.531277e+07        0.704718       0.677216   \n",
              "min         1.000000  8.406720e+08        0.000000       1.000000   \n",
              "25%       140.000000  1.179688e+09        3.500000       3.500000   \n",
              "50%       590.000000  1.243041e+09        4.000000       4.000000   \n",
              "75%      2743.000000  1.289962e+09        4.500000       4.000000   \n",
              "max     28003.000000  1.326285e+09        5.000000       5.000000   \n",
              "\n",
              "       review_appearance  review_palate   review_taste       beer_abv  \\\n",
              "count      871901.000000  871901.000000  871901.000000  835659.000000   \n",
              "mean            3.856491       3.757737       3.808603       7.046130   \n",
              "std             0.597753       0.662392       0.711305       2.330143   \n",
              "min             0.000000       1.000000       1.000000       0.010000   \n",
              "25%             3.500000       3.500000       3.500000       5.300000   \n",
              "50%             4.000000       4.000000       4.000000       6.500000   \n",
              "75%             4.000000       4.000000       4.500000       8.500000   \n",
              "max             5.000000       5.000000       5.000000      57.700000   \n",
              "\n",
              "         beer_beerid  \n",
              "count  871901.000000  \n",
              "mean    23337.928449  \n",
              "std     22030.109041  \n",
              "min         3.000000  \n",
              "25%      2151.000000  \n",
              "50%     17770.000000  \n",
              "75%     41722.000000  \n",
              "max     77314.000000  "
            ],
            "text/html": [
              "\n",
              "  <div id=\"df-38753357-2f97-4caf-b453-3339dcd6d3e8\">\n",
              "    <div class=\"colab-df-container\">\n",
              "      <div>\n",
              "<style scoped>\n",
              "    .dataframe tbody tr th:only-of-type {\n",
              "        vertical-align: middle;\n",
              "    }\n",
              "\n",
              "    .dataframe tbody tr th {\n",
              "        vertical-align: top;\n",
              "    }\n",
              "\n",
              "    .dataframe thead th {\n",
              "        text-align: right;\n",
              "    }\n",
              "</style>\n",
              "<table border=\"1\" class=\"dataframe\">\n",
              "  <thead>\n",
              "    <tr style=\"text-align: right;\">\n",
              "      <th></th>\n",
              "      <th>brewery_id</th>\n",
              "      <th>review_time</th>\n",
              "      <th>review_overall</th>\n",
              "      <th>review_aroma</th>\n",
              "      <th>review_appearance</th>\n",
              "      <th>review_palate</th>\n",
              "      <th>review_taste</th>\n",
              "      <th>beer_abv</th>\n",
              "      <th>beer_beerid</th>\n",
              "    </tr>\n",
              "  </thead>\n",
              "  <tbody>\n",
              "    <tr>\n",
              "      <th>count</th>\n",
              "      <td>871901.000000</td>\n",
              "      <td>8.719010e+05</td>\n",
              "      <td>871901.000000</td>\n",
              "      <td>871901.000000</td>\n",
              "      <td>871901.000000</td>\n",
              "      <td>871901.000000</td>\n",
              "      <td>871901.000000</td>\n",
              "      <td>835659.000000</td>\n",
              "      <td>871901.000000</td>\n",
              "    </tr>\n",
              "    <tr>\n",
              "      <th>mean</th>\n",
              "      <td>3271.796264</td>\n",
              "      <td>1.227348e+09</td>\n",
              "      <td>3.828825</td>\n",
              "      <td>3.755972</td>\n",
              "      <td>3.856491</td>\n",
              "      <td>3.757737</td>\n",
              "      <td>3.808603</td>\n",
              "      <td>7.046130</td>\n",
              "      <td>23337.928449</td>\n",
              "    </tr>\n",
              "    <tr>\n",
              "      <th>std</th>\n",
              "      <td>5644.054301</td>\n",
              "      <td>7.531277e+07</td>\n",
              "      <td>0.704718</td>\n",
              "      <td>0.677216</td>\n",
              "      <td>0.597753</td>\n",
              "      <td>0.662392</td>\n",
              "      <td>0.711305</td>\n",
              "      <td>2.330143</td>\n",
              "      <td>22030.109041</td>\n",
              "    </tr>\n",
              "    <tr>\n",
              "      <th>min</th>\n",
              "      <td>1.000000</td>\n",
              "      <td>8.406720e+08</td>\n",
              "      <td>0.000000</td>\n",
              "      <td>1.000000</td>\n",
              "      <td>0.000000</td>\n",
              "      <td>1.000000</td>\n",
              "      <td>1.000000</td>\n",
              "      <td>0.010000</td>\n",
              "      <td>3.000000</td>\n",
              "    </tr>\n",
              "    <tr>\n",
              "      <th>25%</th>\n",
              "      <td>140.000000</td>\n",
              "      <td>1.179688e+09</td>\n",
              "      <td>3.500000</td>\n",
              "      <td>3.500000</td>\n",
              "      <td>3.500000</td>\n",
              "      <td>3.500000</td>\n",
              "      <td>3.500000</td>\n",
              "      <td>5.300000</td>\n",
              "      <td>2151.000000</td>\n",
              "    </tr>\n",
              "    <tr>\n",
              "      <th>50%</th>\n",
              "      <td>590.000000</td>\n",
              "      <td>1.243041e+09</td>\n",
              "      <td>4.000000</td>\n",
              "      <td>4.000000</td>\n",
              "      <td>4.000000</td>\n",
              "      <td>4.000000</td>\n",
              "      <td>4.000000</td>\n",
              "      <td>6.500000</td>\n",
              "      <td>17770.000000</td>\n",
              "    </tr>\n",
              "    <tr>\n",
              "      <th>75%</th>\n",
              "      <td>2743.000000</td>\n",
              "      <td>1.289962e+09</td>\n",
              "      <td>4.500000</td>\n",
              "      <td>4.000000</td>\n",
              "      <td>4.000000</td>\n",
              "      <td>4.000000</td>\n",
              "      <td>4.500000</td>\n",
              "      <td>8.500000</td>\n",
              "      <td>41722.000000</td>\n",
              "    </tr>\n",
              "    <tr>\n",
              "      <th>max</th>\n",
              "      <td>28003.000000</td>\n",
              "      <td>1.326285e+09</td>\n",
              "      <td>5.000000</td>\n",
              "      <td>5.000000</td>\n",
              "      <td>5.000000</td>\n",
              "      <td>5.000000</td>\n",
              "      <td>5.000000</td>\n",
              "      <td>57.700000</td>\n",
              "      <td>77314.000000</td>\n",
              "    </tr>\n",
              "  </tbody>\n",
              "</table>\n",
              "</div>\n",
              "      <button class=\"colab-df-convert\" onclick=\"convertToInteractive('df-38753357-2f97-4caf-b453-3339dcd6d3e8')\"\n",
              "              title=\"Convert this dataframe to an interactive table.\"\n",
              "              style=\"display:none;\">\n",
              "        \n",
              "  <svg xmlns=\"http://www.w3.org/2000/svg\" height=\"24px\"viewBox=\"0 0 24 24\"\n",
              "       width=\"24px\">\n",
              "    <path d=\"M0 0h24v24H0V0z\" fill=\"none\"/>\n",
              "    <path d=\"M18.56 5.44l.94 2.06.94-2.06 2.06-.94-2.06-.94-.94-2.06-.94 2.06-2.06.94zm-11 1L8.5 8.5l.94-2.06 2.06-.94-2.06-.94L8.5 2.5l-.94 2.06-2.06.94zm10 10l.94 2.06.94-2.06 2.06-.94-2.06-.94-.94-2.06-.94 2.06-2.06.94z\"/><path d=\"M17.41 7.96l-1.37-1.37c-.4-.4-.92-.59-1.43-.59-.52 0-1.04.2-1.43.59L10.3 9.45l-7.72 7.72c-.78.78-.78 2.05 0 2.83L4 21.41c.39.39.9.59 1.41.59.51 0 1.02-.2 1.41-.59l7.78-7.78 2.81-2.81c.8-.78.8-2.07 0-2.86zM5.41 20L4 18.59l7.72-7.72 1.47 1.35L5.41 20z\"/>\n",
              "  </svg>\n",
              "      </button>\n",
              "      \n",
              "  <style>\n",
              "    .colab-df-container {\n",
              "      display:flex;\n",
              "      flex-wrap:wrap;\n",
              "      gap: 12px;\n",
              "    }\n",
              "\n",
              "    .colab-df-convert {\n",
              "      background-color: #E8F0FE;\n",
              "      border: none;\n",
              "      border-radius: 50%;\n",
              "      cursor: pointer;\n",
              "      display: none;\n",
              "      fill: #1967D2;\n",
              "      height: 32px;\n",
              "      padding: 0 0 0 0;\n",
              "      width: 32px;\n",
              "    }\n",
              "\n",
              "    .colab-df-convert:hover {\n",
              "      background-color: #E2EBFA;\n",
              "      box-shadow: 0px 1px 2px rgba(60, 64, 67, 0.3), 0px 1px 3px 1px rgba(60, 64, 67, 0.15);\n",
              "      fill: #174EA6;\n",
              "    }\n",
              "\n",
              "    [theme=dark] .colab-df-convert {\n",
              "      background-color: #3B4455;\n",
              "      fill: #D2E3FC;\n",
              "    }\n",
              "\n",
              "    [theme=dark] .colab-df-convert:hover {\n",
              "      background-color: #434B5C;\n",
              "      box-shadow: 0px 1px 3px 1px rgba(0, 0, 0, 0.15);\n",
              "      filter: drop-shadow(0px 1px 2px rgba(0, 0, 0, 0.3));\n",
              "      fill: #FFFFFF;\n",
              "    }\n",
              "  </style>\n",
              "\n",
              "      <script>\n",
              "        const buttonEl =\n",
              "          document.querySelector('#df-38753357-2f97-4caf-b453-3339dcd6d3e8 button.colab-df-convert');\n",
              "        buttonEl.style.display =\n",
              "          google.colab.kernel.accessAllowed ? 'block' : 'none';\n",
              "\n",
              "        async function convertToInteractive(key) {\n",
              "          const element = document.querySelector('#df-38753357-2f97-4caf-b453-3339dcd6d3e8');\n",
              "          const dataTable =\n",
              "            await google.colab.kernel.invokeFunction('convertToInteractive',\n",
              "                                                     [key], {});\n",
              "          if (!dataTable) return;\n",
              "\n",
              "          const docLinkHtml = 'Like what you see? Visit the ' +\n",
              "            '<a target=\"_blank\" href=https://colab.research.google.com/notebooks/data_table.ipynb>data table notebook</a>'\n",
              "            + ' to learn more about interactive tables.';\n",
              "          element.innerHTML = '';\n",
              "          dataTable['output_type'] = 'display_data';\n",
              "          await google.colab.output.renderOutput(dataTable, element);\n",
              "          const docLink = document.createElement('div');\n",
              "          docLink.innerHTML = docLinkHtml;\n",
              "          element.appendChild(docLink);\n",
              "        }\n",
              "      </script>\n",
              "    </div>\n",
              "  </div>\n",
              "  "
            ]
          },
          "metadata": {},
          "execution_count": 5
        }
      ]
    },
    {
      "cell_type": "code",
      "source": [
        "#info() devuelve el total de valores no nulos y tipo de dato para cada atributo\n",
        "df.info()"
      ],
      "metadata": {
        "colab": {
          "base_uri": "https://localhost:8080/"
        },
        "id": "3uTjmWYykJLZ",
        "outputId": "72865605-beba-4fdf-cfcd-30365cb2e0a0"
      },
      "execution_count": 6,
      "outputs": [
        {
          "output_type": "stream",
          "name": "stdout",
          "text": [
            "<class 'pandas.core.frame.DataFrame'>\n",
            "RangeIndex: 871901 entries, 0 to 871900\n",
            "Data columns (total 13 columns):\n",
            " #   Column              Non-Null Count   Dtype  \n",
            "---  ------              --------------   -----  \n",
            " 0   brewery_id          871901 non-null  int64  \n",
            " 1   brewery_name        871892 non-null  object \n",
            " 2   review_time         871901 non-null  int64  \n",
            " 3   review_overall      871901 non-null  float64\n",
            " 4   review_aroma        871901 non-null  float64\n",
            " 5   review_appearance   871901 non-null  float64\n",
            " 6   review_profilename  871720 non-null  object \n",
            " 7   beer_style          871901 non-null  object \n",
            " 8   review_palate       871901 non-null  float64\n",
            " 9   review_taste        871901 non-null  float64\n",
            " 10  beer_name           871901 non-null  object \n",
            " 11  beer_abv            835659 non-null  float64\n",
            " 12  beer_beerid         871901 non-null  int64  \n",
            "dtypes: float64(6), int64(3), object(4)\n",
            "memory usage: 86.5+ MB\n"
          ]
        }
      ]
    },
    {
      "cell_type": "markdown",
      "source": [
        "###Eliminación de valores nulos\n",
        "La función pandas. DataFrame. dropna() elimina los valores nulos del DataFrame dejando caer las filas o columnas que contienen los valores nulos."
      ],
      "metadata": {
        "id": "YsEITVTtpwb0"
      }
    },
    {
      "cell_type": "code",
      "source": [
        "# Drop null row values\n",
        "df = df.dropna()\n",
        "df.info()"
      ],
      "metadata": {
        "colab": {
          "base_uri": "https://localhost:8080/"
        },
        "id": "gk8274KZpgRj",
        "outputId": "a8c7dc9a-ab65-4abe-e188-fe0dbbdafc53"
      },
      "execution_count": 7,
      "outputs": [
        {
          "output_type": "stream",
          "name": "stdout",
          "text": [
            "<class 'pandas.core.frame.DataFrame'>\n",
            "Int64Index: 835471 entries, 0 to 871900\n",
            "Data columns (total 13 columns):\n",
            " #   Column              Non-Null Count   Dtype  \n",
            "---  ------              --------------   -----  \n",
            " 0   brewery_id          835471 non-null  int64  \n",
            " 1   brewery_name        835471 non-null  object \n",
            " 2   review_time         835471 non-null  int64  \n",
            " 3   review_overall      835471 non-null  float64\n",
            " 4   review_aroma        835471 non-null  float64\n",
            " 5   review_appearance   835471 non-null  float64\n",
            " 6   review_profilename  835471 non-null  object \n",
            " 7   beer_style          835471 non-null  object \n",
            " 8   review_palate       835471 non-null  float64\n",
            " 9   review_taste        835471 non-null  float64\n",
            " 10  beer_name           835471 non-null  object \n",
            " 11  beer_abv            835471 non-null  float64\n",
            " 12  beer_beerid         835471 non-null  int64  \n",
            "dtypes: float64(6), int64(3), object(4)\n",
            "memory usage: 89.2+ MB\n"
          ]
        }
      ]
    },
    {
      "cell_type": "code",
      "source": [
        "print(df.isnull().sum())"
      ],
      "metadata": {
        "colab": {
          "base_uri": "https://localhost:8080/"
        },
        "id": "5CZHy9a-rJoH",
        "outputId": "45ef4536-4dda-421b-8a27-c6c2048329a0"
      },
      "execution_count": 8,
      "outputs": [
        {
          "output_type": "stream",
          "name": "stdout",
          "text": [
            "brewery_id            0\n",
            "brewery_name          0\n",
            "review_time           0\n",
            "review_overall        0\n",
            "review_aroma          0\n",
            "review_appearance     0\n",
            "review_profilename    0\n",
            "beer_style            0\n",
            "review_palate         0\n",
            "review_taste          0\n",
            "beer_name             0\n",
            "beer_abv              0\n",
            "beer_beerid           0\n",
            "dtype: int64\n"
          ]
        }
      ]
    },
    {
      "cell_type": "markdown",
      "source": [
        "En el conjunto de datos, la columna de tiempo de revisión tiene un tipo de datos de int64, por tanto, se convierte a un formato de fecha y hora"
      ],
      "metadata": {
        "id": "fci3G_Oe9jU0"
      }
    },
    {
      "cell_type": "code",
      "source": [
        "df.review_time = pd.to_datetime(df.review_time,unit = 's')"
      ],
      "metadata": {
        "id": "iiy9Zmrl9y_-"
      },
      "execution_count": 9,
      "outputs": []
    },
    {
      "cell_type": "markdown",
      "source": [
        "###Debemos preguntarnos, ¿es posible que un usuario califico la misma cerveza más de una vez?\n"
      ],
      "metadata": {
        "id": "_jmryZuUrjQB"
      }
    },
    {
      "cell_type": "code",
      "source": [
        "# Ordenamos el atributo 'review_overall'\n",
        "df = df.sort_values('review_overall', ascending=False)\n",
        "\n",
        "# keep='first' mantiene la calificación más alta del usuario y elimina el resto\n",
        "df = df.drop_duplicates(subset= ['review_profilename','beer_name'], keep='first')\n",
        "df.info()\n",
        "\n",
        "# Imprime el porcentaje de datos duplicados\n",
        "print(\"Porcentaje de valores duplicados:\", round((1518478 - 1496263)/ 1518478 * 100, 2),\"%\")"
      ],
      "metadata": {
        "colab": {
          "base_uri": "https://localhost:8080/"
        },
        "id": "aRTqmI7vsJJJ",
        "outputId": "b30802c6-fbb5-4abf-9e10-8db3a546d185"
      },
      "execution_count": 10,
      "outputs": [
        {
          "output_type": "stream",
          "name": "stdout",
          "text": [
            "<class 'pandas.core.frame.DataFrame'>\n",
            "Int64Index: 824468 entries, 136263 to 39648\n",
            "Data columns (total 13 columns):\n",
            " #   Column              Non-Null Count   Dtype         \n",
            "---  ------              --------------   -----         \n",
            " 0   brewery_id          824468 non-null  int64         \n",
            " 1   brewery_name        824468 non-null  object        \n",
            " 2   review_time         824468 non-null  datetime64[ns]\n",
            " 3   review_overall      824468 non-null  float64       \n",
            " 4   review_aroma        824468 non-null  float64       \n",
            " 5   review_appearance   824468 non-null  float64       \n",
            " 6   review_profilename  824468 non-null  object        \n",
            " 7   beer_style          824468 non-null  object        \n",
            " 8   review_palate       824468 non-null  float64       \n",
            " 9   review_taste        824468 non-null  float64       \n",
            " 10  beer_name           824468 non-null  object        \n",
            " 11  beer_abv            824468 non-null  float64       \n",
            " 12  beer_beerid         824468 non-null  int64         \n",
            "dtypes: datetime64[ns](1), float64(6), int64(2), object(4)\n",
            "memory usage: 88.1+ MB\n",
            "Porcentaje de valores duplicados: 1.46 %\n"
          ]
        }
      ]
    },
    {
      "cell_type": "markdown",
      "source": [
        "Observamos un 1.46% de valores duplicados, dando a conocer que hubo usuarios que calificaron la misma cerveza varias ocasiones."
      ],
      "metadata": {
        "id": "3sk6qLoXtqCM"
      }
    },
    {
      "cell_type": "markdown",
      "source": [
        "Es importante conocer si existe algún tipo de asociación entre atributos, corr() describe la correlación entre atributos de la dataframe"
      ],
      "metadata": {
        "id": "jHqkNI65kRL9"
      }
    },
    {
      "cell_type": "code",
      "source": [
        "df.corr()"
      ],
      "metadata": {
        "colab": {
          "base_uri": "https://localhost:8080/",
          "height": 300
        },
        "id": "HvArsjX8kODr",
        "outputId": "ef84e8aa-a440-4f8f-980b-f282d2b9a0e4"
      },
      "execution_count": 11,
      "outputs": [
        {
          "output_type": "execute_result",
          "data": {
            "text/plain": [
              "                   brewery_id  review_overall  review_aroma  \\\n",
              "brewery_id           1.000000       -0.003749      0.034198   \n",
              "review_overall      -0.003749        1.000000      0.595280   \n",
              "review_aroma         0.034198        0.595280      1.000000   \n",
              "review_appearance    0.009777        0.475798      0.532570   \n",
              "review_palate        0.007349        0.686437      0.590504   \n",
              "review_taste         0.005494        0.779704      0.697554   \n",
              "beer_abv             0.077822        0.111802      0.312657   \n",
              "beer_beerid          0.460838        0.007011      0.089894   \n",
              "\n",
              "                   review_appearance  review_palate  review_taste  beer_abv  \\\n",
              "brewery_id                  0.009777       0.007349      0.005494  0.077822   \n",
              "review_overall              0.475798       0.686437      0.779704  0.111802   \n",
              "review_aroma                0.532570       0.590504      0.697554  0.312657   \n",
              "review_appearance           1.000000       0.539759      0.517960  0.237579   \n",
              "review_palate               0.539759       1.000000      0.715339  0.258309   \n",
              "review_taste                0.517960       0.715339      1.000000  0.265377   \n",
              "beer_abv                    0.237579       0.258309      0.265377  1.000000   \n",
              "beer_beerid                 0.066183       0.057766      0.042048  0.246182   \n",
              "\n",
              "                   beer_beerid  \n",
              "brewery_id            0.460838  \n",
              "review_overall        0.007011  \n",
              "review_aroma          0.089894  \n",
              "review_appearance     0.066183  \n",
              "review_palate         0.057766  \n",
              "review_taste          0.042048  \n",
              "beer_abv              0.246182  \n",
              "beer_beerid           1.000000  "
            ],
            "text/html": [
              "\n",
              "  <div id=\"df-c4475669-133d-49cd-80ca-c2f6ae31f606\">\n",
              "    <div class=\"colab-df-container\">\n",
              "      <div>\n",
              "<style scoped>\n",
              "    .dataframe tbody tr th:only-of-type {\n",
              "        vertical-align: middle;\n",
              "    }\n",
              "\n",
              "    .dataframe tbody tr th {\n",
              "        vertical-align: top;\n",
              "    }\n",
              "\n",
              "    .dataframe thead th {\n",
              "        text-align: right;\n",
              "    }\n",
              "</style>\n",
              "<table border=\"1\" class=\"dataframe\">\n",
              "  <thead>\n",
              "    <tr style=\"text-align: right;\">\n",
              "      <th></th>\n",
              "      <th>brewery_id</th>\n",
              "      <th>review_overall</th>\n",
              "      <th>review_aroma</th>\n",
              "      <th>review_appearance</th>\n",
              "      <th>review_palate</th>\n",
              "      <th>review_taste</th>\n",
              "      <th>beer_abv</th>\n",
              "      <th>beer_beerid</th>\n",
              "    </tr>\n",
              "  </thead>\n",
              "  <tbody>\n",
              "    <tr>\n",
              "      <th>brewery_id</th>\n",
              "      <td>1.000000</td>\n",
              "      <td>-0.003749</td>\n",
              "      <td>0.034198</td>\n",
              "      <td>0.009777</td>\n",
              "      <td>0.007349</td>\n",
              "      <td>0.005494</td>\n",
              "      <td>0.077822</td>\n",
              "      <td>0.460838</td>\n",
              "    </tr>\n",
              "    <tr>\n",
              "      <th>review_overall</th>\n",
              "      <td>-0.003749</td>\n",
              "      <td>1.000000</td>\n",
              "      <td>0.595280</td>\n",
              "      <td>0.475798</td>\n",
              "      <td>0.686437</td>\n",
              "      <td>0.779704</td>\n",
              "      <td>0.111802</td>\n",
              "      <td>0.007011</td>\n",
              "    </tr>\n",
              "    <tr>\n",
              "      <th>review_aroma</th>\n",
              "      <td>0.034198</td>\n",
              "      <td>0.595280</td>\n",
              "      <td>1.000000</td>\n",
              "      <td>0.532570</td>\n",
              "      <td>0.590504</td>\n",
              "      <td>0.697554</td>\n",
              "      <td>0.312657</td>\n",
              "      <td>0.089894</td>\n",
              "    </tr>\n",
              "    <tr>\n",
              "      <th>review_appearance</th>\n",
              "      <td>0.009777</td>\n",
              "      <td>0.475798</td>\n",
              "      <td>0.532570</td>\n",
              "      <td>1.000000</td>\n",
              "      <td>0.539759</td>\n",
              "      <td>0.517960</td>\n",
              "      <td>0.237579</td>\n",
              "      <td>0.066183</td>\n",
              "    </tr>\n",
              "    <tr>\n",
              "      <th>review_palate</th>\n",
              "      <td>0.007349</td>\n",
              "      <td>0.686437</td>\n",
              "      <td>0.590504</td>\n",
              "      <td>0.539759</td>\n",
              "      <td>1.000000</td>\n",
              "      <td>0.715339</td>\n",
              "      <td>0.258309</td>\n",
              "      <td>0.057766</td>\n",
              "    </tr>\n",
              "    <tr>\n",
              "      <th>review_taste</th>\n",
              "      <td>0.005494</td>\n",
              "      <td>0.779704</td>\n",
              "      <td>0.697554</td>\n",
              "      <td>0.517960</td>\n",
              "      <td>0.715339</td>\n",
              "      <td>1.000000</td>\n",
              "      <td>0.265377</td>\n",
              "      <td>0.042048</td>\n",
              "    </tr>\n",
              "    <tr>\n",
              "      <th>beer_abv</th>\n",
              "      <td>0.077822</td>\n",
              "      <td>0.111802</td>\n",
              "      <td>0.312657</td>\n",
              "      <td>0.237579</td>\n",
              "      <td>0.258309</td>\n",
              "      <td>0.265377</td>\n",
              "      <td>1.000000</td>\n",
              "      <td>0.246182</td>\n",
              "    </tr>\n",
              "    <tr>\n",
              "      <th>beer_beerid</th>\n",
              "      <td>0.460838</td>\n",
              "      <td>0.007011</td>\n",
              "      <td>0.089894</td>\n",
              "      <td>0.066183</td>\n",
              "      <td>0.057766</td>\n",
              "      <td>0.042048</td>\n",
              "      <td>0.246182</td>\n",
              "      <td>1.000000</td>\n",
              "    </tr>\n",
              "  </tbody>\n",
              "</table>\n",
              "</div>\n",
              "      <button class=\"colab-df-convert\" onclick=\"convertToInteractive('df-c4475669-133d-49cd-80ca-c2f6ae31f606')\"\n",
              "              title=\"Convert this dataframe to an interactive table.\"\n",
              "              style=\"display:none;\">\n",
              "        \n",
              "  <svg xmlns=\"http://www.w3.org/2000/svg\" height=\"24px\"viewBox=\"0 0 24 24\"\n",
              "       width=\"24px\">\n",
              "    <path d=\"M0 0h24v24H0V0z\" fill=\"none\"/>\n",
              "    <path d=\"M18.56 5.44l.94 2.06.94-2.06 2.06-.94-2.06-.94-.94-2.06-.94 2.06-2.06.94zm-11 1L8.5 8.5l.94-2.06 2.06-.94-2.06-.94L8.5 2.5l-.94 2.06-2.06.94zm10 10l.94 2.06.94-2.06 2.06-.94-2.06-.94-.94-2.06-.94 2.06-2.06.94z\"/><path d=\"M17.41 7.96l-1.37-1.37c-.4-.4-.92-.59-1.43-.59-.52 0-1.04.2-1.43.59L10.3 9.45l-7.72 7.72c-.78.78-.78 2.05 0 2.83L4 21.41c.39.39.9.59 1.41.59.51 0 1.02-.2 1.41-.59l7.78-7.78 2.81-2.81c.8-.78.8-2.07 0-2.86zM5.41 20L4 18.59l7.72-7.72 1.47 1.35L5.41 20z\"/>\n",
              "  </svg>\n",
              "      </button>\n",
              "      \n",
              "  <style>\n",
              "    .colab-df-container {\n",
              "      display:flex;\n",
              "      flex-wrap:wrap;\n",
              "      gap: 12px;\n",
              "    }\n",
              "\n",
              "    .colab-df-convert {\n",
              "      background-color: #E8F0FE;\n",
              "      border: none;\n",
              "      border-radius: 50%;\n",
              "      cursor: pointer;\n",
              "      display: none;\n",
              "      fill: #1967D2;\n",
              "      height: 32px;\n",
              "      padding: 0 0 0 0;\n",
              "      width: 32px;\n",
              "    }\n",
              "\n",
              "    .colab-df-convert:hover {\n",
              "      background-color: #E2EBFA;\n",
              "      box-shadow: 0px 1px 2px rgba(60, 64, 67, 0.3), 0px 1px 3px 1px rgba(60, 64, 67, 0.15);\n",
              "      fill: #174EA6;\n",
              "    }\n",
              "\n",
              "    [theme=dark] .colab-df-convert {\n",
              "      background-color: #3B4455;\n",
              "      fill: #D2E3FC;\n",
              "    }\n",
              "\n",
              "    [theme=dark] .colab-df-convert:hover {\n",
              "      background-color: #434B5C;\n",
              "      box-shadow: 0px 1px 3px 1px rgba(0, 0, 0, 0.15);\n",
              "      filter: drop-shadow(0px 1px 2px rgba(0, 0, 0, 0.3));\n",
              "      fill: #FFFFFF;\n",
              "    }\n",
              "  </style>\n",
              "\n",
              "      <script>\n",
              "        const buttonEl =\n",
              "          document.querySelector('#df-c4475669-133d-49cd-80ca-c2f6ae31f606 button.colab-df-convert');\n",
              "        buttonEl.style.display =\n",
              "          google.colab.kernel.accessAllowed ? 'block' : 'none';\n",
              "\n",
              "        async function convertToInteractive(key) {\n",
              "          const element = document.querySelector('#df-c4475669-133d-49cd-80ca-c2f6ae31f606');\n",
              "          const dataTable =\n",
              "            await google.colab.kernel.invokeFunction('convertToInteractive',\n",
              "                                                     [key], {});\n",
              "          if (!dataTable) return;\n",
              "\n",
              "          const docLinkHtml = 'Like what you see? Visit the ' +\n",
              "            '<a target=\"_blank\" href=https://colab.research.google.com/notebooks/data_table.ipynb>data table notebook</a>'\n",
              "            + ' to learn more about interactive tables.';\n",
              "          element.innerHTML = '';\n",
              "          dataTable['output_type'] = 'display_data';\n",
              "          await google.colab.output.renderOutput(dataTable, element);\n",
              "          const docLink = document.createElement('div');\n",
              "          docLink.innerHTML = docLinkHtml;\n",
              "          element.appendChild(docLink);\n",
              "        }\n",
              "      </script>\n",
              "    </div>\n",
              "  </div>\n",
              "  "
            ]
          },
          "metadata": {},
          "execution_count": 11
        }
      ]
    },
    {
      "cell_type": "code",
      "source": [
        "corr = df.corr()\n",
        "plt.figure(figsize=(9,7))\n",
        "sns.heatmap(corr, cbar = True,  square = True, annot=True, fmt= '.2f',annot_kws={'size': 12},\n",
        "           xticklabels= corr, yticklabels= corr,\n",
        "           cmap= 'coolwarm')"
      ],
      "metadata": {
        "colab": {
          "base_uri": "https://localhost:8080/",
          "height": 537
        },
        "id": "_Q94KcVykWYu",
        "outputId": "efbf72d4-90b5-4298-b6cb-c44718dc955c"
      },
      "execution_count": 12,
      "outputs": [
        {
          "output_type": "execute_result",
          "data": {
            "text/plain": [
              "<matplotlib.axes._subplots.AxesSubplot at 0x7f0671231110>"
            ]
          },
          "metadata": {},
          "execution_count": 12
        },
        {
          "output_type": "display_data",
          "data": {
            "text/plain": [
              "<Figure size 648x504 with 2 Axes>"
            ],
            "image/png": "[encoded data removed]"
          },
          "metadata": {
            "needs_background": "light"
          }
        }
      ]
    },
    {
      "cell_type": "markdown",
      "source": [
        "Para una mejor interpretación se visualiza la correlación entre atributos, dando como resultado que no existen columnas con multicolinealidad"
      ],
      "metadata": {
        "id": "Qz2nKW3gkWKR"
      }
    },
    {
      "cell_type": "markdown",
      "source": [
        "###Visualiazión de histogramas y densidad para cada variable"
      ],
      "metadata": {
        "id": "zZUwTD-TkvdJ"
      }
    },
    {
      "cell_type": "code",
      "source": [
        "df.hist(figsize=(15,12))\n",
        "plt.show()"
      ],
      "metadata": {
        "colab": {
          "base_uri": "https://localhost:8080/",
          "height": 716
        },
        "id": "1VqwFXhPkrZH",
        "outputId": "e8053468-6299-46bb-bfec-7a2e3de3323b"
      },
      "execution_count": 13,
      "outputs": [
        {
          "output_type": "display_data",
          "data": {
            "text/plain": [
              "<Figure size 1080x864 with 9 Axes>"
            ],
            "image/png": "[encoded data removed]"
          },
          "metadata": {
            "needs_background": "light"
          }
        }
      ]
    },
    {
      "cell_type": "markdown",
      "source": [
        "##Reducción de la dimensionalidad\n",
        "###Proceso de decodificación de datos"
      ],
      "metadata": {
        "id": "HgM2v7N1c36Z"
      }
    },
    {
      "cell_type": "code",
      "source": [
        "from sklearn.preprocessing import LabelEncoder, StandardScaler\n",
        "from sklearn.decomposition import PCA\n",
        "from sklearn.model_selection import train_test_split"
      ],
      "metadata": {
        "id": "2sppMOBkc8HO"
      },
      "execution_count": 14,
      "outputs": []
    },
    {
      "cell_type": "code",
      "source": [
        "labelEncoder = LabelEncoder()\n",
        "df[\"beer_name\"] = labelEncoder.fit_transform(df[\"beer_name\"])\n",
        "df[\"beer_style\"] = labelEncoder.fit_transform(df[\"beer_style\"])\n",
        "df[\"review_profilename\"] = labelEncoder.fit_transform(df[\"review_profilename\"])\n",
        "df[\"brewery_name\"] = labelEncoder.fit_transform(df[\"brewery_name\"])"
      ],
      "metadata": {
        "id": "C7KQY6lj4L4k"
      },
      "execution_count": 15,
      "outputs": []
    },
    {
      "cell_type": "markdown",
      "source": [
        "###Verificación de valores atípicos utilizando box plot"
      ],
      "metadata": {
        "id": "UT-tplcE6XPP"
      }
    },
    {
      "cell_type": "code",
      "source": [
        "plt.figure(figsize = (20, 8))\n",
        "sns.boxplot(data = df, width = 0.8)\n",
        "plt.show()"
      ],
      "metadata": {
        "colab": {
          "base_uri": "https://localhost:8080/",
          "height": 484
        },
        "id": "oOAJxfwo6WN-",
        "outputId": "d6d5bec8-38c7-457b-883b-0dda086b8990"
      },
      "execution_count": 16,
      "outputs": [
        {
          "output_type": "display_data",
          "data": {
            "text/plain": [
              "<Figure size 1440x576 with 1 Axes>"
            ],
            "image/png": "[encoded data removed]"
          },
          "metadata": {
            "needs_background": "light"
          }
        }
      ]
    },
    {
      "cell_type": "code",
      "source": [
        "df.hist(figsize=(20,15))\n",
        "plt.show()"
      ],
      "metadata": {
        "colab": {
          "base_uri": "https://localhost:8080/",
          "height": 879
        },
        "id": "_QrfT91x9UBI",
        "outputId": "77b0c994-436d-4762-929a-7c7717c3ac9f"
      },
      "execution_count": 17,
      "outputs": [
        {
          "output_type": "display_data",
          "data": {
            "text/plain": [
              "<Figure size 1440x1080 with 16 Axes>"
            ],
            "image/png": "[encoded data removed]"
          },
          "metadata": {
            "needs_background": "light"
          }
        }
      ]
    },
    {
      "cell_type": "markdown",
      "source": [
        "###Eliminación de columnas innecesarias"
      ],
      "metadata": {
        "id": "lt70iEtHPGAU"
      }
    },
    {
      "cell_type": "code",
      "source": [
        "df = df.drop(columns = 'brewery_id', axis = 1)\n",
        "df = df.drop(columns = 'review_time', axis = 1)\n",
        "df = df.drop(columns = 'review_profilename', axis = 1)\n",
        "df = df.drop(columns = 'beer_beerid', axis = 1)\n",
        "df"
      ],
      "metadata": {
        "id": "Xyu0nZjM-cmj",
        "colab": {
          "base_uri": "https://localhost:8080/",
          "height": 424
        },
        "outputId": "baebbc45-4466-4126-b225-260edf1bd878"
      },
      "execution_count": 18,
      "outputs": [
        {
          "output_type": "execute_result",
          "data": {
            "text/plain": [
              "        brewery_name  review_overall  review_aroma  review_appearance  \\\n",
              "136263          2059             5.0           4.5                4.5   \n",
              "49055           2394             5.0           4.0                4.5   \n",
              "781379          2412             5.0           4.5                4.5   \n",
              "712593           924             5.0           4.5                4.0   \n",
              "431158          1518             5.0           4.5                4.0   \n",
              "...              ...             ...           ...                ...   \n",
              "653726          2141             0.0           2.0                0.0   \n",
              "37234            950             0.0           2.0                0.0   \n",
              "653740          2141             0.0           2.0                0.0   \n",
              "653695          2141             0.0           2.0                0.0   \n",
              "39648            950             0.0           4.0                0.0   \n",
              "\n",
              "        beer_style  review_palate  review_taste  beer_name  beer_abv  \n",
              "136263          11            5.0           5.0      15589      10.0  \n",
              "49055           81            4.5           4.5      20548       5.0  \n",
              "781379           7            4.0           4.5       5302       5.1  \n",
              "712593          12            4.5           4.0       5949       6.0  \n",
              "431158          37            5.0           5.0       1041       7.1  \n",
              "...            ...            ...           ...        ...       ...  \n",
              "653726          61            3.0           1.5      17567       4.0  \n",
              "37234           36            3.0           2.0      17002       4.0  \n",
              "653740          40            2.5           2.0      17559       4.0  \n",
              "653695          65            2.5           2.0      17557       4.0  \n",
              "39648           67            2.0           2.0      12714       4.0  \n",
              "\n",
              "[824468 rows x 9 columns]"
            ],
            "text/html": [
              "\n",
              "  <div id=\"df-8d56dcb7-9855-4157-a5d6-29d1d76a7f62\">\n",
              "    <div class=\"colab-df-container\">\n",
              "      <div>\n",
              "<style scoped>\n",
              "    .dataframe tbody tr th:only-of-type {\n",
              "        vertical-align: middle;\n",
              "    }\n",
              "\n",
              "    .dataframe tbody tr th {\n",
              "        vertical-align: top;\n",
              "    }\n",
              "\n",
              "    .dataframe thead th {\n",
              "        text-align: right;\n",
              "    }\n",
              "</style>\n",
              "<table border=\"1\" class=\"dataframe\">\n",
              "  <thead>\n",
              "    <tr style=\"text-align: right;\">\n",
              "      <th></th>\n",
              "      <th>brewery_name</th>\n",
              "      <th>review_overall</th>\n",
              "      <th>review_aroma</th>\n",
              "      <th>review_appearance</th>\n",
              "      <th>beer_style</th>\n",
              "      <th>review_palate</th>\n",
              "      <th>review_taste</th>\n",
              "      <th>beer_name</th>\n",
              "      <th>beer_abv</th>\n",
              "    </tr>\n",
              "  </thead>\n",
              "  <tbody>\n",
              "    <tr>\n",
              "      <th>136263</th>\n",
              "      <td>2059</td>\n",
              "      <td>5.0</td>\n",
              "      <td>4.5</td>\n",
              "      <td>4.5</td>\n",
              "      <td>11</td>\n",
              "      <td>5.0</td>\n",
              "      <td>5.0</td>\n",
              "      <td>15589</td>\n",
              "      <td>10.0</td>\n",
              "    </tr>\n",
              "    <tr>\n",
              "      <th>49055</th>\n",
              "      <td>2394</td>\n",
              "      <td>5.0</td>\n",
              "      <td>4.0</td>\n",
              "      <td>4.5</td>\n",
              "      <td>81</td>\n",
              "      <td>4.5</td>\n",
              "      <td>4.5</td>\n",
              "      <td>20548</td>\n",
              "      <td>5.0</td>\n",
              "    </tr>\n",
              "    <tr>\n",
              "      <th>781379</th>\n",
              "      <td>2412</td>\n",
              "      <td>5.0</td>\n",
              "      <td>4.5</td>\n",
              "      <td>4.5</td>\n",
              "      <td>7</td>\n",
              "      <td>4.0</td>\n",
              "      <td>4.5</td>\n",
              "      <td>5302</td>\n",
              "      <td>5.1</td>\n",
              "    </tr>\n",
              "    <tr>\n",
              "      <th>712593</th>\n",
              "      <td>924</td>\n",
              "      <td>5.0</td>\n",
              "      <td>4.5</td>\n",
              "      <td>4.0</td>\n",
              "      <td>12</td>\n",
              "      <td>4.5</td>\n",
              "      <td>4.0</td>\n",
              "      <td>5949</td>\n",
              "      <td>6.0</td>\n",
              "    </tr>\n",
              "    <tr>\n",
              "      <th>431158</th>\n",
              "      <td>1518</td>\n",
              "      <td>5.0</td>\n",
              "      <td>4.5</td>\n",
              "      <td>4.0</td>\n",
              "      <td>37</td>\n",
              "      <td>5.0</td>\n",
              "      <td>5.0</td>\n",
              "      <td>1041</td>\n",
              "      <td>7.1</td>\n",
              "    </tr>\n",
              "    <tr>\n",
              "      <th>...</th>\n",
              "      <td>...</td>\n",
              "      <td>...</td>\n",
              "      <td>...</td>\n",
              "      <td>...</td>\n",
              "      <td>...</td>\n",
              "      <td>...</td>\n",
              "      <td>...</td>\n",
              "      <td>...</td>\n",
              "      <td>...</td>\n",
              "    </tr>\n",
              "    <tr>\n",
              "      <th>653726</th>\n",
              "      <td>2141</td>\n",
              "      <td>0.0</td>\n",
              "      <td>2.0</td>\n",
              "      <td>0.0</td>\n",
              "      <td>61</td>\n",
              "      <td>3.0</td>\n",
              "      <td>1.5</td>\n",
              "      <td>17567</td>\n",
              "      <td>4.0</td>\n",
              "    </tr>\n",
              "    <tr>\n",
              "      <th>37234</th>\n",
              "      <td>950</td>\n",
              "      <td>0.0</td>\n",
              "      <td>2.0</td>\n",
              "      <td>0.0</td>\n",
              "      <td>36</td>\n",
              "      <td>3.0</td>\n",
              "      <td>2.0</td>\n",
              "      <td>17002</td>\n",
              "      <td>4.0</td>\n",
              "    </tr>\n",
              "    <tr>\n",
              "      <th>653740</th>\n",
              "      <td>2141</td>\n",
              "      <td>0.0</td>\n",
              "      <td>2.0</td>\n",
              "      <td>0.0</td>\n",
              "      <td>40</td>\n",
              "      <td>2.5</td>\n",
              "      <td>2.0</td>\n",
              "      <td>17559</td>\n",
              "      <td>4.0</td>\n",
              "    </tr>\n",
              "    <tr>\n",
              "      <th>653695</th>\n",
              "      <td>2141</td>\n",
              "      <td>0.0</td>\n",
              "      <td>2.0</td>\n",
              "      <td>0.0</td>\n",
              "      <td>65</td>\n",
              "      <td>2.5</td>\n",
              "      <td>2.0</td>\n",
              "      <td>17557</td>\n",
              "      <td>4.0</td>\n",
              "    </tr>\n",
              "    <tr>\n",
              "      <th>39648</th>\n",
              "      <td>950</td>\n",
              "      <td>0.0</td>\n",
              "      <td>4.0</td>\n",
              "      <td>0.0</td>\n",
              "      <td>67</td>\n",
              "      <td>2.0</td>\n",
              "      <td>2.0</td>\n",
              "      <td>12714</td>\n",
              "      <td>4.0</td>\n",
              "    </tr>\n",
              "  </tbody>\n",
              "</table>\n",
              "<p>824468 rows × 9 columns</p>\n",
              "</div>\n",
              "      <button class=\"colab-df-convert\" onclick=\"convertToInteractive('df-8d56dcb7-9855-4157-a5d6-29d1d76a7f62')\"\n",
              "              title=\"Convert this dataframe to an interactive table.\"\n",
              "              style=\"display:none;\">\n",
              "        \n",
              "  <svg xmlns=\"http://www.w3.org/2000/svg\" height=\"24px\"viewBox=\"0 0 24 24\"\n",
              "       width=\"24px\">\n",
              "    <path d=\"M0 0h24v24H0V0z\" fill=\"none\"/>\n",
              "    <path d=\"M18.56 5.44l.94 2.06.94-2.06 2.06-.94-2.06-.94-.94-2.06-.94 2.06-2.06.94zm-11 1L8.5 8.5l.94-2.06 2.06-.94-2.06-.94L8.5 2.5l-.94 2.06-2.06.94zm10 10l.94 2.06.94-2.06 2.06-.94-2.06-.94-.94-2.06-.94 2.06-2.06.94z\"/><path d=\"M17.41 7.96l-1.37-1.37c-.4-.4-.92-.59-1.43-.59-.52 0-1.04.2-1.43.59L10.3 9.45l-7.72 7.72c-.78.78-.78 2.05 0 2.83L4 21.41c.39.39.9.59 1.41.59.51 0 1.02-.2 1.41-.59l7.78-7.78 2.81-2.81c.8-.78.8-2.07 0-2.86zM5.41 20L4 18.59l7.72-7.72 1.47 1.35L5.41 20z\"/>\n",
              "  </svg>\n",
              "      </button>\n",
              "      \n",
              "  <style>\n",
              "    .colab-df-container {\n",
              "      display:flex;\n",
              "      flex-wrap:wrap;\n",
              "      gap: 12px;\n",
              "    }\n",
              "\n",
              "    .colab-df-convert {\n",
              "      background-color: #E8F0FE;\n",
              "      border: none;\n",
              "      border-radius: 50%;\n",
              "      cursor: pointer;\n",
              "      display: none;\n",
              "      fill: #1967D2;\n",
              "      height: 32px;\n",
              "      padding: 0 0 0 0;\n",
              "      width: 32px;\n",
              "    }\n",
              "\n",
              "    .colab-df-convert:hover {\n",
              "      background-color: #E2EBFA;\n",
              "      box-shadow: 0px 1px 2px rgba(60, 64, 67, 0.3), 0px 1px 3px 1px rgba(60, 64, 67, 0.15);\n",
              "      fill: #174EA6;\n",
              "    }\n",
              "\n",
              "    [theme=dark] .colab-df-convert {\n",
              "      background-color: #3B4455;\n",
              "      fill: #D2E3FC;\n",
              "    }\n",
              "\n",
              "    [theme=dark] .colab-df-convert:hover {\n",
              "      background-color: #434B5C;\n",
              "      box-shadow: 0px 1px 3px 1px rgba(0, 0, 0, 0.15);\n",
              "      filter: drop-shadow(0px 1px 2px rgba(0, 0, 0, 0.3));\n",
              "      fill: #FFFFFF;\n",
              "    }\n",
              "  </style>\n",
              "\n",
              "      <script>\n",
              "        const buttonEl =\n",
              "          document.querySelector('#df-8d56dcb7-9855-4157-a5d6-29d1d76a7f62 button.colab-df-convert');\n",
              "        buttonEl.style.display =\n",
              "          google.colab.kernel.accessAllowed ? 'block' : 'none';\n",
              "\n",
              "        async function convertToInteractive(key) {\n",
              "          const element = document.querySelector('#df-8d56dcb7-9855-4157-a5d6-29d1d76a7f62');\n",
              "          const dataTable =\n",
              "            await google.colab.kernel.invokeFunction('convertToInteractive',\n",
              "                                                     [key], {});\n",
              "          if (!dataTable) return;\n",
              "\n",
              "          const docLinkHtml = 'Like what you see? Visit the ' +\n",
              "            '<a target=\"_blank\" href=https://colab.research.google.com/notebooks/data_table.ipynb>data table notebook</a>'\n",
              "            + ' to learn more about interactive tables.';\n",
              "          element.innerHTML = '';\n",
              "          dataTable['output_type'] = 'display_data';\n",
              "          await google.colab.output.renderOutput(dataTable, element);\n",
              "          const docLink = document.createElement('div');\n",
              "          docLink.innerHTML = docLinkHtml;\n",
              "          element.appendChild(docLink);\n",
              "        }\n",
              "      </script>\n",
              "    </div>\n",
              "  </div>\n",
              "  "
            ]
          },
          "metadata": {},
          "execution_count": 18
        }
      ]
    },
    {
      "cell_type": "markdown",
      "source": [
        "Utilizaremos la variable 'review_overall' como target, por tanto se requiere convertir los datos, todo número >= 4 asumirá el valor de 1, para todo número < 4 asumirá el valor de 0"
      ],
      "metadata": {
        "id": "Y-9fmHeuBHA7"
      }
    },
    {
      "cell_type": "code",
      "source": [
        "sns.countplot(df['review_overall'],label=\"Count\")"
      ],
      "metadata": {
        "colab": {
          "base_uri": "https://localhost:8080/",
          "height": 297
        },
        "id": "nYS_wVGlr3xL",
        "outputId": "ce53ae06-eb88-443b-930c-0b540bded2aa"
      },
      "execution_count": 19,
      "outputs": [
        {
          "output_type": "execute_result",
          "data": {
            "text/plain": [
              "<matplotlib.axes._subplots.AxesSubplot at 0x7f066e0c0e10>"
            ]
          },
          "metadata": {},
          "execution_count": 19
        },
        {
          "output_type": "display_data",
          "data": {
            "text/plain": [
              "<Figure size 432x288 with 1 Axes>"
            ],
            "image/png": "[encoded data removed]"
          },
          "metadata": {
            "needs_background": "light"
          }
        }
      ]
    },
    {
      "cell_type": "code",
      "source": [
        "df['review_overall']=df['review_overall'].map({4.0:1, 4.5:1, 5.0:1, 3.5:0, 3.0:0, 2.5:0, 2.0:0 ,1.5:0, 1.0:0, 0.0:0})\n",
        "sns.countplot(df['review_overall'],label=\"Count\")"
      ],
      "metadata": {
        "colab": {
          "base_uri": "https://localhost:8080/",
          "height": 297
        },
        "id": "oHj50JBm6THM",
        "outputId": "b6beecee-a61d-45a8-de35-8d7e4aeeb0dd"
      },
      "execution_count": 20,
      "outputs": [
        {
          "output_type": "execute_result",
          "data": {
            "text/plain": [
              "<matplotlib.axes._subplots.AxesSubplot at 0x7f066f2f2e50>"
            ]
          },
          "metadata": {},
          "execution_count": 20
        },
        {
          "output_type": "display_data",
          "data": {
            "text/plain": [
              "<Figure size 432x288 with 1 Axes>"
            ],
            "image/png": "[encoded data removed]"
          },
          "metadata": {
            "needs_background": "light"
          }
        }
      ]
    },
    {
      "cell_type": "markdown",
      "source": [
        "###Escalamiento de datos\n",
        "Es importante eliminar valores atípicos en los datos y trabajar a una misma escala."
      ],
      "metadata": {
        "id": "nk9SmrKm6mSL"
      }
    },
    {
      "cell_type": "code",
      "source": [
        "from sklearn.metrics import mean_squared_error,r2_score\n",
        "from sklearn.preprocessing import StandardScaler\n",
        "import seaborn as sns\n",
        "\n",
        "X = df.drop(columns = 'review_overall', axis = 1)\n",
        "y = df['review_overall']\n",
        "\n",
        "scaler = StandardScaler()\n",
        "X_scaled = scaler.fit_transform(X)"
      ],
      "metadata": {
        "id": "RvwfHCTo6l-b"
      },
      "execution_count": 21,
      "outputs": []
    },
    {
      "cell_type": "code",
      "source": [
        "df.var(axis=0)"
      ],
      "metadata": {
        "id": "myCOdA8S7Ryk",
        "colab": {
          "base_uri": "https://localhost:8080/"
        },
        "outputId": "6d0b1335-3d7b-4f3e-aaa1-d7f34a83855f"
      },
      "execution_count": 22,
      "outputs": [
        {
          "output_type": "execute_result",
          "data": {
            "text/plain": [
              "brewery_name         6.924426e+05\n",
              "review_overall       2.299946e-01\n",
              "review_aroma         4.545097e-01\n",
              "review_appearance    3.545127e-01\n",
              "beer_style           1.108906e+03\n",
              "review_palate        4.337278e-01\n",
              "review_taste         5.001589e-01\n",
              "beer_name            4.625348e+07\n",
              "beer_abv             5.441326e+00\n",
              "dtype: float64"
            ]
          },
          "metadata": {},
          "execution_count": 22
        }
      ]
    },
    {
      "cell_type": "markdown",
      "source": [
        "Se solicita al usuario elegir el porcentaje de entrenamiento para el clasificador."
      ],
      "metadata": {
        "id": "HjP8gfqJDDre"
      }
    },
    {
      "cell_type": "code",
      "source": [
        "#@title Seleccione el procentaje de entrenamiento { run: \"auto\" }\n",
        "test_size1 = 0.3 #@param {type:\"slider\", min:0, max:1, step:0.1}\n",
        "from sklearn.model_selection import train_test_split\n",
        "X_train, X_test, y_train, y_test = train_test_split(X_scaled, y, test_size = test_size1, random_state = 0)\n",
        "print('Son {} datos para entrenamiento y {} datos para prueba'.format(X_train.shape[0], X_test.shape[0]))"
      ],
      "metadata": {
        "colab": {
          "base_uri": "https://localhost:8080/"
        },
        "id": "uvvIB2apl8BO",
        "outputId": "3a828481-3b6c-4b37-cedc-02252489c5f0"
      },
      "execution_count": 23,
      "outputs": [
        {
          "output_type": "stream",
          "name": "stdout",
          "text": [
            "Son 577127 datos para entrenamiento y 247341 datos para prueba\n"
          ]
        }
      ]
    },
    {
      "cell_type": "markdown",
      "source": [
        "###Clasificador KNN vecinos más cercanos"
      ],
      "metadata": {
        "id": "EnFf_KyKDPpN"
      }
    },
    {
      "cell_type": "code",
      "source": [
        "from sklearn import neighbors\n",
        "from sklearn import metrics\n",
        "from sklearn.metrics import accuracy_score, confusion_matrix, classification_report\n",
        "knn = neighbors.KNeighborsClassifier(n_neighbors=10)\n",
        "knn.fit(X_train, y_train)\n",
        "prediction = knn.predict(X_test)\n",
        "print('Precisión Vecinos más Cercanos: {}'.format(metrics.accuracy_score(prediction,y_test)))\n",
        "print(metrics.confusion_matrix(y_test, prediction, labels=[0, 1]))\n",
        "print(metrics.classification_report(y_test, prediction, labels=[0, 1]))\n",
        "cm = confusion_matrix(y_test, prediction , labels=[0, 1])\n",
        "ax= plt.subplot()\n",
        "sns.heatmap(cm, annot=True, ax= ax)\n",
        "ax.set_ylabel('y_test')\n",
        "ax.set_xlabel('Y_pred')"
      ],
      "metadata": {
        "colab": {
          "base_uri": "https://localhost:8080/",
          "height": 506
        },
        "id": "13syDsdpCGCg",
        "outputId": "fc21bae2-b758-41b0-f7e3-4dff74d07004"
      },
      "execution_count": 24,
      "outputs": [
        {
          "output_type": "stream",
          "name": "stdout",
          "text": [
            "Precisión Vecinos más Cercanos: 0.8247763209496202\n",
            "[[ 66549  22078]\n",
            " [ 21262 137452]]\n",
            "              precision    recall  f1-score   support\n",
            "\n",
            "           0       0.76      0.75      0.75     88627\n",
            "           1       0.86      0.87      0.86    158714\n",
            "\n",
            "    accuracy                           0.82    247341\n",
            "   macro avg       0.81      0.81      0.81    247341\n",
            "weighted avg       0.82      0.82      0.82    247341\n",
            "\n"
          ]
        },
        {
          "output_type": "execute_result",
          "data": {
            "text/plain": [
              "Text(0.5, 15.0, 'Y_pred')"
            ]
          },
          "metadata": {},
          "execution_count": 24
        },
        {
          "output_type": "display_data",
          "data": {
            "text/plain": [
              "<Figure size 432x288 with 2 Axes>"
            ],
            "image/png": "[encoded data removed]"
          },
          "metadata": {
            "needs_background": "light"
          }
        }
      ]
    },
    {
      "cell_type": "markdown",
      "source": [
        "###LinearRegression"
      ],
      "metadata": {
        "id": "zOwITGpjDVfy"
      }
    },
    {
      "cell_type": "code",
      "source": [
        "from sklearn.linear_model import LinearRegression\n",
        "lr = LinearRegression()\n",
        "lr.fit(X_train, y_train)\n",
        "lr.score(X_train, y_train)"
      ],
      "metadata": {
        "colab": {
          "base_uri": "https://localhost:8080/"
        },
        "id": "LOn5UfchqMd3",
        "outputId": "9a1a08bc-4807-4329-b127-53703953399b"
      },
      "execution_count": 25,
      "outputs": [
        {
          "output_type": "execute_result",
          "data": {
            "text/plain": [
              "0.4182479473894941"
            ]
          },
          "metadata": {},
          "execution_count": 25
        }
      ]
    },
    {
      "cell_type": "code",
      "source": [
        "lr.score(X_test, y_test)"
      ],
      "metadata": {
        "colab": {
          "base_uri": "https://localhost:8080/"
        },
        "id": "fPUxTZhmqWZ4",
        "outputId": "76a2af4c-9c11-481e-f756-43b6067ff0c7"
      },
      "execution_count": 26,
      "outputs": [
        {
          "output_type": "execute_result",
          "data": {
            "text/plain": [
              "0.4157490314322162"
            ]
          },
          "metadata": {},
          "execution_count": 26
        }
      ]
    },
    {
      "cell_type": "code",
      "source": [
        "y_pred = lr.predict(X_test)\n",
        "print(f'MSE:{mean_squared_error(y_test,y_pred)} RMSE:{np.sqrt(mean_squared_error(y_test,y_pred))} r2:{r2_score(y_test,y_pred)}')"
      ],
      "metadata": {
        "colab": {
          "base_uri": "https://localhost:8080/"
        },
        "id": "lm8Vi9j6qY86",
        "outputId": "41075862-8ce9-4f4b-fd7c-54a39f745d0e"
      },
      "execution_count": 27,
      "outputs": [
        {
          "output_type": "stream",
          "name": "stdout",
          "text": [
            "MSE:0.13433479049319352 RMSE:0.3665171080498065 r2:0.4157490314322162\n"
          ]
        }
      ]
    },
    {
      "cell_type": "markdown",
      "source": [
        "¿Como influye cada variable?"
      ],
      "metadata": {
        "id": "QYdE3H4tqazY"
      }
    },
    {
      "cell_type": "code",
      "source": [
        "coef = pd.Series(data=np.round(lr.coef_,2),index = X.columns)\n",
        "coef.sort_values(ascending=False)"
      ],
      "metadata": {
        "colab": {
          "base_uri": "https://localhost:8080/"
        },
        "id": "Pnse0F1Iqbe7",
        "outputId": "a2f56cbb-717d-4241-871c-e5ed0442b9c2"
      },
      "execution_count": 28,
      "outputs": [
        {
          "output_type": "execute_result",
          "data": {
            "text/plain": [
              "review_taste         0.21\n",
              "review_palate        0.10\n",
              "review_aroma         0.03\n",
              "review_appearance    0.01\n",
              "brewery_name         0.00\n",
              "beer_name            0.00\n",
              "beer_style          -0.01\n",
              "beer_abv            -0.04\n",
              "dtype: float64"
            ]
          },
          "metadata": {},
          "execution_count": 28
        }
      ]
    },
    {
      "cell_type": "markdown",
      "source": [
        "Como podemos observar la dimensionalidad del dataset influye en la precisión de los modelos de clasificación, aplicaremos PCA para reducir el dataset"
      ],
      "metadata": {
        "id": "DZ_i1MsiDr7t"
      }
    },
    {
      "cell_type": "markdown",
      "source": [
        "###PCA\n",
        "Principal Component Analysis (PCA) es un método estadístico que permite simplificar la complejidad de espacios muestrales con muchas dimensiones a la vez que conserva su información"
      ],
      "metadata": {
        "id": "kswjRbXQSS-U"
      }
    },
    {
      "cell_type": "code",
      "source": [
        "from sklearn.decomposition import PCA\n",
        "from sklearn.pipeline import make_pipeline\n",
        "\n",
        "pca_pipe = make_pipeline(StandardScaler(), PCA())\n",
        "pca_pipe.fit(df)\n",
        "\n",
        "# Se extrae el modelo entrenado del pipeline\n",
        "modelo_pca = pca_pipe.named_steps['pca']"
      ],
      "metadata": {
        "id": "XFllPbqKSRyu"
      },
      "execution_count": 29,
      "outputs": []
    },
    {
      "cell_type": "code",
      "source": [
        "pd.DataFrame(\n",
        "    data    = modelo_pca.components_,\n",
        "    columns = df.columns,\n",
        "    index   = ['PC1', 'PC2', 'PC3', 'PC4','PC5', 'PC6', 'PC7', 'PC8', 'PC9']\n",
        ")"
      ],
      "metadata": {
        "colab": {
          "base_uri": "https://localhost:8080/",
          "height": 332
        },
        "id": "BJ8sE-nciNWr",
        "outputId": "921ba76f-1748-42c9-bd42-c3011b497cbe"
      },
      "execution_count": 30,
      "outputs": [
        {
          "output_type": "execute_result",
          "data": {
            "text/plain": [
              "     brewery_name  review_overall  review_aroma  review_appearance  \\\n",
              "PC1     -0.020314       -0.393019     -0.448563          -0.392548   \n",
              "PC2     -0.689903       -0.061197      0.010671           0.015852   \n",
              "PC3      0.297750       -0.148585      0.004095          -0.010349   \n",
              "PC4      0.007127       -0.362380      0.073761           0.066817   \n",
              "PC5      0.658092        0.003958      0.015741          -0.049118   \n",
              "PC6     -0.035348        0.500229     -0.082122          -0.790116   \n",
              "PC7      0.024038        0.514024     -0.663891           0.424778   \n",
              "PC8     -0.001644        0.380084      0.439125           0.161928   \n",
              "PC9     -0.000197        0.171656      0.390699          -0.087922   \n",
              "\n",
              "     beer_style  review_palate  review_taste  beer_name  beer_abv  \n",
              "PC1    0.022878      -0.458494     -0.480347   0.007053 -0.219767  \n",
              "PC2    0.067863      -0.011108     -0.019777  -0.696018  0.174247  \n",
              "PC3   -0.797442      -0.059933     -0.066367  -0.250158  0.427381  \n",
              "PC4    0.415122      -0.070709     -0.091205   0.265945  0.776115  \n",
              "PC5    0.428463       0.001032      0.012860  -0.616585 -0.017750  \n",
              "PC6    0.033748       0.021992      0.159900   0.044595  0.297179  \n",
              "PC7    0.041967       0.010427     -0.255698  -0.004208  0.216206  \n",
              "PC8    0.012134      -0.789147     -0.112793   0.002915  0.029168  \n",
              "PC9    0.001904       0.397142     -0.807661   0.003309 -0.010295  "
            ],
            "text/html": [
              "\n",
              "  <div id=\"df-b8e14e6a-6181-49bb-a878-0b1eca8afe5d\">\n",
              "    <div class=\"colab-df-container\">\n",
              "      <div>\n",
              "<style scoped>\n",
              "    .dataframe tbody tr th:only-of-type {\n",
              "        vertical-align: middle;\n",
              "    }\n",
              "\n",
              "    .dataframe tbody tr th {\n",
              "        vertical-align: top;\n",
              "    }\n",
              "\n",
              "    .dataframe thead th {\n",
              "        text-align: right;\n",
              "    }\n",
              "</style>\n",
              "<table border=\"1\" class=\"dataframe\">\n",
              "  <thead>\n",
              "    <tr style=\"text-align: right;\">\n",
              "      <th></th>\n",
              "      <th>brewery_name</th>\n",
              "      <th>review_overall</th>\n",
              "      <th>review_aroma</th>\n",
              "      <th>review_appearance</th>\n",
              "      <th>beer_style</th>\n",
              "      <th>review_palate</th>\n",
              "      <th>review_taste</th>\n",
              "      <th>beer_name</th>\n",
              "      <th>beer_abv</th>\n",
              "    </tr>\n",
              "  </thead>\n",
              "  <tbody>\n",
              "    <tr>\n",
              "      <th>PC1</th>\n",
              "      <td>-0.020314</td>\n",
              "      <td>-0.393019</td>\n",
              "      <td>-0.448563</td>\n",
              "      <td>-0.392548</td>\n",
              "      <td>0.022878</td>\n",
              "      <td>-0.458494</td>\n",
              "      <td>-0.480347</td>\n",
              "      <td>0.007053</td>\n",
              "      <td>-0.219767</td>\n",
              "    </tr>\n",
              "    <tr>\n",
              "      <th>PC2</th>\n",
              "      <td>-0.689903</td>\n",
              "      <td>-0.061197</td>\n",
              "      <td>0.010671</td>\n",
              "      <td>0.015852</td>\n",
              "      <td>0.067863</td>\n",
              "      <td>-0.011108</td>\n",
              "      <td>-0.019777</td>\n",
              "      <td>-0.696018</td>\n",
              "      <td>0.174247</td>\n",
              "    </tr>\n",
              "    <tr>\n",
              "      <th>PC3</th>\n",
              "      <td>0.297750</td>\n",
              "      <td>-0.148585</td>\n",
              "      <td>0.004095</td>\n",
              "      <td>-0.010349</td>\n",
              "      <td>-0.797442</td>\n",
              "      <td>-0.059933</td>\n",
              "      <td>-0.066367</td>\n",
              "      <td>-0.250158</td>\n",
              "      <td>0.427381</td>\n",
              "    </tr>\n",
              "    <tr>\n",
              "      <th>PC4</th>\n",
              "      <td>0.007127</td>\n",
              "      <td>-0.362380</td>\n",
              "      <td>0.073761</td>\n",
              "      <td>0.066817</td>\n",
              "      <td>0.415122</td>\n",
              "      <td>-0.070709</td>\n",
              "      <td>-0.091205</td>\n",
              "      <td>0.265945</td>\n",
              "      <td>0.776115</td>\n",
              "    </tr>\n",
              "    <tr>\n",
              "      <th>PC5</th>\n",
              "      <td>0.658092</td>\n",
              "      <td>0.003958</td>\n",
              "      <td>0.015741</td>\n",
              "      <td>-0.049118</td>\n",
              "      <td>0.428463</td>\n",
              "      <td>0.001032</td>\n",
              "      <td>0.012860</td>\n",
              "      <td>-0.616585</td>\n",
              "      <td>-0.017750</td>\n",
              "    </tr>\n",
              "    <tr>\n",
              "      <th>PC6</th>\n",
              "      <td>-0.035348</td>\n",
              "      <td>0.500229</td>\n",
              "      <td>-0.082122</td>\n",
              "      <td>-0.790116</td>\n",
              "      <td>0.033748</td>\n",
              "      <td>0.021992</td>\n",
              "      <td>0.159900</td>\n",
              "      <td>0.044595</td>\n",
              "      <td>0.297179</td>\n",
              "    </tr>\n",
              "    <tr>\n",
              "      <th>PC7</th>\n",
              "      <td>0.024038</td>\n",
              "      <td>0.514024</td>\n",
              "      <td>-0.663891</td>\n",
              "      <td>0.424778</td>\n",
              "      <td>0.041967</td>\n",
              "      <td>0.010427</td>\n",
              "      <td>-0.255698</td>\n",
              "      <td>-0.004208</td>\n",
              "      <td>0.216206</td>\n",
              "    </tr>\n",
              "    <tr>\n",
              "      <th>PC8</th>\n",
              "      <td>-0.001644</td>\n",
              "      <td>0.380084</td>\n",
              "      <td>0.439125</td>\n",
              "      <td>0.161928</td>\n",
              "      <td>0.012134</td>\n",
              "      <td>-0.789147</td>\n",
              "      <td>-0.112793</td>\n",
              "      <td>0.002915</td>\n",
              "      <td>0.029168</td>\n",
              "    </tr>\n",
              "    <tr>\n",
              "      <th>PC9</th>\n",
              "      <td>-0.000197</td>\n",
              "      <td>0.171656</td>\n",
              "      <td>0.390699</td>\n",
              "      <td>-0.087922</td>\n",
              "      <td>0.001904</td>\n",
              "      <td>0.397142</td>\n",
              "      <td>-0.807661</td>\n",
              "      <td>0.003309</td>\n",
              "      <td>-0.010295</td>\n",
              "    </tr>\n",
              "  </tbody>\n",
              "</table>\n",
              "</div>\n",
              "      <button class=\"colab-df-convert\" onclick=\"convertToInteractive('df-b8e14e6a-6181-49bb-a878-0b1eca8afe5d')\"\n",
              "              title=\"Convert this dataframe to an interactive table.\"\n",
              "              style=\"display:none;\">\n",
              "        \n",
              "  <svg xmlns=\"http://www.w3.org/2000/svg\" height=\"24px\"viewBox=\"0 0 24 24\"\n",
              "       width=\"24px\">\n",
              "    <path d=\"M0 0h24v24H0V0z\" fill=\"none\"/>\n",
              "    <path d=\"M18.56 5.44l.94 2.06.94-2.06 2.06-.94-2.06-.94-.94-2.06-.94 2.06-2.06.94zm-11 1L8.5 8.5l.94-2.06 2.06-.94-2.06-.94L8.5 2.5l-.94 2.06-2.06.94zm10 10l.94 2.06.94-2.06 2.06-.94-2.06-.94-.94-2.06-.94 2.06-2.06.94z\"/><path d=\"M17.41 7.96l-1.37-1.37c-.4-.4-.92-.59-1.43-.59-.52 0-1.04.2-1.43.59L10.3 9.45l-7.72 7.72c-.78.78-.78 2.05 0 2.83L4 21.41c.39.39.9.59 1.41.59.51 0 1.02-.2 1.41-.59l7.78-7.78 2.81-2.81c.8-.78.8-2.07 0-2.86zM5.41 20L4 18.59l7.72-7.72 1.47 1.35L5.41 20z\"/>\n",
              "  </svg>\n",
              "      </button>\n",
              "      \n",
              "  <style>\n",
              "    .colab-df-container {\n",
              "      display:flex;\n",
              "      flex-wrap:wrap;\n",
              "      gap: 12px;\n",
              "    }\n",
              "\n",
              "    .colab-df-convert {\n",
              "      background-color: #E8F0FE;\n",
              "      border: none;\n",
              "      border-radius: 50%;\n",
              "      cursor: pointer;\n",
              "      display: none;\n",
              "      fill: #1967D2;\n",
              "      height: 32px;\n",
              "      padding: 0 0 0 0;\n",
              "      width: 32px;\n",
              "    }\n",
              "\n",
              "    .colab-df-convert:hover {\n",
              "      background-color: #E2EBFA;\n",
              "      box-shadow: 0px 1px 2px rgba(60, 64, 67, 0.3), 0px 1px 3px 1px rgba(60, 64, 67, 0.15);\n",
              "      fill: #174EA6;\n",
              "    }\n",
              "\n",
              "    [theme=dark] .colab-df-convert {\n",
              "      background-color: #3B4455;\n",
              "      fill: #D2E3FC;\n",
              "    }\n",
              "\n",
              "    [theme=dark] .colab-df-convert:hover {\n",
              "      background-color: #434B5C;\n",
              "      box-shadow: 0px 1px 3px 1px rgba(0, 0, 0, 0.15);\n",
              "      filter: drop-shadow(0px 1px 2px rgba(0, 0, 0, 0.3));\n",
              "      fill: #FFFFFF;\n",
              "    }\n",
              "  </style>\n",
              "\n",
              "      <script>\n",
              "        const buttonEl =\n",
              "          document.querySelector('#df-b8e14e6a-6181-49bb-a878-0b1eca8afe5d button.colab-df-convert');\n",
              "        buttonEl.style.display =\n",
              "          google.colab.kernel.accessAllowed ? 'block' : 'none';\n",
              "\n",
              "        async function convertToInteractive(key) {\n",
              "          const element = document.querySelector('#df-b8e14e6a-6181-49bb-a878-0b1eca8afe5d');\n",
              "          const dataTable =\n",
              "            await google.colab.kernel.invokeFunction('convertToInteractive',\n",
              "                                                     [key], {});\n",
              "          if (!dataTable) return;\n",
              "\n",
              "          const docLinkHtml = 'Like what you see? Visit the ' +\n",
              "            '<a target=\"_blank\" href=https://colab.research.google.com/notebooks/data_table.ipynb>data table notebook</a>'\n",
              "            + ' to learn more about interactive tables.';\n",
              "          element.innerHTML = '';\n",
              "          dataTable['output_type'] = 'display_data';\n",
              "          await google.colab.output.renderOutput(dataTable, element);\n",
              "          const docLink = document.createElement('div');\n",
              "          docLink.innerHTML = docLinkHtml;\n",
              "          element.appendChild(docLink);\n",
              "        }\n",
              "      </script>\n",
              "    </div>\n",
              "  </div>\n",
              "  "
            ]
          },
          "metadata": {},
          "execution_count": 30
        }
      ]
    },
    {
      "cell_type": "code",
      "source": [
        "componentes = modelo_pca.components_\n",
        "plt.figure(figsize=(9, 7))\n",
        "sns.heatmap(componentes.T, cbar = True,  square = True, annot=True, fmt= '.2f',annot_kws={'size': 12},\n",
        "           xticklabels= np.arange(modelo_pca.n_components_) + 1, yticklabels= df.columns,\n",
        "           cmap= 'viridis')"
      ],
      "metadata": {
        "colab": {
          "base_uri": "https://localhost:8080/",
          "height": 445
        },
        "id": "nFp6AlBnjP5o",
        "outputId": "7584cf01-1385-4d09-ac57-95d8ff8e999d"
      },
      "execution_count": 31,
      "outputs": [
        {
          "output_type": "execute_result",
          "data": {
            "text/plain": [
              "<matplotlib.axes._subplots.AxesSubplot at 0x7f06710e9b50>"
            ]
          },
          "metadata": {},
          "execution_count": 31
        },
        {
          "output_type": "display_data",
          "data": {
            "text/plain": [
              "<Figure size 648x504 with 2 Axes>"
            ],
            "image/png": "[encoded data removed]"
          },
          "metadata": {
            "needs_background": "light"
          }
        }
      ]
    },
    {
      "cell_type": "code",
      "source": [
        "print('Porcentaje de varianza explicada por cada componente')\n",
        "print(modelo_pca.explained_variance_ratio_)\n",
        "\n",
        "fig, ax = plt.subplots(nrows=1, ncols=1, figsize=(6, 4))\n",
        "ax.bar(x = np.arange(modelo_pca.n_components_) + 1, height = modelo_pca.explained_variance_ratio_, color = 'peru', edgecolor  = 'crimson', label='Varianza individual explicada')\n",
        "\n",
        "for x, y in zip(np.arange(len(df.columns)) + 1, modelo_pca.explained_variance_ratio_):\n",
        "    label = round(y, 3)\n",
        "    ax.annotate(label, (x,y), textcoords=\"offset points\", xytext=(0,5), ha='center')\n",
        "\n",
        "ax.set_xticks(np.arange(modelo_pca.n_components_) + 1)\n",
        "ax.set_ylim(0, 1.1)\n",
        "ax.set_title('Porcentaje de varianza explicada por cada componente')\n",
        "ax.set_xlabel('Componente principal')\n",
        "ax.set_ylabel('% varianza explicada');"
      ],
      "metadata": {
        "colab": {
          "base_uri": "https://localhost:8080/",
          "height": 347
        },
        "id": "AKIAKxKXkMl6",
        "outputId": "6d701823-609d-4ef6-c593-03cf8767ab67"
      },
      "execution_count": 32,
      "outputs": [
        {
          "output_type": "stream",
          "name": "stdout",
          "text": [
            "Porcentaje de varianza explicada por cada componente\n",
            "[0.37648893 0.12975378 0.12135959 0.09707019 0.08848167 0.06738779\n",
            " 0.04988507 0.04304721 0.02652579]\n"
          ]
        },
        {
          "output_type": "display_data",
          "data": {
            "text/plain": [
              "<Figure size 432x288 with 1 Axes>"
            ],
            "image/png": "[encoded data removed]"
          },
          "metadata": {
            "needs_background": "light"
          }
        }
      ]
    },
    {
      "cell_type": "markdown",
      "source": [
        "Observemos el comportamiento del PCA a 2 componentes\n"
      ],
      "metadata": {
        "id": "IBnZhSP0o9_u"
      }
    },
    {
      "cell_type": "code",
      "source": [
        "pca=PCA(n_components=2)\n",
        "pca.fit(X_scaled)"
      ],
      "metadata": {
        "colab": {
          "base_uri": "https://localhost:8080/"
        },
        "id": "mbRwiJWCyTs6",
        "outputId": "6cfe55e4-ee07-4ccc-9762-322b20fb50ec"
      },
      "execution_count": 33,
      "outputs": [
        {
          "output_type": "execute_result",
          "data": {
            "text/plain": [
              "PCA(n_components=2)"
            ]
          },
          "metadata": {},
          "execution_count": 33
        }
      ]
    },
    {
      "cell_type": "code",
      "source": [
        "transformada=pca.transform(X_scaled)"
      ],
      "metadata": {
        "id": "E8RD--yyycyw"
      },
      "execution_count": 34,
      "outputs": []
    },
    {
      "cell_type": "code",
      "source": [
        "print(df.shape)\n",
        "print(transformada.shape)"
      ],
      "metadata": {
        "colab": {
          "base_uri": "https://localhost:8080/"
        },
        "id": "d372O4T8ygPz",
        "outputId": "18c663b4-d3ee-48de-8aed-d7d3698ff01b"
      },
      "execution_count": 35,
      "outputs": [
        {
          "output_type": "stream",
          "name": "stdout",
          "text": [
            "(824468, 9)\n",
            "(824468, 2)\n"
          ]
        }
      ]
    },
    {
      "cell_type": "code",
      "source": [
        "plt.figure(figsize=(8, 5))  \n",
        "plt.scatter(transformada[:,0],transformada[:,1], c=df.review_overall)\n",
        "plt.gca()\n",
        "plt.title(\"PCA, n_components = 2\")\n",
        "plt.xlabel(\"PC1\")\n",
        "plt.ylabel(\"PC2\")\n",
        "plt.show()"
      ],
      "metadata": {
        "colab": {
          "base_uri": "https://localhost:8080/",
          "height": 350
        },
        "id": "cEaLIQcMylAO",
        "outputId": "b2a1d5d8-f166-4973-e53b-a35d29c96850"
      },
      "execution_count": 36,
      "outputs": [
        {
          "output_type": "display_data",
          "data": {
            "text/plain": [
              "<Figure size 576x360 with 1 Axes>"
            ],
            "image/png": "[encoded data removed]"
          },
          "metadata": {
            "needs_background": "light"
          }
        }
      ]
    }
  ]
}